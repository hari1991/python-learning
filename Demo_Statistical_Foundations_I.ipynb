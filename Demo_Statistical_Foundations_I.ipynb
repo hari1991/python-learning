{
  "nbformat": 4,
  "nbformat_minor": 0,
  "metadata": {
    "colab": {
      "provenance": [],
      "collapsed_sections": [
        "RMjg2CqZn2vk",
        "w_hrLPW0lmB-",
        "DF8hhaAfhMwo",
        "uIOLOmnhcsEG",
        "7zPKqnXxjdHy"
      ],
      "include_colab_link": true
    },
    "kernelspec": {
      "name": "python3",
      "display_name": "Python 3"
    }
  },
  "cells": [
    {
      "cell_type": "markdown",
      "metadata": {
        "id": "view-in-github",
        "colab_type": "text"
      },
      "source": [
        "<a href=\"https://colab.research.google.com/github/hari1991/python-learning/blob/main/Demo_Statistical_Foundations_I.ipynb\" target=\"_parent\"><img src=\"https://colab.research.google.com/assets/colab-badge.svg\" alt=\"Open In Colab\"/></a>"
      ]
    },
    {
      "cell_type": "markdown",
      "metadata": {
        "id": "LGcCg_Ri55C9"
      },
      "source": [
        "#**Demo: Statistical Foundations I**"
      ]
    },
    {
      "cell_type": "markdown",
      "metadata": {
        "id": "RMjg2CqZn2vk"
      },
      "source": [
        "## **Part 1: Why Statistical Analysis is required?**"
      ]
    },
    {
      "cell_type": "markdown",
      "metadata": {
        "id": "b8ZtvI5BlFnT"
      },
      "source": [
        "###**Importing Required Libraries**"
      ]
    },
    {
      "cell_type": "code",
      "metadata": {
        "id": "Y5uo_pWwlFnV"
      },
      "source": [
        "#Importing Required Libraries\n",
        "\n",
        "import pandas as pd\n",
        "import numpy as np\n"
      ],
      "execution_count": 1,
      "outputs": []
    },
    {
      "cell_type": "code",
      "metadata": {
        "colab": {
          "base_uri": "https://localhost:8080/"
        },
        "id": "mEuaMWWgnqUj",
        "outputId": "dfc617e2-d681-4f51-a1a2-055253b9de76"
      },
      "source": [
        "!wget https://www.dropbox.com/s/755hnawo000aeaw/Placement_Data_Full_Class.csv"
      ],
      "execution_count": 2,
      "outputs": [
        {
          "output_type": "stream",
          "name": "stdout",
          "text": [
            "--2023-05-07 13:27:55--  https://www.dropbox.com/s/755hnawo000aeaw/Placement_Data_Full_Class.csv\n",
            "Resolving www.dropbox.com (www.dropbox.com)... 162.125.2.18, 2620:100:6017:18::a27d:212\n",
            "Connecting to www.dropbox.com (www.dropbox.com)|162.125.2.18|:443... connected.\n",
            "HTTP request sent, awaiting response... 302 Found\n",
            "Location: /s/raw/755hnawo000aeaw/Placement_Data_Full_Class.csv [following]\n",
            "--2023-05-07 13:27:56--  https://www.dropbox.com/s/raw/755hnawo000aeaw/Placement_Data_Full_Class.csv\n",
            "Reusing existing connection to www.dropbox.com:443.\n",
            "HTTP request sent, awaiting response... 302 Found\n",
            "Location: https://uca3894b58891d7274a62347352c.dl.dropboxusercontent.com/cd/0/inline/B7n1mG7Je2GKS4jaURFsIMN4KngNRhdB72A3duEcTsnQUdsZfb_Rwxna_DDK7yKC88ELNtmJfbC5Fm7c8iNhhYB5PdmxQgaSIqIOUhfZzX8naNu_hMRUDoi7YfILDBhRZL5LpIIYouiLObPLCQ5DpJVKaOIrWxE0Bh-AmJXmIMNbOA/file# [following]\n",
            "--2023-05-07 13:27:56--  https://uca3894b58891d7274a62347352c.dl.dropboxusercontent.com/cd/0/inline/B7n1mG7Je2GKS4jaURFsIMN4KngNRhdB72A3duEcTsnQUdsZfb_Rwxna_DDK7yKC88ELNtmJfbC5Fm7c8iNhhYB5PdmxQgaSIqIOUhfZzX8naNu_hMRUDoi7YfILDBhRZL5LpIIYouiLObPLCQ5DpJVKaOIrWxE0Bh-AmJXmIMNbOA/file\n",
            "Resolving uca3894b58891d7274a62347352c.dl.dropboxusercontent.com (uca3894b58891d7274a62347352c.dl.dropboxusercontent.com)... 162.125.2.15, 2620:100:6017:15::a27d:20f\n",
            "Connecting to uca3894b58891d7274a62347352c.dl.dropboxusercontent.com (uca3894b58891d7274a62347352c.dl.dropboxusercontent.com)|162.125.2.15|:443... connected.\n",
            "HTTP request sent, awaiting response... 200 OK\n",
            "Length: 19712 (19K) [text/plain]\n",
            "Saving to: ‘Placement_Data_Full_Class.csv’\n",
            "\n",
            "Placement_Data_Full 100%[===================>]  19.25K  --.-KB/s    in 0.005s  \n",
            "\n",
            "2023-05-07 13:27:56 (3.96 MB/s) - ‘Placement_Data_Full_Class.csv’ saved [19712/19712]\n",
            "\n"
          ]
        }
      ]
    },
    {
      "cell_type": "markdown",
      "metadata": {
        "id": "w_hrLPW0lmB-"
      },
      "source": [
        "### **Understanding the importance of Statistical Analysis**"
      ]
    },
    {
      "cell_type": "code",
      "metadata": {
        "colab": {
          "base_uri": "https://localhost:8080/",
          "height": 206
        },
        "id": "W7QvLo8XoTjg",
        "outputId": "67e734c9-d22c-4157-ce0a-77400ad0c2ee"
      },
      "source": [
        "campus = pd.read_csv('Placement_Data_Full_Class.csv')\n",
        "campus.head()"
      ],
      "execution_count": 3,
      "outputs": [
        {
          "output_type": "execute_result",
          "data": {
            "text/plain": [
              "   sl_no gender  ssc_p    ssc_b  hsc_p    hsc_b     hsc_s  degree_p  \\\n",
              "0      1      M  67.00   Others  91.00   Others  Commerce     58.00   \n",
              "1      2      M  79.33  Central  78.33   Others   Science     77.48   \n",
              "2      3      M  65.00  Central  68.00  Central      Arts     64.00   \n",
              "3      4      M  56.00  Central  52.00  Central   Science     52.00   \n",
              "4      5      M  85.80  Central  73.60  Central  Commerce     73.30   \n",
              "\n",
              "    degree_t workex  etest_p specialisation  mba_p      status    salary  \n",
              "0   Sci&Tech     No     55.0         Mkt&HR  58.80      Placed  270000.0  \n",
              "1   Sci&Tech    Yes     86.5        Mkt&Fin  66.28      Placed  200000.0  \n",
              "2  Comm&Mgmt     No     75.0        Mkt&Fin  57.80      Placed  250000.0  \n",
              "3   Sci&Tech     No     66.0         Mkt&HR  59.43  Not Placed       NaN  \n",
              "4  Comm&Mgmt     No     96.8        Mkt&Fin  55.50      Placed  425000.0  "
            ],
            "text/html": [
              "\n",
              "  <div id=\"df-9cc3878b-a796-41af-a00d-d8831b5179e1\">\n",
              "    <div class=\"colab-df-container\">\n",
              "      <div>\n",
              "<style scoped>\n",
              "    .dataframe tbody tr th:only-of-type {\n",
              "        vertical-align: middle;\n",
              "    }\n",
              "\n",
              "    .dataframe tbody tr th {\n",
              "        vertical-align: top;\n",
              "    }\n",
              "\n",
              "    .dataframe thead th {\n",
              "        text-align: right;\n",
              "    }\n",
              "</style>\n",
              "<table border=\"1\" class=\"dataframe\">\n",
              "  <thead>\n",
              "    <tr style=\"text-align: right;\">\n",
              "      <th></th>\n",
              "      <th>sl_no</th>\n",
              "      <th>gender</th>\n",
              "      <th>ssc_p</th>\n",
              "      <th>ssc_b</th>\n",
              "      <th>hsc_p</th>\n",
              "      <th>hsc_b</th>\n",
              "      <th>hsc_s</th>\n",
              "      <th>degree_p</th>\n",
              "      <th>degree_t</th>\n",
              "      <th>workex</th>\n",
              "      <th>etest_p</th>\n",
              "      <th>specialisation</th>\n",
              "      <th>mba_p</th>\n",
              "      <th>status</th>\n",
              "      <th>salary</th>\n",
              "    </tr>\n",
              "  </thead>\n",
              "  <tbody>\n",
              "    <tr>\n",
              "      <th>0</th>\n",
              "      <td>1</td>\n",
              "      <td>M</td>\n",
              "      <td>67.00</td>\n",
              "      <td>Others</td>\n",
              "      <td>91.00</td>\n",
              "      <td>Others</td>\n",
              "      <td>Commerce</td>\n",
              "      <td>58.00</td>\n",
              "      <td>Sci&amp;Tech</td>\n",
              "      <td>No</td>\n",
              "      <td>55.0</td>\n",
              "      <td>Mkt&amp;HR</td>\n",
              "      <td>58.80</td>\n",
              "      <td>Placed</td>\n",
              "      <td>270000.0</td>\n",
              "    </tr>\n",
              "    <tr>\n",
              "      <th>1</th>\n",
              "      <td>2</td>\n",
              "      <td>M</td>\n",
              "      <td>79.33</td>\n",
              "      <td>Central</td>\n",
              "      <td>78.33</td>\n",
              "      <td>Others</td>\n",
              "      <td>Science</td>\n",
              "      <td>77.48</td>\n",
              "      <td>Sci&amp;Tech</td>\n",
              "      <td>Yes</td>\n",
              "      <td>86.5</td>\n",
              "      <td>Mkt&amp;Fin</td>\n",
              "      <td>66.28</td>\n",
              "      <td>Placed</td>\n",
              "      <td>200000.0</td>\n",
              "    </tr>\n",
              "    <tr>\n",
              "      <th>2</th>\n",
              "      <td>3</td>\n",
              "      <td>M</td>\n",
              "      <td>65.00</td>\n",
              "      <td>Central</td>\n",
              "      <td>68.00</td>\n",
              "      <td>Central</td>\n",
              "      <td>Arts</td>\n",
              "      <td>64.00</td>\n",
              "      <td>Comm&amp;Mgmt</td>\n",
              "      <td>No</td>\n",
              "      <td>75.0</td>\n",
              "      <td>Mkt&amp;Fin</td>\n",
              "      <td>57.80</td>\n",
              "      <td>Placed</td>\n",
              "      <td>250000.0</td>\n",
              "    </tr>\n",
              "    <tr>\n",
              "      <th>3</th>\n",
              "      <td>4</td>\n",
              "      <td>M</td>\n",
              "      <td>56.00</td>\n",
              "      <td>Central</td>\n",
              "      <td>52.00</td>\n",
              "      <td>Central</td>\n",
              "      <td>Science</td>\n",
              "      <td>52.00</td>\n",
              "      <td>Sci&amp;Tech</td>\n",
              "      <td>No</td>\n",
              "      <td>66.0</td>\n",
              "      <td>Mkt&amp;HR</td>\n",
              "      <td>59.43</td>\n",
              "      <td>Not Placed</td>\n",
              "      <td>NaN</td>\n",
              "    </tr>\n",
              "    <tr>\n",
              "      <th>4</th>\n",
              "      <td>5</td>\n",
              "      <td>M</td>\n",
              "      <td>85.80</td>\n",
              "      <td>Central</td>\n",
              "      <td>73.60</td>\n",
              "      <td>Central</td>\n",
              "      <td>Commerce</td>\n",
              "      <td>73.30</td>\n",
              "      <td>Comm&amp;Mgmt</td>\n",
              "      <td>No</td>\n",
              "      <td>96.8</td>\n",
              "      <td>Mkt&amp;Fin</td>\n",
              "      <td>55.50</td>\n",
              "      <td>Placed</td>\n",
              "      <td>425000.0</td>\n",
              "    </tr>\n",
              "  </tbody>\n",
              "</table>\n",
              "</div>\n",
              "      <button class=\"colab-df-convert\" onclick=\"convertToInteractive('df-9cc3878b-a796-41af-a00d-d8831b5179e1')\"\n",
              "              title=\"Convert this dataframe to an interactive table.\"\n",
              "              style=\"display:none;\">\n",
              "        \n",
              "  <svg xmlns=\"http://www.w3.org/2000/svg\" height=\"24px\"viewBox=\"0 0 24 24\"\n",
              "       width=\"24px\">\n",
              "    <path d=\"M0 0h24v24H0V0z\" fill=\"none\"/>\n",
              "    <path d=\"M18.56 5.44l.94 2.06.94-2.06 2.06-.94-2.06-.94-.94-2.06-.94 2.06-2.06.94zm-11 1L8.5 8.5l.94-2.06 2.06-.94-2.06-.94L8.5 2.5l-.94 2.06-2.06.94zm10 10l.94 2.06.94-2.06 2.06-.94-2.06-.94-.94-2.06-.94 2.06-2.06.94z\"/><path d=\"M17.41 7.96l-1.37-1.37c-.4-.4-.92-.59-1.43-.59-.52 0-1.04.2-1.43.59L10.3 9.45l-7.72 7.72c-.78.78-.78 2.05 0 2.83L4 21.41c.39.39.9.59 1.41.59.51 0 1.02-.2 1.41-.59l7.78-7.78 2.81-2.81c.8-.78.8-2.07 0-2.86zM5.41 20L4 18.59l7.72-7.72 1.47 1.35L5.41 20z\"/>\n",
              "  </svg>\n",
              "      </button>\n",
              "      \n",
              "  <style>\n",
              "    .colab-df-container {\n",
              "      display:flex;\n",
              "      flex-wrap:wrap;\n",
              "      gap: 12px;\n",
              "    }\n",
              "\n",
              "    .colab-df-convert {\n",
              "      background-color: #E8F0FE;\n",
              "      border: none;\n",
              "      border-radius: 50%;\n",
              "      cursor: pointer;\n",
              "      display: none;\n",
              "      fill: #1967D2;\n",
              "      height: 32px;\n",
              "      padding: 0 0 0 0;\n",
              "      width: 32px;\n",
              "    }\n",
              "\n",
              "    .colab-df-convert:hover {\n",
              "      background-color: #E2EBFA;\n",
              "      box-shadow: 0px 1px 2px rgba(60, 64, 67, 0.3), 0px 1px 3px 1px rgba(60, 64, 67, 0.15);\n",
              "      fill: #174EA6;\n",
              "    }\n",
              "\n",
              "    [theme=dark] .colab-df-convert {\n",
              "      background-color: #3B4455;\n",
              "      fill: #D2E3FC;\n",
              "    }\n",
              "\n",
              "    [theme=dark] .colab-df-convert:hover {\n",
              "      background-color: #434B5C;\n",
              "      box-shadow: 0px 1px 3px 1px rgba(0, 0, 0, 0.15);\n",
              "      filter: drop-shadow(0px 1px 2px rgba(0, 0, 0, 0.3));\n",
              "      fill: #FFFFFF;\n",
              "    }\n",
              "  </style>\n",
              "\n",
              "      <script>\n",
              "        const buttonEl =\n",
              "          document.querySelector('#df-9cc3878b-a796-41af-a00d-d8831b5179e1 button.colab-df-convert');\n",
              "        buttonEl.style.display =\n",
              "          google.colab.kernel.accessAllowed ? 'block' : 'none';\n",
              "\n",
              "        async function convertToInteractive(key) {\n",
              "          const element = document.querySelector('#df-9cc3878b-a796-41af-a00d-d8831b5179e1');\n",
              "          const dataTable =\n",
              "            await google.colab.kernel.invokeFunction('convertToInteractive',\n",
              "                                                     [key], {});\n",
              "          if (!dataTable) return;\n",
              "\n",
              "          const docLinkHtml = 'Like what you see? Visit the ' +\n",
              "            '<a target=\"_blank\" href=https://colab.research.google.com/notebooks/data_table.ipynb>data table notebook</a>'\n",
              "            + ' to learn more about interactive tables.';\n",
              "          element.innerHTML = '';\n",
              "          dataTable['output_type'] = 'display_data';\n",
              "          await google.colab.output.renderOutput(dataTable, element);\n",
              "          const docLink = document.createElement('div');\n",
              "          docLink.innerHTML = docLinkHtml;\n",
              "          element.appendChild(docLink);\n",
              "        }\n",
              "      </script>\n",
              "    </div>\n",
              "  </div>\n",
              "  "
            ]
          },
          "metadata": {},
          "execution_count": 3
        }
      ]
    },
    {
      "cell_type": "code",
      "metadata": {
        "colab": {
          "base_uri": "https://localhost:8080/",
          "height": 300
        },
        "id": "ERMm5LXAoiEa",
        "outputId": "651e0355-f786-41f8-d08a-b7f8b56f6d93"
      },
      "source": [
        "campus.shape\n"
      ],
      "execution_count": 5,
      "outputs": [
        {
          "output_type": "execute_result",
          "data": {
            "text/plain": [
              "            sl_no       ssc_p       hsc_p    degree_p     etest_p       mba_p  \\\n",
              "count  215.000000  215.000000  215.000000  215.000000  215.000000  215.000000   \n",
              "mean   108.000000   67.303395   66.333163   66.370186   72.100558   62.278186   \n",
              "std     62.209324   10.827205   10.897509    7.358743   13.275956    5.833385   \n",
              "min      1.000000   40.890000   37.000000   50.000000   50.000000   51.210000   \n",
              "25%     54.500000   60.600000   60.900000   61.000000   60.000000   57.945000   \n",
              "50%    108.000000   67.000000   65.000000   66.000000   71.000000   62.000000   \n",
              "75%    161.500000   75.700000   73.000000   72.000000   83.500000   66.255000   \n",
              "max    215.000000   89.400000   97.700000   91.000000   98.000000   77.890000   \n",
              "\n",
              "              salary  \n",
              "count     148.000000  \n",
              "mean   288655.405405  \n",
              "std     93457.452420  \n",
              "min    200000.000000  \n",
              "25%    240000.000000  \n",
              "50%    265000.000000  \n",
              "75%    300000.000000  \n",
              "max    940000.000000  "
            ],
            "text/html": [
              "\n",
              "  <div id=\"df-e8664bc7-92b9-49a5-aaec-8b25d71d9baf\">\n",
              "    <div class=\"colab-df-container\">\n",
              "      <div>\n",
              "<style scoped>\n",
              "    .dataframe tbody tr th:only-of-type {\n",
              "        vertical-align: middle;\n",
              "    }\n",
              "\n",
              "    .dataframe tbody tr th {\n",
              "        vertical-align: top;\n",
              "    }\n",
              "\n",
              "    .dataframe thead th {\n",
              "        text-align: right;\n",
              "    }\n",
              "</style>\n",
              "<table border=\"1\" class=\"dataframe\">\n",
              "  <thead>\n",
              "    <tr style=\"text-align: right;\">\n",
              "      <th></th>\n",
              "      <th>sl_no</th>\n",
              "      <th>ssc_p</th>\n",
              "      <th>hsc_p</th>\n",
              "      <th>degree_p</th>\n",
              "      <th>etest_p</th>\n",
              "      <th>mba_p</th>\n",
              "      <th>salary</th>\n",
              "    </tr>\n",
              "  </thead>\n",
              "  <tbody>\n",
              "    <tr>\n",
              "      <th>count</th>\n",
              "      <td>215.000000</td>\n",
              "      <td>215.000000</td>\n",
              "      <td>215.000000</td>\n",
              "      <td>215.000000</td>\n",
              "      <td>215.000000</td>\n",
              "      <td>215.000000</td>\n",
              "      <td>148.000000</td>\n",
              "    </tr>\n",
              "    <tr>\n",
              "      <th>mean</th>\n",
              "      <td>108.000000</td>\n",
              "      <td>67.303395</td>\n",
              "      <td>66.333163</td>\n",
              "      <td>66.370186</td>\n",
              "      <td>72.100558</td>\n",
              "      <td>62.278186</td>\n",
              "      <td>288655.405405</td>\n",
              "    </tr>\n",
              "    <tr>\n",
              "      <th>std</th>\n",
              "      <td>62.209324</td>\n",
              "      <td>10.827205</td>\n",
              "      <td>10.897509</td>\n",
              "      <td>7.358743</td>\n",
              "      <td>13.275956</td>\n",
              "      <td>5.833385</td>\n",
              "      <td>93457.452420</td>\n",
              "    </tr>\n",
              "    <tr>\n",
              "      <th>min</th>\n",
              "      <td>1.000000</td>\n",
              "      <td>40.890000</td>\n",
              "      <td>37.000000</td>\n",
              "      <td>50.000000</td>\n",
              "      <td>50.000000</td>\n",
              "      <td>51.210000</td>\n",
              "      <td>200000.000000</td>\n",
              "    </tr>\n",
              "    <tr>\n",
              "      <th>25%</th>\n",
              "      <td>54.500000</td>\n",
              "      <td>60.600000</td>\n",
              "      <td>60.900000</td>\n",
              "      <td>61.000000</td>\n",
              "      <td>60.000000</td>\n",
              "      <td>57.945000</td>\n",
              "      <td>240000.000000</td>\n",
              "    </tr>\n",
              "    <tr>\n",
              "      <th>50%</th>\n",
              "      <td>108.000000</td>\n",
              "      <td>67.000000</td>\n",
              "      <td>65.000000</td>\n",
              "      <td>66.000000</td>\n",
              "      <td>71.000000</td>\n",
              "      <td>62.000000</td>\n",
              "      <td>265000.000000</td>\n",
              "    </tr>\n",
              "    <tr>\n",
              "      <th>75%</th>\n",
              "      <td>161.500000</td>\n",
              "      <td>75.700000</td>\n",
              "      <td>73.000000</td>\n",
              "      <td>72.000000</td>\n",
              "      <td>83.500000</td>\n",
              "      <td>66.255000</td>\n",
              "      <td>300000.000000</td>\n",
              "    </tr>\n",
              "    <tr>\n",
              "      <th>max</th>\n",
              "      <td>215.000000</td>\n",
              "      <td>89.400000</td>\n",
              "      <td>97.700000</td>\n",
              "      <td>91.000000</td>\n",
              "      <td>98.000000</td>\n",
              "      <td>77.890000</td>\n",
              "      <td>940000.000000</td>\n",
              "    </tr>\n",
              "  </tbody>\n",
              "</table>\n",
              "</div>\n",
              "      <button class=\"colab-df-convert\" onclick=\"convertToInteractive('df-e8664bc7-92b9-49a5-aaec-8b25d71d9baf')\"\n",
              "              title=\"Convert this dataframe to an interactive table.\"\n",
              "              style=\"display:none;\">\n",
              "        \n",
              "  <svg xmlns=\"http://www.w3.org/2000/svg\" height=\"24px\"viewBox=\"0 0 24 24\"\n",
              "       width=\"24px\">\n",
              "    <path d=\"M0 0h24v24H0V0z\" fill=\"none\"/>\n",
              "    <path d=\"M18.56 5.44l.94 2.06.94-2.06 2.06-.94-2.06-.94-.94-2.06-.94 2.06-2.06.94zm-11 1L8.5 8.5l.94-2.06 2.06-.94-2.06-.94L8.5 2.5l-.94 2.06-2.06.94zm10 10l.94 2.06.94-2.06 2.06-.94-2.06-.94-.94-2.06-.94 2.06-2.06.94z\"/><path d=\"M17.41 7.96l-1.37-1.37c-.4-.4-.92-.59-1.43-.59-.52 0-1.04.2-1.43.59L10.3 9.45l-7.72 7.72c-.78.78-.78 2.05 0 2.83L4 21.41c.39.39.9.59 1.41.59.51 0 1.02-.2 1.41-.59l7.78-7.78 2.81-2.81c.8-.78.8-2.07 0-2.86zM5.41 20L4 18.59l7.72-7.72 1.47 1.35L5.41 20z\"/>\n",
              "  </svg>\n",
              "      </button>\n",
              "      \n",
              "  <style>\n",
              "    .colab-df-container {\n",
              "      display:flex;\n",
              "      flex-wrap:wrap;\n",
              "      gap: 12px;\n",
              "    }\n",
              "\n",
              "    .colab-df-convert {\n",
              "      background-color: #E8F0FE;\n",
              "      border: none;\n",
              "      border-radius: 50%;\n",
              "      cursor: pointer;\n",
              "      display: none;\n",
              "      fill: #1967D2;\n",
              "      height: 32px;\n",
              "      padding: 0 0 0 0;\n",
              "      width: 32px;\n",
              "    }\n",
              "\n",
              "    .colab-df-convert:hover {\n",
              "      background-color: #E2EBFA;\n",
              "      box-shadow: 0px 1px 2px rgba(60, 64, 67, 0.3), 0px 1px 3px 1px rgba(60, 64, 67, 0.15);\n",
              "      fill: #174EA6;\n",
              "    }\n",
              "\n",
              "    [theme=dark] .colab-df-convert {\n",
              "      background-color: #3B4455;\n",
              "      fill: #D2E3FC;\n",
              "    }\n",
              "\n",
              "    [theme=dark] .colab-df-convert:hover {\n",
              "      background-color: #434B5C;\n",
              "      box-shadow: 0px 1px 3px 1px rgba(0, 0, 0, 0.15);\n",
              "      filter: drop-shadow(0px 1px 2px rgba(0, 0, 0, 0.3));\n",
              "      fill: #FFFFFF;\n",
              "    }\n",
              "  </style>\n",
              "\n",
              "      <script>\n",
              "        const buttonEl =\n",
              "          document.querySelector('#df-e8664bc7-92b9-49a5-aaec-8b25d71d9baf button.colab-df-convert');\n",
              "        buttonEl.style.display =\n",
              "          google.colab.kernel.accessAllowed ? 'block' : 'none';\n",
              "\n",
              "        async function convertToInteractive(key) {\n",
              "          const element = document.querySelector('#df-e8664bc7-92b9-49a5-aaec-8b25d71d9baf');\n",
              "          const dataTable =\n",
              "            await google.colab.kernel.invokeFunction('convertToInteractive',\n",
              "                                                     [key], {});\n",
              "          if (!dataTable) return;\n",
              "\n",
              "          const docLinkHtml = 'Like what you see? Visit the ' +\n",
              "            '<a target=\"_blank\" href=https://colab.research.google.com/notebooks/data_table.ipynb>data table notebook</a>'\n",
              "            + ' to learn more about interactive tables.';\n",
              "          element.innerHTML = '';\n",
              "          dataTable['output_type'] = 'display_data';\n",
              "          await google.colab.output.renderOutput(dataTable, element);\n",
              "          const docLink = document.createElement('div');\n",
              "          docLink.innerHTML = docLinkHtml;\n",
              "          element.appendChild(docLink);\n",
              "        }\n",
              "      </script>\n",
              "    </div>\n",
              "  </div>\n",
              "  "
            ]
          },
          "metadata": {},
          "execution_count": 5
        }
      ]
    },
    {
      "cell_type": "code",
      "source": [
        "campus.dtypes"
      ],
      "metadata": {
        "id": "GH2cSTxrhLiu",
        "outputId": "818c30d9-6a01-4ab9-fd40-8e1d8ba78304",
        "colab": {
          "base_uri": "https://localhost:8080/"
        }
      },
      "execution_count": 8,
      "outputs": [
        {
          "output_type": "execute_result",
          "data": {
            "text/plain": [
              "sl_no               int64\n",
              "gender             object\n",
              "ssc_p             float64\n",
              "ssc_b              object\n",
              "hsc_p             float64\n",
              "hsc_b              object\n",
              "hsc_s              object\n",
              "degree_p          float64\n",
              "degree_t           object\n",
              "workex             object\n",
              "etest_p           float64\n",
              "specialisation     object\n",
              "mba_p             float64\n",
              "status             object\n",
              "salary            float64\n",
              "dtype: object"
            ]
          },
          "metadata": {},
          "execution_count": 8
        }
      ]
    },
    {
      "cell_type": "code",
      "source": [
        "campus.info"
      ],
      "metadata": {
        "id": "WvWpORwoagiD",
        "outputId": "a418fbde-221e-4e90-a576-dd99f029f95f",
        "colab": {
          "base_uri": "https://localhost:8080/"
        }
      },
      "execution_count": 7,
      "outputs": [
        {
          "output_type": "execute_result",
          "data": {
            "text/plain": [
              "<bound method DataFrame.info of      sl_no gender  ssc_p    ssc_b  hsc_p    hsc_b     hsc_s  degree_p  \\\n",
              "0        1      M  67.00   Others  91.00   Others  Commerce     58.00   \n",
              "1        2      M  79.33  Central  78.33   Others   Science     77.48   \n",
              "2        3      M  65.00  Central  68.00  Central      Arts     64.00   \n",
              "3        4      M  56.00  Central  52.00  Central   Science     52.00   \n",
              "4        5      M  85.80  Central  73.60  Central  Commerce     73.30   \n",
              "..     ...    ...    ...      ...    ...      ...       ...       ...   \n",
              "210    211      M  80.60   Others  82.00   Others  Commerce     77.60   \n",
              "211    212      M  58.00   Others  60.00   Others   Science     72.00   \n",
              "212    213      M  67.00   Others  67.00   Others  Commerce     73.00   \n",
              "213    214      F  74.00   Others  66.00   Others  Commerce     58.00   \n",
              "214    215      M  62.00  Central  58.00   Others   Science     53.00   \n",
              "\n",
              "      degree_t workex  etest_p specialisation  mba_p      status    salary  \n",
              "0     Sci&Tech     No     55.0         Mkt&HR  58.80      Placed  270000.0  \n",
              "1     Sci&Tech    Yes     86.5        Mkt&Fin  66.28      Placed  200000.0  \n",
              "2    Comm&Mgmt     No     75.0        Mkt&Fin  57.80      Placed  250000.0  \n",
              "3     Sci&Tech     No     66.0         Mkt&HR  59.43  Not Placed       NaN  \n",
              "4    Comm&Mgmt     No     96.8        Mkt&Fin  55.50      Placed  425000.0  \n",
              "..         ...    ...      ...            ...    ...         ...       ...  \n",
              "210  Comm&Mgmt     No     91.0        Mkt&Fin  74.49      Placed  400000.0  \n",
              "211   Sci&Tech     No     74.0        Mkt&Fin  53.62      Placed  275000.0  \n",
              "212  Comm&Mgmt    Yes     59.0        Mkt&Fin  69.72      Placed  295000.0  \n",
              "213  Comm&Mgmt     No     70.0         Mkt&HR  60.23      Placed  204000.0  \n",
              "214  Comm&Mgmt     No     89.0         Mkt&HR  60.22  Not Placed       NaN  \n",
              "\n",
              "[215 rows x 15 columns]>"
            ]
          },
          "metadata": {},
          "execution_count": 7
        }
      ]
    },
    {
      "cell_type": "code",
      "source": [
        "campus.describe()"
      ],
      "metadata": {
        "id": "rE9Gn_YqaBW6",
        "outputId": "1e4f7f53-6008-4ff6-f02a-a903039a4752",
        "colab": {
          "base_uri": "https://localhost:8080/",
          "height": 300
        }
      },
      "execution_count": 6,
      "outputs": [
        {
          "output_type": "execute_result",
          "data": {
            "text/plain": [
              "            sl_no       ssc_p       hsc_p    degree_p     etest_p       mba_p  \\\n",
              "count  215.000000  215.000000  215.000000  215.000000  215.000000  215.000000   \n",
              "mean   108.000000   67.303395   66.333163   66.370186   72.100558   62.278186   \n",
              "std     62.209324   10.827205   10.897509    7.358743   13.275956    5.833385   \n",
              "min      1.000000   40.890000   37.000000   50.000000   50.000000   51.210000   \n",
              "25%     54.500000   60.600000   60.900000   61.000000   60.000000   57.945000   \n",
              "50%    108.000000   67.000000   65.000000   66.000000   71.000000   62.000000   \n",
              "75%    161.500000   75.700000   73.000000   72.000000   83.500000   66.255000   \n",
              "max    215.000000   89.400000   97.700000   91.000000   98.000000   77.890000   \n",
              "\n",
              "              salary  \n",
              "count     148.000000  \n",
              "mean   288655.405405  \n",
              "std     93457.452420  \n",
              "min    200000.000000  \n",
              "25%    240000.000000  \n",
              "50%    265000.000000  \n",
              "75%    300000.000000  \n",
              "max    940000.000000  "
            ],
            "text/html": [
              "\n",
              "  <div id=\"df-8cb83835-f7bb-4c48-ac15-5540a68a4b17\">\n",
              "    <div class=\"colab-df-container\">\n",
              "      <div>\n",
              "<style scoped>\n",
              "    .dataframe tbody tr th:only-of-type {\n",
              "        vertical-align: middle;\n",
              "    }\n",
              "\n",
              "    .dataframe tbody tr th {\n",
              "        vertical-align: top;\n",
              "    }\n",
              "\n",
              "    .dataframe thead th {\n",
              "        text-align: right;\n",
              "    }\n",
              "</style>\n",
              "<table border=\"1\" class=\"dataframe\">\n",
              "  <thead>\n",
              "    <tr style=\"text-align: right;\">\n",
              "      <th></th>\n",
              "      <th>sl_no</th>\n",
              "      <th>ssc_p</th>\n",
              "      <th>hsc_p</th>\n",
              "      <th>degree_p</th>\n",
              "      <th>etest_p</th>\n",
              "      <th>mba_p</th>\n",
              "      <th>salary</th>\n",
              "    </tr>\n",
              "  </thead>\n",
              "  <tbody>\n",
              "    <tr>\n",
              "      <th>count</th>\n",
              "      <td>215.000000</td>\n",
              "      <td>215.000000</td>\n",
              "      <td>215.000000</td>\n",
              "      <td>215.000000</td>\n",
              "      <td>215.000000</td>\n",
              "      <td>215.000000</td>\n",
              "      <td>148.000000</td>\n",
              "    </tr>\n",
              "    <tr>\n",
              "      <th>mean</th>\n",
              "      <td>108.000000</td>\n",
              "      <td>67.303395</td>\n",
              "      <td>66.333163</td>\n",
              "      <td>66.370186</td>\n",
              "      <td>72.100558</td>\n",
              "      <td>62.278186</td>\n",
              "      <td>288655.405405</td>\n",
              "    </tr>\n",
              "    <tr>\n",
              "      <th>std</th>\n",
              "      <td>62.209324</td>\n",
              "      <td>10.827205</td>\n",
              "      <td>10.897509</td>\n",
              "      <td>7.358743</td>\n",
              "      <td>13.275956</td>\n",
              "      <td>5.833385</td>\n",
              "      <td>93457.452420</td>\n",
              "    </tr>\n",
              "    <tr>\n",
              "      <th>min</th>\n",
              "      <td>1.000000</td>\n",
              "      <td>40.890000</td>\n",
              "      <td>37.000000</td>\n",
              "      <td>50.000000</td>\n",
              "      <td>50.000000</td>\n",
              "      <td>51.210000</td>\n",
              "      <td>200000.000000</td>\n",
              "    </tr>\n",
              "    <tr>\n",
              "      <th>25%</th>\n",
              "      <td>54.500000</td>\n",
              "      <td>60.600000</td>\n",
              "      <td>60.900000</td>\n",
              "      <td>61.000000</td>\n",
              "      <td>60.000000</td>\n",
              "      <td>57.945000</td>\n",
              "      <td>240000.000000</td>\n",
              "    </tr>\n",
              "    <tr>\n",
              "      <th>50%</th>\n",
              "      <td>108.000000</td>\n",
              "      <td>67.000000</td>\n",
              "      <td>65.000000</td>\n",
              "      <td>66.000000</td>\n",
              "      <td>71.000000</td>\n",
              "      <td>62.000000</td>\n",
              "      <td>265000.000000</td>\n",
              "    </tr>\n",
              "    <tr>\n",
              "      <th>75%</th>\n",
              "      <td>161.500000</td>\n",
              "      <td>75.700000</td>\n",
              "      <td>73.000000</td>\n",
              "      <td>72.000000</td>\n",
              "      <td>83.500000</td>\n",
              "      <td>66.255000</td>\n",
              "      <td>300000.000000</td>\n",
              "    </tr>\n",
              "    <tr>\n",
              "      <th>max</th>\n",
              "      <td>215.000000</td>\n",
              "      <td>89.400000</td>\n",
              "      <td>97.700000</td>\n",
              "      <td>91.000000</td>\n",
              "      <td>98.000000</td>\n",
              "      <td>77.890000</td>\n",
              "      <td>940000.000000</td>\n",
              "    </tr>\n",
              "  </tbody>\n",
              "</table>\n",
              "</div>\n",
              "      <button class=\"colab-df-convert\" onclick=\"convertToInteractive('df-8cb83835-f7bb-4c48-ac15-5540a68a4b17')\"\n",
              "              title=\"Convert this dataframe to an interactive table.\"\n",
              "              style=\"display:none;\">\n",
              "        \n",
              "  <svg xmlns=\"http://www.w3.org/2000/svg\" height=\"24px\"viewBox=\"0 0 24 24\"\n",
              "       width=\"24px\">\n",
              "    <path d=\"M0 0h24v24H0V0z\" fill=\"none\"/>\n",
              "    <path d=\"M18.56 5.44l.94 2.06.94-2.06 2.06-.94-2.06-.94-.94-2.06-.94 2.06-2.06.94zm-11 1L8.5 8.5l.94-2.06 2.06-.94-2.06-.94L8.5 2.5l-.94 2.06-2.06.94zm10 10l.94 2.06.94-2.06 2.06-.94-2.06-.94-.94-2.06-.94 2.06-2.06.94z\"/><path d=\"M17.41 7.96l-1.37-1.37c-.4-.4-.92-.59-1.43-.59-.52 0-1.04.2-1.43.59L10.3 9.45l-7.72 7.72c-.78.78-.78 2.05 0 2.83L4 21.41c.39.39.9.59 1.41.59.51 0 1.02-.2 1.41-.59l7.78-7.78 2.81-2.81c.8-.78.8-2.07 0-2.86zM5.41 20L4 18.59l7.72-7.72 1.47 1.35L5.41 20z\"/>\n",
              "  </svg>\n",
              "      </button>\n",
              "      \n",
              "  <style>\n",
              "    .colab-df-container {\n",
              "      display:flex;\n",
              "      flex-wrap:wrap;\n",
              "      gap: 12px;\n",
              "    }\n",
              "\n",
              "    .colab-df-convert {\n",
              "      background-color: #E8F0FE;\n",
              "      border: none;\n",
              "      border-radius: 50%;\n",
              "      cursor: pointer;\n",
              "      display: none;\n",
              "      fill: #1967D2;\n",
              "      height: 32px;\n",
              "      padding: 0 0 0 0;\n",
              "      width: 32px;\n",
              "    }\n",
              "\n",
              "    .colab-df-convert:hover {\n",
              "      background-color: #E2EBFA;\n",
              "      box-shadow: 0px 1px 2px rgba(60, 64, 67, 0.3), 0px 1px 3px 1px rgba(60, 64, 67, 0.15);\n",
              "      fill: #174EA6;\n",
              "    }\n",
              "\n",
              "    [theme=dark] .colab-df-convert {\n",
              "      background-color: #3B4455;\n",
              "      fill: #D2E3FC;\n",
              "    }\n",
              "\n",
              "    [theme=dark] .colab-df-convert:hover {\n",
              "      background-color: #434B5C;\n",
              "      box-shadow: 0px 1px 3px 1px rgba(0, 0, 0, 0.15);\n",
              "      filter: drop-shadow(0px 1px 2px rgba(0, 0, 0, 0.3));\n",
              "      fill: #FFFFFF;\n",
              "    }\n",
              "  </style>\n",
              "\n",
              "      <script>\n",
              "        const buttonEl =\n",
              "          document.querySelector('#df-8cb83835-f7bb-4c48-ac15-5540a68a4b17 button.colab-df-convert');\n",
              "        buttonEl.style.display =\n",
              "          google.colab.kernel.accessAllowed ? 'block' : 'none';\n",
              "\n",
              "        async function convertToInteractive(key) {\n",
              "          const element = document.querySelector('#df-8cb83835-f7bb-4c48-ac15-5540a68a4b17');\n",
              "          const dataTable =\n",
              "            await google.colab.kernel.invokeFunction('convertToInteractive',\n",
              "                                                     [key], {});\n",
              "          if (!dataTable) return;\n",
              "\n",
              "          const docLinkHtml = 'Like what you see? Visit the ' +\n",
              "            '<a target=\"_blank\" href=https://colab.research.google.com/notebooks/data_table.ipynb>data table notebook</a>'\n",
              "            + ' to learn more about interactive tables.';\n",
              "          element.innerHTML = '';\n",
              "          dataTable['output_type'] = 'display_data';\n",
              "          await google.colab.output.renderOutput(dataTable, element);\n",
              "          const docLink = document.createElement('div');\n",
              "          docLink.innerHTML = docLinkHtml;\n",
              "          element.appendChild(docLink);\n",
              "        }\n",
              "      </script>\n",
              "    </div>\n",
              "  </div>\n",
              "  "
            ]
          },
          "metadata": {},
          "execution_count": 6
        }
      ]
    },
    {
      "cell_type": "markdown",
      "metadata": {
        "id": "TUBYGIWEocW3"
      },
      "source": [
        "**Onservation:**\n",
        "The dataset consists of 215 rows and 15 columns. They represent placement information of students along with their educational history.\n"
      ]
    },
    {
      "cell_type": "markdown",
      "metadata": {
        "id": "iGx46Jr8raNs"
      },
      "source": [
        "> **That's all we can tell by looking at this raw data**\n",
        "\n",
        "\n",
        "> We cannot make any useful observations from this data such as any of the below:\n",
        "\n",
        "*- Are the students with first class (above 60%) in Degree more likely to be placed?*\n",
        "\n",
        "*- Do any of the other scores play a significant role in a student getting placed?*\n",
        "\n",
        "*- Is any specific branch being favored by companies during placement?*\n",
        "\n",
        "**Let's create a simple pivot table from this data-**"
      ]
    },
    {
      "cell_type": "code",
      "source": [
        "campus[['status','specialisation']]\n",
        "# "
      ],
      "metadata": {
        "colab": {
          "base_uri": "https://localhost:8080/",
          "height": 423
        },
        "id": "OIdWpfMfxuNm",
        "outputId": "c722d0ed-7daf-4765-faba-521a395ff7c5"
      },
      "execution_count": null,
      "outputs": [
        {
          "output_type": "execute_result",
          "data": {
            "text/plain": [
              "         status specialisation\n",
              "0        Placed         Mkt&HR\n",
              "1        Placed        Mkt&Fin\n",
              "2        Placed        Mkt&Fin\n",
              "3    Not Placed         Mkt&HR\n",
              "4        Placed        Mkt&Fin\n",
              "..          ...            ...\n",
              "210      Placed        Mkt&Fin\n",
              "211      Placed        Mkt&Fin\n",
              "212      Placed        Mkt&Fin\n",
              "213      Placed         Mkt&HR\n",
              "214  Not Placed         Mkt&HR\n",
              "\n",
              "[215 rows x 2 columns]"
            ],
            "text/html": [
              "\n",
              "  <div id=\"df-0c97c3e1-f8e0-479a-9573-d864b3170946\">\n",
              "    <div class=\"colab-df-container\">\n",
              "      <div>\n",
              "<style scoped>\n",
              "    .dataframe tbody tr th:only-of-type {\n",
              "        vertical-align: middle;\n",
              "    }\n",
              "\n",
              "    .dataframe tbody tr th {\n",
              "        vertical-align: top;\n",
              "    }\n",
              "\n",
              "    .dataframe thead th {\n",
              "        text-align: right;\n",
              "    }\n",
              "</style>\n",
              "<table border=\"1\" class=\"dataframe\">\n",
              "  <thead>\n",
              "    <tr style=\"text-align: right;\">\n",
              "      <th></th>\n",
              "      <th>status</th>\n",
              "      <th>specialisation</th>\n",
              "    </tr>\n",
              "  </thead>\n",
              "  <tbody>\n",
              "    <tr>\n",
              "      <th>0</th>\n",
              "      <td>Placed</td>\n",
              "      <td>Mkt&amp;HR</td>\n",
              "    </tr>\n",
              "    <tr>\n",
              "      <th>1</th>\n",
              "      <td>Placed</td>\n",
              "      <td>Mkt&amp;Fin</td>\n",
              "    </tr>\n",
              "    <tr>\n",
              "      <th>2</th>\n",
              "      <td>Placed</td>\n",
              "      <td>Mkt&amp;Fin</td>\n",
              "    </tr>\n",
              "    <tr>\n",
              "      <th>3</th>\n",
              "      <td>Not Placed</td>\n",
              "      <td>Mkt&amp;HR</td>\n",
              "    </tr>\n",
              "    <tr>\n",
              "      <th>4</th>\n",
              "      <td>Placed</td>\n",
              "      <td>Mkt&amp;Fin</td>\n",
              "    </tr>\n",
              "    <tr>\n",
              "      <th>...</th>\n",
              "      <td>...</td>\n",
              "      <td>...</td>\n",
              "    </tr>\n",
              "    <tr>\n",
              "      <th>210</th>\n",
              "      <td>Placed</td>\n",
              "      <td>Mkt&amp;Fin</td>\n",
              "    </tr>\n",
              "    <tr>\n",
              "      <th>211</th>\n",
              "      <td>Placed</td>\n",
              "      <td>Mkt&amp;Fin</td>\n",
              "    </tr>\n",
              "    <tr>\n",
              "      <th>212</th>\n",
              "      <td>Placed</td>\n",
              "      <td>Mkt&amp;Fin</td>\n",
              "    </tr>\n",
              "    <tr>\n",
              "      <th>213</th>\n",
              "      <td>Placed</td>\n",
              "      <td>Mkt&amp;HR</td>\n",
              "    </tr>\n",
              "    <tr>\n",
              "      <th>214</th>\n",
              "      <td>Not Placed</td>\n",
              "      <td>Mkt&amp;HR</td>\n",
              "    </tr>\n",
              "  </tbody>\n",
              "</table>\n",
              "<p>215 rows × 2 columns</p>\n",
              "</div>\n",
              "      <button class=\"colab-df-convert\" onclick=\"convertToInteractive('df-0c97c3e1-f8e0-479a-9573-d864b3170946')\"\n",
              "              title=\"Convert this dataframe to an interactive table.\"\n",
              "              style=\"display:none;\">\n",
              "        \n",
              "  <svg xmlns=\"http://www.w3.org/2000/svg\" height=\"24px\"viewBox=\"0 0 24 24\"\n",
              "       width=\"24px\">\n",
              "    <path d=\"M0 0h24v24H0V0z\" fill=\"none\"/>\n",
              "    <path d=\"M18.56 5.44l.94 2.06.94-2.06 2.06-.94-2.06-.94-.94-2.06-.94 2.06-2.06.94zm-11 1L8.5 8.5l.94-2.06 2.06-.94-2.06-.94L8.5 2.5l-.94 2.06-2.06.94zm10 10l.94 2.06.94-2.06 2.06-.94-2.06-.94-.94-2.06-.94 2.06-2.06.94z\"/><path d=\"M17.41 7.96l-1.37-1.37c-.4-.4-.92-.59-1.43-.59-.52 0-1.04.2-1.43.59L10.3 9.45l-7.72 7.72c-.78.78-.78 2.05 0 2.83L4 21.41c.39.39.9.59 1.41.59.51 0 1.02-.2 1.41-.59l7.78-7.78 2.81-2.81c.8-.78.8-2.07 0-2.86zM5.41 20L4 18.59l7.72-7.72 1.47 1.35L5.41 20z\"/>\n",
              "  </svg>\n",
              "      </button>\n",
              "      \n",
              "  <style>\n",
              "    .colab-df-container {\n",
              "      display:flex;\n",
              "      flex-wrap:wrap;\n",
              "      gap: 12px;\n",
              "    }\n",
              "\n",
              "    .colab-df-convert {\n",
              "      background-color: #E8F0FE;\n",
              "      border: none;\n",
              "      border-radius: 50%;\n",
              "      cursor: pointer;\n",
              "      display: none;\n",
              "      fill: #1967D2;\n",
              "      height: 32px;\n",
              "      padding: 0 0 0 0;\n",
              "      width: 32px;\n",
              "    }\n",
              "\n",
              "    .colab-df-convert:hover {\n",
              "      background-color: #E2EBFA;\n",
              "      box-shadow: 0px 1px 2px rgba(60, 64, 67, 0.3), 0px 1px 3px 1px rgba(60, 64, 67, 0.15);\n",
              "      fill: #174EA6;\n",
              "    }\n",
              "\n",
              "    [theme=dark] .colab-df-convert {\n",
              "      background-color: #3B4455;\n",
              "      fill: #D2E3FC;\n",
              "    }\n",
              "\n",
              "    [theme=dark] .colab-df-convert:hover {\n",
              "      background-color: #434B5C;\n",
              "      box-shadow: 0px 1px 3px 1px rgba(0, 0, 0, 0.15);\n",
              "      filter: drop-shadow(0px 1px 2px rgba(0, 0, 0, 0.3));\n",
              "      fill: #FFFFFF;\n",
              "    }\n",
              "  </style>\n",
              "\n",
              "      <script>\n",
              "        const buttonEl =\n",
              "          document.querySelector('#df-0c97c3e1-f8e0-479a-9573-d864b3170946 button.colab-df-convert');\n",
              "        buttonEl.style.display =\n",
              "          google.colab.kernel.accessAllowed ? 'block' : 'none';\n",
              "\n",
              "        async function convertToInteractive(key) {\n",
              "          const element = document.querySelector('#df-0c97c3e1-f8e0-479a-9573-d864b3170946');\n",
              "          const dataTable =\n",
              "            await google.colab.kernel.invokeFunction('convertToInteractive',\n",
              "                                                     [key], {});\n",
              "          if (!dataTable) return;\n",
              "\n",
              "          const docLinkHtml = 'Like what you see? Visit the ' +\n",
              "            '<a target=\"_blank\" href=https://colab.research.google.com/notebooks/data_table.ipynb>data table notebook</a>'\n",
              "            + ' to learn more about interactive tables.';\n",
              "          element.innerHTML = '';\n",
              "          dataTable['output_type'] = 'display_data';\n",
              "          await google.colab.output.renderOutput(dataTable, element);\n",
              "          const docLink = document.createElement('div');\n",
              "          docLink.innerHTML = docLinkHtml;\n",
              "          element.appendChild(docLink);\n",
              "        }\n",
              "      </script>\n",
              "    </div>\n",
              "  </div>\n",
              "  "
            ]
          },
          "metadata": {},
          "execution_count": 6
        }
      ]
    },
    {
      "cell_type": "code",
      "source": [
        "campus['status'].value_counts()"
      ],
      "metadata": {
        "colab": {
          "base_uri": "https://localhost:8080/"
        },
        "id": "XR0xwuo7yyh_",
        "outputId": "036abbfc-8299-4e28-ec70-4eb624cc2fd1"
      },
      "execution_count": null,
      "outputs": [
        {
          "output_type": "execute_result",
          "data": {
            "text/plain": [
              "Placed        148\n",
              "Not Placed     67\n",
              "Name: status, dtype: int64"
            ]
          },
          "metadata": {},
          "execution_count": 12
        }
      ]
    },
    {
      "cell_type": "code",
      "source": [
        "campus['specialisation'].value_counts()"
      ],
      "metadata": {
        "colab": {
          "base_uri": "https://localhost:8080/"
        },
        "id": "3YkcculQ4pqp",
        "outputId": "454c7960-49cf-41bf-c9f3-49fc3d8ec7cc"
      },
      "execution_count": null,
      "outputs": [
        {
          "output_type": "execute_result",
          "data": {
            "text/plain": [
              "Mkt&Fin    120\n",
              "Mkt&HR      95\n",
              "Name: specialisation, dtype: int64"
            ]
          },
          "metadata": {},
          "execution_count": 15
        }
      ]
    },
    {
      "cell_type": "code",
      "source": [
        "pt = pd.crosstab(campus['status'], campus['specialisation'])\n",
        "pt"
      ],
      "metadata": {
        "colab": {
          "base_uri": "https://localhost:8080/",
          "height": 143
        },
        "id": "B_bbWuBzx5rL",
        "outputId": "376576e9-df68-4964-ea4f-21e561ea4618"
      },
      "execution_count": null,
      "outputs": [
        {
          "output_type": "execute_result",
          "data": {
            "text/plain": [
              "specialisation  Mkt&Fin  Mkt&HR\n",
              "status                         \n",
              "Not Placed           25      42\n",
              "Placed               95      53"
            ],
            "text/html": [
              "\n",
              "  <div id=\"df-2c256da8-7af6-4b2a-aa05-9f186f77ec09\">\n",
              "    <div class=\"colab-df-container\">\n",
              "      <div>\n",
              "<style scoped>\n",
              "    .dataframe tbody tr th:only-of-type {\n",
              "        vertical-align: middle;\n",
              "    }\n",
              "\n",
              "    .dataframe tbody tr th {\n",
              "        vertical-align: top;\n",
              "    }\n",
              "\n",
              "    .dataframe thead th {\n",
              "        text-align: right;\n",
              "    }\n",
              "</style>\n",
              "<table border=\"1\" class=\"dataframe\">\n",
              "  <thead>\n",
              "    <tr style=\"text-align: right;\">\n",
              "      <th>specialisation</th>\n",
              "      <th>Mkt&amp;Fin</th>\n",
              "      <th>Mkt&amp;HR</th>\n",
              "    </tr>\n",
              "    <tr>\n",
              "      <th>status</th>\n",
              "      <th></th>\n",
              "      <th></th>\n",
              "    </tr>\n",
              "  </thead>\n",
              "  <tbody>\n",
              "    <tr>\n",
              "      <th>Not Placed</th>\n",
              "      <td>25</td>\n",
              "      <td>42</td>\n",
              "    </tr>\n",
              "    <tr>\n",
              "      <th>Placed</th>\n",
              "      <td>95</td>\n",
              "      <td>53</td>\n",
              "    </tr>\n",
              "  </tbody>\n",
              "</table>\n",
              "</div>\n",
              "      <button class=\"colab-df-convert\" onclick=\"convertToInteractive('df-2c256da8-7af6-4b2a-aa05-9f186f77ec09')\"\n",
              "              title=\"Convert this dataframe to an interactive table.\"\n",
              "              style=\"display:none;\">\n",
              "        \n",
              "  <svg xmlns=\"http://www.w3.org/2000/svg\" height=\"24px\"viewBox=\"0 0 24 24\"\n",
              "       width=\"24px\">\n",
              "    <path d=\"M0 0h24v24H0V0z\" fill=\"none\"/>\n",
              "    <path d=\"M18.56 5.44l.94 2.06.94-2.06 2.06-.94-2.06-.94-.94-2.06-.94 2.06-2.06.94zm-11 1L8.5 8.5l.94-2.06 2.06-.94-2.06-.94L8.5 2.5l-.94 2.06-2.06.94zm10 10l.94 2.06.94-2.06 2.06-.94-2.06-.94-.94-2.06-.94 2.06-2.06.94z\"/><path d=\"M17.41 7.96l-1.37-1.37c-.4-.4-.92-.59-1.43-.59-.52 0-1.04.2-1.43.59L10.3 9.45l-7.72 7.72c-.78.78-.78 2.05 0 2.83L4 21.41c.39.39.9.59 1.41.59.51 0 1.02-.2 1.41-.59l7.78-7.78 2.81-2.81c.8-.78.8-2.07 0-2.86zM5.41 20L4 18.59l7.72-7.72 1.47 1.35L5.41 20z\"/>\n",
              "  </svg>\n",
              "      </button>\n",
              "      \n",
              "  <style>\n",
              "    .colab-df-container {\n",
              "      display:flex;\n",
              "      flex-wrap:wrap;\n",
              "      gap: 12px;\n",
              "    }\n",
              "\n",
              "    .colab-df-convert {\n",
              "      background-color: #E8F0FE;\n",
              "      border: none;\n",
              "      border-radius: 50%;\n",
              "      cursor: pointer;\n",
              "      display: none;\n",
              "      fill: #1967D2;\n",
              "      height: 32px;\n",
              "      padding: 0 0 0 0;\n",
              "      width: 32px;\n",
              "    }\n",
              "\n",
              "    .colab-df-convert:hover {\n",
              "      background-color: #E2EBFA;\n",
              "      box-shadow: 0px 1px 2px rgba(60, 64, 67, 0.3), 0px 1px 3px 1px rgba(60, 64, 67, 0.15);\n",
              "      fill: #174EA6;\n",
              "    }\n",
              "\n",
              "    [theme=dark] .colab-df-convert {\n",
              "      background-color: #3B4455;\n",
              "      fill: #D2E3FC;\n",
              "    }\n",
              "\n",
              "    [theme=dark] .colab-df-convert:hover {\n",
              "      background-color: #434B5C;\n",
              "      box-shadow: 0px 1px 3px 1px rgba(0, 0, 0, 0.15);\n",
              "      filter: drop-shadow(0px 1px 2px rgba(0, 0, 0, 0.3));\n",
              "      fill: #FFFFFF;\n",
              "    }\n",
              "  </style>\n",
              "\n",
              "      <script>\n",
              "        const buttonEl =\n",
              "          document.querySelector('#df-2c256da8-7af6-4b2a-aa05-9f186f77ec09 button.colab-df-convert');\n",
              "        buttonEl.style.display =\n",
              "          google.colab.kernel.accessAllowed ? 'block' : 'none';\n",
              "\n",
              "        async function convertToInteractive(key) {\n",
              "          const element = document.querySelector('#df-2c256da8-7af6-4b2a-aa05-9f186f77ec09');\n",
              "          const dataTable =\n",
              "            await google.colab.kernel.invokeFunction('convertToInteractive',\n",
              "                                                     [key], {});\n",
              "          if (!dataTable) return;\n",
              "\n",
              "          const docLinkHtml = 'Like what you see? Visit the ' +\n",
              "            '<a target=\"_blank\" href=https://colab.research.google.com/notebooks/data_table.ipynb>data table notebook</a>'\n",
              "            + ' to learn more about interactive tables.';\n",
              "          element.innerHTML = '';\n",
              "          dataTable['output_type'] = 'display_data';\n",
              "          await google.colab.output.renderOutput(dataTable, element);\n",
              "          const docLink = document.createElement('div');\n",
              "          docLink.innerHTML = docLinkHtml;\n",
              "          element.appendChild(docLink);\n",
              "        }\n",
              "      </script>\n",
              "    </div>\n",
              "  </div>\n",
              "  "
            ]
          },
          "metadata": {},
          "execution_count": 7
        }
      ]
    },
    {
      "cell_type": "code",
      "source": [
        "pt = pd.crosstab( campus['specialisation'],campus['status'])\n",
        "pt"
      ],
      "metadata": {
        "colab": {
          "base_uri": "https://localhost:8080/",
          "height": 143
        },
        "id": "WFrXeuVwzHdI",
        "outputId": "b76b02c9-f24f-409f-836f-92e981bcd305"
      },
      "execution_count": null,
      "outputs": [
        {
          "output_type": "execute_result",
          "data": {
            "text/plain": [
              "status          Not Placed  Placed\n",
              "specialisation                    \n",
              "Mkt&Fin                 25      95\n",
              "Mkt&HR                  42      53"
            ],
            "text/html": [
              "\n",
              "  <div id=\"df-18ecc56a-2efb-4d5e-873b-52574fe93b70\">\n",
              "    <div class=\"colab-df-container\">\n",
              "      <div>\n",
              "<style scoped>\n",
              "    .dataframe tbody tr th:only-of-type {\n",
              "        vertical-align: middle;\n",
              "    }\n",
              "\n",
              "    .dataframe tbody tr th {\n",
              "        vertical-align: top;\n",
              "    }\n",
              "\n",
              "    .dataframe thead th {\n",
              "        text-align: right;\n",
              "    }\n",
              "</style>\n",
              "<table border=\"1\" class=\"dataframe\">\n",
              "  <thead>\n",
              "    <tr style=\"text-align: right;\">\n",
              "      <th>status</th>\n",
              "      <th>Not Placed</th>\n",
              "      <th>Placed</th>\n",
              "    </tr>\n",
              "    <tr>\n",
              "      <th>specialisation</th>\n",
              "      <th></th>\n",
              "      <th></th>\n",
              "    </tr>\n",
              "  </thead>\n",
              "  <tbody>\n",
              "    <tr>\n",
              "      <th>Mkt&amp;Fin</th>\n",
              "      <td>25</td>\n",
              "      <td>95</td>\n",
              "    </tr>\n",
              "    <tr>\n",
              "      <th>Mkt&amp;HR</th>\n",
              "      <td>42</td>\n",
              "      <td>53</td>\n",
              "    </tr>\n",
              "  </tbody>\n",
              "</table>\n",
              "</div>\n",
              "      <button class=\"colab-df-convert\" onclick=\"convertToInteractive('df-18ecc56a-2efb-4d5e-873b-52574fe93b70')\"\n",
              "              title=\"Convert this dataframe to an interactive table.\"\n",
              "              style=\"display:none;\">\n",
              "        \n",
              "  <svg xmlns=\"http://www.w3.org/2000/svg\" height=\"24px\"viewBox=\"0 0 24 24\"\n",
              "       width=\"24px\">\n",
              "    <path d=\"M0 0h24v24H0V0z\" fill=\"none\"/>\n",
              "    <path d=\"M18.56 5.44l.94 2.06.94-2.06 2.06-.94-2.06-.94-.94-2.06-.94 2.06-2.06.94zm-11 1L8.5 8.5l.94-2.06 2.06-.94-2.06-.94L8.5 2.5l-.94 2.06-2.06.94zm10 10l.94 2.06.94-2.06 2.06-.94-2.06-.94-.94-2.06-.94 2.06-2.06.94z\"/><path d=\"M17.41 7.96l-1.37-1.37c-.4-.4-.92-.59-1.43-.59-.52 0-1.04.2-1.43.59L10.3 9.45l-7.72 7.72c-.78.78-.78 2.05 0 2.83L4 21.41c.39.39.9.59 1.41.59.51 0 1.02-.2 1.41-.59l7.78-7.78 2.81-2.81c.8-.78.8-2.07 0-2.86zM5.41 20L4 18.59l7.72-7.72 1.47 1.35L5.41 20z\"/>\n",
              "  </svg>\n",
              "      </button>\n",
              "      \n",
              "  <style>\n",
              "    .colab-df-container {\n",
              "      display:flex;\n",
              "      flex-wrap:wrap;\n",
              "      gap: 12px;\n",
              "    }\n",
              "\n",
              "    .colab-df-convert {\n",
              "      background-color: #E8F0FE;\n",
              "      border: none;\n",
              "      border-radius: 50%;\n",
              "      cursor: pointer;\n",
              "      display: none;\n",
              "      fill: #1967D2;\n",
              "      height: 32px;\n",
              "      padding: 0 0 0 0;\n",
              "      width: 32px;\n",
              "    }\n",
              "\n",
              "    .colab-df-convert:hover {\n",
              "      background-color: #E2EBFA;\n",
              "      box-shadow: 0px 1px 2px rgba(60, 64, 67, 0.3), 0px 1px 3px 1px rgba(60, 64, 67, 0.15);\n",
              "      fill: #174EA6;\n",
              "    }\n",
              "\n",
              "    [theme=dark] .colab-df-convert {\n",
              "      background-color: #3B4455;\n",
              "      fill: #D2E3FC;\n",
              "    }\n",
              "\n",
              "    [theme=dark] .colab-df-convert:hover {\n",
              "      background-color: #434B5C;\n",
              "      box-shadow: 0px 1px 3px 1px rgba(0, 0, 0, 0.15);\n",
              "      filter: drop-shadow(0px 1px 2px rgba(0, 0, 0, 0.3));\n",
              "      fill: #FFFFFF;\n",
              "    }\n",
              "  </style>\n",
              "\n",
              "      <script>\n",
              "        const buttonEl =\n",
              "          document.querySelector('#df-18ecc56a-2efb-4d5e-873b-52574fe93b70 button.colab-df-convert');\n",
              "        buttonEl.style.display =\n",
              "          google.colab.kernel.accessAllowed ? 'block' : 'none';\n",
              "\n",
              "        async function convertToInteractive(key) {\n",
              "          const element = document.querySelector('#df-18ecc56a-2efb-4d5e-873b-52574fe93b70');\n",
              "          const dataTable =\n",
              "            await google.colab.kernel.invokeFunction('convertToInteractive',\n",
              "                                                     [key], {});\n",
              "          if (!dataTable) return;\n",
              "\n",
              "          const docLinkHtml = 'Like what you see? Visit the ' +\n",
              "            '<a target=\"_blank\" href=https://colab.research.google.com/notebooks/data_table.ipynb>data table notebook</a>'\n",
              "            + ' to learn more about interactive tables.';\n",
              "          element.innerHTML = '';\n",
              "          dataTable['output_type'] = 'display_data';\n",
              "          await google.colab.output.renderOutput(dataTable, element);\n",
              "          const docLink = document.createElement('div');\n",
              "          docLink.innerHTML = docLinkHtml;\n",
              "          element.appendChild(docLink);\n",
              "        }\n",
              "      </script>\n",
              "    </div>\n",
              "  </div>\n",
              "  "
            ]
          },
          "metadata": {},
          "execution_count": 18
        }
      ]
    },
    {
      "cell_type": "code",
      "source": [
        "pt/len(campus)"
      ],
      "metadata": {
        "id": "x_Gcr0jb6CLz",
        "outputId": "cebe2bd7-846d-4ba4-9fe0-0bf1a3c6bbc1",
        "colab": {
          "base_uri": "https://localhost:8080/",
          "height": 143
        }
      },
      "execution_count": null,
      "outputs": [
        {
          "output_type": "execute_result",
          "data": {
            "text/plain": [
              "status          Not Placed    Placed\n",
              "specialisation                      \n",
              "Mkt&Fin           0.116279  0.441860\n",
              "Mkt&HR            0.195349  0.246512"
            ],
            "text/html": [
              "\n",
              "  <div id=\"df-15f0c98c-eebe-4e23-81e2-78e649153da9\">\n",
              "    <div class=\"colab-df-container\">\n",
              "      <div>\n",
              "<style scoped>\n",
              "    .dataframe tbody tr th:only-of-type {\n",
              "        vertical-align: middle;\n",
              "    }\n",
              "\n",
              "    .dataframe tbody tr th {\n",
              "        vertical-align: top;\n",
              "    }\n",
              "\n",
              "    .dataframe thead th {\n",
              "        text-align: right;\n",
              "    }\n",
              "</style>\n",
              "<table border=\"1\" class=\"dataframe\">\n",
              "  <thead>\n",
              "    <tr style=\"text-align: right;\">\n",
              "      <th>status</th>\n",
              "      <th>Not Placed</th>\n",
              "      <th>Placed</th>\n",
              "    </tr>\n",
              "    <tr>\n",
              "      <th>specialisation</th>\n",
              "      <th></th>\n",
              "      <th></th>\n",
              "    </tr>\n",
              "  </thead>\n",
              "  <tbody>\n",
              "    <tr>\n",
              "      <th>Mkt&amp;Fin</th>\n",
              "      <td>0.116279</td>\n",
              "      <td>0.441860</td>\n",
              "    </tr>\n",
              "    <tr>\n",
              "      <th>Mkt&amp;HR</th>\n",
              "      <td>0.195349</td>\n",
              "      <td>0.246512</td>\n",
              "    </tr>\n",
              "  </tbody>\n",
              "</table>\n",
              "</div>\n",
              "      <button class=\"colab-df-convert\" onclick=\"convertToInteractive('df-15f0c98c-eebe-4e23-81e2-78e649153da9')\"\n",
              "              title=\"Convert this dataframe to an interactive table.\"\n",
              "              style=\"display:none;\">\n",
              "        \n",
              "  <svg xmlns=\"http://www.w3.org/2000/svg\" height=\"24px\"viewBox=\"0 0 24 24\"\n",
              "       width=\"24px\">\n",
              "    <path d=\"M0 0h24v24H0V0z\" fill=\"none\"/>\n",
              "    <path d=\"M18.56 5.44l.94 2.06.94-2.06 2.06-.94-2.06-.94-.94-2.06-.94 2.06-2.06.94zm-11 1L8.5 8.5l.94-2.06 2.06-.94-2.06-.94L8.5 2.5l-.94 2.06-2.06.94zm10 10l.94 2.06.94-2.06 2.06-.94-2.06-.94-.94-2.06-.94 2.06-2.06.94z\"/><path d=\"M17.41 7.96l-1.37-1.37c-.4-.4-.92-.59-1.43-.59-.52 0-1.04.2-1.43.59L10.3 9.45l-7.72 7.72c-.78.78-.78 2.05 0 2.83L4 21.41c.39.39.9.59 1.41.59.51 0 1.02-.2 1.41-.59l7.78-7.78 2.81-2.81c.8-.78.8-2.07 0-2.86zM5.41 20L4 18.59l7.72-7.72 1.47 1.35L5.41 20z\"/>\n",
              "  </svg>\n",
              "      </button>\n",
              "      \n",
              "  <style>\n",
              "    .colab-df-container {\n",
              "      display:flex;\n",
              "      flex-wrap:wrap;\n",
              "      gap: 12px;\n",
              "    }\n",
              "\n",
              "    .colab-df-convert {\n",
              "      background-color: #E8F0FE;\n",
              "      border: none;\n",
              "      border-radius: 50%;\n",
              "      cursor: pointer;\n",
              "      display: none;\n",
              "      fill: #1967D2;\n",
              "      height: 32px;\n",
              "      padding: 0 0 0 0;\n",
              "      width: 32px;\n",
              "    }\n",
              "\n",
              "    .colab-df-convert:hover {\n",
              "      background-color: #E2EBFA;\n",
              "      box-shadow: 0px 1px 2px rgba(60, 64, 67, 0.3), 0px 1px 3px 1px rgba(60, 64, 67, 0.15);\n",
              "      fill: #174EA6;\n",
              "    }\n",
              "\n",
              "    [theme=dark] .colab-df-convert {\n",
              "      background-color: #3B4455;\n",
              "      fill: #D2E3FC;\n",
              "    }\n",
              "\n",
              "    [theme=dark] .colab-df-convert:hover {\n",
              "      background-color: #434B5C;\n",
              "      box-shadow: 0px 1px 3px 1px rgba(0, 0, 0, 0.15);\n",
              "      filter: drop-shadow(0px 1px 2px rgba(0, 0, 0, 0.3));\n",
              "      fill: #FFFFFF;\n",
              "    }\n",
              "  </style>\n",
              "\n",
              "      <script>\n",
              "        const buttonEl =\n",
              "          document.querySelector('#df-15f0c98c-eebe-4e23-81e2-78e649153da9 button.colab-df-convert');\n",
              "        buttonEl.style.display =\n",
              "          google.colab.kernel.accessAllowed ? 'block' : 'none';\n",
              "\n",
              "        async function convertToInteractive(key) {\n",
              "          const element = document.querySelector('#df-15f0c98c-eebe-4e23-81e2-78e649153da9');\n",
              "          const dataTable =\n",
              "            await google.colab.kernel.invokeFunction('convertToInteractive',\n",
              "                                                     [key], {});\n",
              "          if (!dataTable) return;\n",
              "\n",
              "          const docLinkHtml = 'Like what you see? Visit the ' +\n",
              "            '<a target=\"_blank\" href=https://colab.research.google.com/notebooks/data_table.ipynb>data table notebook</a>'\n",
              "            + ' to learn more about interactive tables.';\n",
              "          element.innerHTML = '';\n",
              "          dataTable['output_type'] = 'display_data';\n",
              "          await google.colab.output.renderOutput(dataTable, element);\n",
              "          const docLink = document.createElement('div');\n",
              "          docLink.innerHTML = docLinkHtml;\n",
              "          element.appendChild(docLink);\n",
              "        }\n",
              "      </script>\n",
              "    </div>\n",
              "  </div>\n",
              "  "
            ]
          },
          "metadata": {},
          "execution_count": 19
        }
      ]
    },
    {
      "cell_type": "markdown",
      "source": [
        "# What Is Normalization?\n",
        "Normalization is a data preprocessing technique used to adjust the values of features in a dataset to a common scale. This is done to facilitate data analysis and modeling, and to reduce the impact of different scales on the accuracy of machine learning models.\n",
        "\n",
        "Normalization is a scaling technique in which values are shifted and rescaled so that they end up ranging between 0 and 1. It is also known as Min-Max scaling.\n",
        "\n",
        "Here’s the formula for normalization:\n",
        "\n",
        "![image.png](data:image/png;base64,iVBORw0KGgoAAAANSUhEUgAAAJYAAAAnCAYAAADtl7EyAAADvElEQVR4nO2c7YnjMBCG3xxXQNgSxFZgUoJIBSYlmK1ApASRCoRLCFuBcAnCFRiXMKSDuR8b+exs7i6+tdZyrAf8Y9eSmJHG+hreACuGiLgoCt5utwyApZRMROzfn89nBsBCCC6KYvBujXYlRmKMYQDcNM1ggJqmYaXUbIMWq12JcXBRFN1gERFfB3ZuYrUr8QjXGYCJiGMavFjtSjzIdZ/CSqmoBi9WuxIjyPOcAUQ3eCHsOp/PQfdpP0I1vDSIiF9eXgB0m+YoCGWXlBKn02kzVXu3TNJw0zS83+/Rtm0wQ0NCRKy1xul02mRZxpfLZZQvzjk+Ho8PlZVS4ng8PtT2V+1aPEop1lpH85WPgYgGS4K/I7LWzurPGLuuAchKKbbWsjGG8zznpmnYGMPGmMHJUmvN1+X1bt2iKD5dccxClmWLvaS7t88QQrCUclZ/xth1DToAYOccAx/B0y97vWztllMhBBMR36sbxUFhqZd1RNR9tbf4i0nf0d/J/9rlnBsEUp7nXdAQEQshundN03CWZfy3unP4PsA5t6jZylrrO5G32+2nDrTW+k7vUiZLsEtrPdiO+BkJ+AjIfvnbGem2rp/dJiPlqJaLlLILxtsZKs/zbv8E/A46/3e/rrW2259Nvs9MOarl0V/KrLWDcTLGsNa6CxR/2PLj26/rl+KQe6yUo0pMT8pRJYKQclSJYMSaO0vEz88/vSCiLk1hjOG3t7cvpxKuJ8mHygohguayEjPQTydkWTY4ukYGpyfaZ0isubPEsvi01Cil+HYJEkKwEAJVVX1paUpL4QqJNXeWWCix5s4SiUTieVl7An3t/gdn7Qn0tfsfmrUn0NfufxjWnkBfu//BWHsCfe3+B2XtCfS5Ra5PKViNVXz6XcQgcn26lMkSRJ6hBK5APP5H1eFfpd+pwMfUfTgcYK3Ffr/f3JYtyxJEBCkl2rZFVVXQWqOqKgBAXdcoy7Krp5RiIQTqugaA7t35fGYiQl3XXVsARgXEFIT0X2vNzjm8v79v7tWt6xpKKby+vj5VTAEIJ/IEhkqWvlyqL/r0IgRrbV8I+m2sXuQ6NaFFns457geZl1PdtieEmEWankSuE/NdIk//Wwj3yvWZXOj5D55a5LpkHhV59o/Zzjn2A+CXPP/4L9haG8ePavyDkCLXp7xuGMNut9sAgHMOeZ53/5dSoq5rCCFwOBw2l8sFxhhu2xZZlqEsy25D7JwDESHLMhhj+HK5LGYT+4j/AJDnOcqyhJTyU93dbgcAqKqq65NfdXoUSxchciwAAAAASUVORK5CYII=)\n",
        "\n",
        "\n",
        "Normalization equation\n",
        "Here, Xmax and Xmin are the maximum and the minimum values of the feature, respectively.\n",
        "\n",
        "When the value of X is the minimum value in the column, the numerator will be 0, and hence X’ is 0\n",
        "On the other hand, when the value of X is the maximum value in the column, the numerator is equal to the denominator, and thus the value of X’ is 1\n",
        "If the value of X is between the minimum and the maximum value, then the value of X’ is between 0 and 1"
      ],
      "metadata": {
        "id": "r6RjN0Uflp_-"
      }
    },
    {
      "cell_type": "markdown",
      "source": [
        "# What Is Standardization?\n",
        "Standardization is another scaling method where the values are centered around the mean with a unit standard deviation. This means that the mean of the attribute becomes zero, and the resultant distribution has a unit standard deviation.\n",
        "\n",
        "Here’s the formula for standardization:\n",
        "\n",
        "![image.png](data:image/png;base64,iVBORw0KGgoAAAANSUhEUgAAAGEAAAAlCAYAAABSz4fZAAACgUlEQVRoge2a4c2yMBDHzzfvAA0jXJygcYTGCZpnBOIEDSMQJmgcoXECwgiNExBGuLDBvV/AiGheH0FKtL/EL4JwXuld/38K8CEQEadpykIIBgBWSjERcX/cOccAwIjIaZoOjkVmxlrLAMB1XQ+SXNc1G2Ni4heE0zS9JJyIuBucyFJ0TzwTEccBCERX79kYs4oB0FpzWZaDOJRS7L0PHttb0VozAKzlTw56VP+Q9IuDP8HCeiNExEmSAMClUQejLEsWQsB2u93031VVBYgISZJsAAA2j3/+PHVd836/h6ZpZrneFIiI8zyHoig2Ukpu2/bXcXnvOcuyp85VSkGWZQ+vb4zhpmngdDpdzukXDcfjcb58GWM4z/PgU5+IBsvQXhvc1uMlkVKO+hIichfbvDdag/i5pwMQkZVSIWMbNODrfuC9nydvaxBBRMRdIx7Ri7cQK5FuBg7ubYzpVf18/Wq20XyBsiz7p5yFEKNEl2XJUsqBXbFkfMYYllJymqbsnGPnHPf2irX2fpmM/su8SClfr/3Rf5mNUQ5/fYHov7xOpw+m5Sv6L9Ow1k6vGmvzX76WlfkvH8vfRweI6CLdrbV8OBwmS+xuRfXUuYgIRVEEt0GCcS3/pZSMiGudDfwhnyFr9F8+ndF0N8bwbRlAREZEqKpqUnmI5eg/rNV/+QrW7r9EIpFIJBKJREJjre1dgsFnsjX9gI/cdzQFrTWfz2fw3gMRgVIKjDEAAJu2bb9LPIbAWjvamXGlkyJLcE+sOufevmUmlqOO/l3wbrcblJyqqkBKGSaob+NR2RFCxF0lS3L73kRrPf92xTvEbn+F956dc4CI0DQN/Pz8jMrTO/gHzgpWIfS371AAAAAASUVORK5CYII=)\n",
        "\n",
        "1. Mu is the mean of the feature values \n",
        "2. Sigma is the standard deviation of the feature values. \n",
        "\n",
        "Note that, in this case, the values are not restricted to a particular range.\n",
        "\n",
        "\n",
        "# The Big Question – Normalize or Standardize?\n",
        "\n",
        "![image.png](data:image/png;base64,iVBORw0KGgoAAAANSUhEUgAABDIAAAFsCAYAAAA+FZkAAAAgAElEQVR4nOzdf2zTZ57o+/deRsdVRuuK0RpxbmN1ZGdmhCmjcUvVGLqDW9S45TShnBoz2iR0m4TuJOHswSkjyPQWPKOZONW0TrWN6d3GsKeEaAeTOzSOlmLOppgzFOcIJl6ViUct9ojW6RkU7w7Cu43iEdH3/mE7sR07v8iPQj8vqRom/vr5Pr++vx4/38/zZ4qiKAghhBBCCCGEEELcBf6vlc6AEEIIIYQQQgghxFzJQIYQQgghhBBCCCHuGjKQIYQQQgghhBBCiLuGDGQIIYQQQgghhBDiriEDGUIIIYQQQgghhLhrLMFARginXo9er8fSHiI529btqW31eiehxc/Ml8cVZ7qceup741N/HwvhqjSg32jFfWW22louSUIdlRj0Rqyds7ehEEIIUdSNIJ79NVg2Zq73Riwv2HH1hojdVReYON66L8M9y9R9lr7Oy+QdhdxPCCGE+ApZ0hkZka5qmnpjS7mLu174XTvucBJuhnD9zEtkmfabHAnQ3eGi+0qiQKY82DvDJEkQ6jiEN7pMmRJCCHFPiZ1uwri5BufpIJGbmb8miFz04T5gxbyxCd+N3O8krnrxdLjwf7rcub27yf2EEEKIr5IlfrUkSeCAnW65cH3phE/U4+h0E7guv48IIYRYAmE3Dfv9JADVxmaOnhskdCVE6INeHD8woAJ41IxpbfaX4pztaMXZ6WYoXjBV8SUj9xNCCCFWwjLEyAjhaHQSGlv6Pd2NDC900GxQwWojLf+PjbJl2WuMa1dnylQDHXsNqFBjtP8Um35ZMiWEEOKekSR4yp2eFWCh/f9twazXoF6tRv2gkdqf9zN4rpf+12xosr82ESF6YUUyfNeT+wkhhBBfJV9blr1EPVTv0+N/24Z21bLs8e5RYqSlP0zLcu4zGSU8ONMGKoz2fsL25cqQEEKIe0uMSCjzC70W7erpW6j1Rgz5f7we4dIS5+yeJfcTQgghvkKWdkaGvmzyF4HkQCsNfzfPQE+JCIEuOzUVxnRwLQPllU04+8MkJnI3jffWp7bZ6CYExC+6acp8b7ObMMANL/V6PXq9Bc8nEB/0YN9VjkGvx7C5Hvdgeh5rIoyvvWkyMJmxogZH7/R9AiSiATz7a6jcbEjta0M51v0egnOdElskCOhkeWb4z3klK52JOKFeJ03PWTDqM/luwtkfyarzCN0vVFL5ZBPd6b8EDpRPpdmeCV1WJJDYnbRLhYdIpl0qU3Wu31CO9ZCXcIHXaoUQQtzNVKi+nvl3N52/nCVeViKA47lKLLscqes14NmlLxwke07Xu5RMQHHDAT+JiQThXsfUtWujhabOIPEC13YSYbyHrJRvmErfPTgycxHmeD8wp/uVjBtB3I2Zchoo3+XA+8mtwhmQ+wm5nxBCiK+QpZ2R8aQDz0seLAcCJIFI50Fcf+mjdaNq1q8mP+mm6XkHgZxXUpLEw348+/x0v9NMz8kWjCV5X7x5luMHzuPvzRo0ebSM0pyNIpx6uRJXODy1zY0Aruoa6HGQOFSDJyuuRyIapPtAJcFYLz67MfVe70QM/6Em7L8M5944jcUJnXZS4w/S8T+PUpXz7u9iUqFKz25JXvVQ/6KT4M3cLRLRVF0FIpl8/zsjF8O5N0nztOB2ifbhfOkUgYGs8GNjcUI9rVQOjtDb34Jx9m4hhBDirrAG7bdVMJgEkgReMWPsraL5hT1YKgxo88/3Y6PEroZnDVA59+td3vd6vdhv2gkMZF2xb0bwd9QQ+KiDC+9UTb3iMuKl/pnWnOtcIurHVe0vnKmF3g/Mcr+SvOKkapcnq06SxK900/pMN4tL7ieEEELcfZY4RsZ9aK1H6NmTmZcRwfNiE96Zf9SAsQDOzMWtxIDttX4Gr4QIfejn6N7UDUoy7KZ6n2/66D5hfL1hDHuP4v8wlAos9poFdd5WkXB0apsPjlKrT+XPvaceT7Rscp+D7zkwpy+ikc7jBDKj/avuhy+iJFFjsnfQ/0GI0JVB/G/WpmahjAU4+PfBBS81pqnsSOU9+79zDszpz1VbHez8bvrfq5LEb4LKYMPxrj9VVx/00rJVlc73z/F+CmCkJRQi9E7t5H5Mh/un0v9b48yZusN2CQyMYrKn6/zDfhzp/BF103VOfkYRQoh7hwrTzuacOA2JkA/nvkrMBgPlL7kJRLPO+2ttHLkSov+wafJPte9MXf86KlPDDHO/3uULEAjqsf20l8CV7Os+JAdceDNxHibCuOsygxhqTPYTqe2zrnPTLPh+YIb7lZt+Dr6YHsTIvt5+0IvDOr/oF3I/IYQQ4l60DME+VRh/5MGZuciMBWitmzn4Z+x0J93pz82Hj+G0GtCsVqNeW4bZ3sOR6lRaOTcfWbR1R+mxmylbq04FFit057H7KL2ZbR400/pK6mKcHEtCdSuO9D41G2pp/VHmLV4fQ59kElBjeSNEOBzixN4qDA+qUa/WUFbZQktlaovk8cDCf61QpfOe+U99i7OvOQkAlJhp/2lWvBFDM/6rYcL9TmofL0vV1YNGmvc1owUgROByPJ2sGvX9UxWiKtFM7SP/V488d9outrcvcGJvus7XGqj96dSNlP/ykKwvL4QQ9xJDMyd6mqf/ok6S+ICL+ootNJ2eeuVEtVqNpiTr+nR/1jUw8+d5XO/yMkPryX6c1Ua0q1PXfUdbQ3pgIsbZUOrX/WTQizs9I1O75xhH95pS268tw2zvwFFeqKALvx8odr8SO9OFr9D19kEjtW0OGgploxi5nxBCCHEPWoaBDGCVFtuhqZkNRD3YO4rNVogTupB5t7IKW4Um73MVpq229L+nbj6yWSymwr+a5CRzX+7//frUN0wGfc737y9ZM/nvyPWsG6RVKlTTdqRmzeT00QixRVo+LtJjp3UgCZTR8A9Hpk9RLSlQ4m9oyAQID8ZmmwYzmztvF/U38ubFrP3W1K91I6PIbyhCCHFv0ZS30PsvIfzvtFK1UZN3bU7g32+nu+AMihks6Hq3BvU38v5Uqicz/yP8f/499b+Xvel7ExVVlvwZGPdR9OZigfcDhe9Xsq+3ZrZvybverrpv2jfmQ+4nhBBC3AuWZ9USgFIbR/4hOvm+Z+xYPU3f8Rf4VWGE4YHMv9ewJv+dEEBVqscAhJm6+VhMqq/N4ybhZoTggA9v/3nCw2Eiee+VjhcKIjZPyStOmn+SuuiX7WmnpVCMkYkksbCfwKmzeENDRMPxnIGi5B3/PLHy7SKEEOIutEpN2dYGOrY2QDJGqPcIBw9507EfQngvRKjdPY/XJZbsehcn9rvMl02U/ud5fn3R7gdGiAQz/y5Dm/+cfwfkfkIIIcS9YvkGMgDVxlY8r0XSwT+TBA40MFJgTXFVCTDDqydfDkkiPXZ2HvIv7cj/WBDXy+n3ZLc48fyowDu68QDOuiY84aWdTHl3tIsQQogvLZUWY7WTU+pbGPelgmfO60F1ia9347cX8q3Fvx9ILsW1Vu4nhBBC3EOW59WSLFprBx2VmUtnhEg0f4tSyiZjfY0yWuiuID4y+a6p4f/+8yXI5ewSZw5Slb5pUT9ei+PN3slgXUd3L9JOJmJ499XjGQFKzDiz32Od3CaMu7o+ddNRYqBqr5Oj7wVSwbb6HZgKpbsgd0e7CCGE+PJT/2ft5L/nfL1Y8uudBu3kjyujJL+Y27cW/37gL9BPxuJIcmsxxhTkfkIIIcQ9ZtkHMkCNpa2HhgIzMVI0GLdkol376LuQf4VLEjiTWXpMy9PG+UXvXizRj3zpqZYNHDnmoLbSOBmsS7VI81xipxzp91i1NHQdwVZaYKP4bxlKDwaZXjlCh92GeYM2HdBrDsvc3h6fY27ujnYRQgjx5RA7baepM0i8wCsV8euZuAczXC/yZ0fc4fVuLsq+kwkZGaZvMJb74cQtEn+c/p3Fvx/Q8q0NmfJ4CVzOG8kYuzXvmR9yPyGEEOJeswIDGUCJkdZjzqngn3m0O16mIX2R9f+4mtbeMPGbCRI3IgQ6qmnqSYfi2tqCbcMy5TnfZFSvAP5AjMTNBIlPQ3jba2g6dufJJ684aXglAIDmB63UfCeZ2kfWf8kJcoJ+DX0QIHwjQeJmnMiAB3ujg2ChxFeXklmHJXjsKL4rIXw93YRuFtp4yl3RLkIIIVZetBv7fh/+jhq2PGfHMxBJXS9uxgj1tFL3k9T1Lf96odZMzdToPuYmeCWIt8tPZKHXu3nSbN2OJf3vULsd18XU9T0eDeD6qyqcBVbQWIr7AeN/yawSkqT7pw68V+MkbiaIXemm9bl6vPNIS+4nhBBC3IuWNUZGjrzgnzlKTLR0OYg87yAwFsZ7oHLaRVtlaKbnzSoWMQbWvBjMDZR1uokQofslM5nfDigx0Ly3Fk9n9x0s/xXH/85UvcR/2YT5l/nbmHF+eBTbWhPbt6oIDCRJDjioHHBMbqHe1kKDxoXnQt5Xv/kIT+shHCV1s7krlXvVx1pCPzUXX/HlLmgXIYQQKy+RVPEtg4pQOEky7MP5kg9n3jaFrheq75qoKunGN5ZaerMmHRTSqPLTu3sB17v5Wl1F62t9BA4ESI6FcL9gxj35mQVbZRhvf+5MjSW5H9jQQMceH9auCES9tD7npTX9kcpgw7bFi3dOZZX7CSGEEPemlZmRkaba2EL7XkPBC53q27Uc/dDP0YNVmPSZkNYqNAYLDW/2M/heS4G16ZePytjCiZ4WLJm8lWgw7mjlxAf9tDRZqF19Z+nPPeCYhqo3fTirjWjS9aHWW2h408/gW83UVBRY2m2VgeaeE7RUlJHKvZqyigbaf/DwrMvWftnbRQghxMpTG2w43wsROOmkeYcJw9rM1WWW68VqC+3/n5PazFKt6WvryxVlLOh6twBa61EuvJt1fV9dhmVPB/0fHMFhnf5wvjT3AyqMPzpF/2u1GNN1p1prpOrgCS6856Rpq3GW70+R+wkhhBD3oj9TFEVZ6UwIIYQQQgghhBBCzMWKzsgQQgghhBBCCCGEmA8ZyBBCCCGEEEIIIcRdQwYyhBBCCCGEEEIIcdeQgQwhhBBCCCGEEELcNWQgQwghhBBCCCGEEHcNGcgQQgghhBBCCCHEXUMGMoQQQgghhBBCCHHXkIEMIYQQQgghhBBC3DVkIEMIIYQQQgghhBB3DRnIEEIIIYQQQgghxF1DBjKEEEIIIYQQQghx15CBDCGEEEIIIYQQQtw1ZCBDCCGEEEIIIYQQdw0ZyBBCCCGEEEIIIcRdQwYyhBBCCCGEEEIIcdeQgQwhhBBCCCGEEELcNWQgQwghhBBCCCGEEHcNGcgQQgghhBBCCCHEXUMGMoQQQgix9G6E8XXZqaksx6DXo9fr0W8op/IFO67eELHkSmfw7hVqT9VnfW98pbMiZrA47RTHW6dHr6/He2PRsia+DG54qdfr0eudhFY6L0Vl+p8e55WVzov4qpOBDCGEEEIsnYk4wc4ajJsrsbf7GE6WYalrpnlvMw2WMv407MN9wIp5YyXOC8v8IB5yYZAHwrQ4vpf06Nu/vI9QXx3SFkIUFfdRLwMpAvjaSmdACCGEEPeoiRi+fVXYzyRQGWw4X2vFZlDnbNI6kSB82on9wBAqtbpIQksj8YcYMhEkI07sY0C30vkQ0hZCzCAeIwqUrXQ+xIqTgQwhhBBCLIlIjx37mQToG+g52YqxpMBGq9QYrE78lUlQqZY1f7cScWB59/mlNXGLxMhKZ0IA0hZCzCSRILbSeRBfCvJqiRBCCCEW300frp+EgDJa3iwyiJFtmQcxAP71enDZ9/mlFY8RWek8iBRpCyGKio/I0SFSZCBDCCGEEIsuPtCHH2BbM7WGBSYyESfYZaemwjgVHLTRTeDT/BdCQjj1egwH/CSA+EUP9l3poKIbyrEe8hIZy9q6q5LKzQasXQABWjeng48WCsSYCONrb6JysyG1zUYLNYe6CeWH87jiTH3/dBzGIngPWSnfkErT2B6afIUlEfbhbLRgTO/PWNGEsz9MYmIO9XEjiGd/Jl0D5bvseAbjjM9Qf6FeJ02TAVaNWBqd+D7Jqr+4n9bnLBg3txIA6LJO1sW0oIM3Qnjz6qKp3ZdTtzNJRAN49tdg2ZhK37DZir0rSDyv7PHeevR6A64QEA/inqwvAzW9ub/Fxi9248ipzxrsXQEiibydp9tHX+elUCSWQoE4U/mw4PmEyX6Qybuxogn3YJGYLvNtp8kdzqMt0nL7kxFLo5tgkWyltq2c6pcVNTh6QtPqv0DtTB1fEwlCPXasG9Nle8lDON3+yU+y8rKhHOt+T9G8xC96sL8w1a7llU24B4q86jXXfnfFiV5voPVcYvLcYU1/x7DZiqM3MrdXyeZy3OTXC7Ofd6bSTxDud9KUOa9lypPfZ2fIX3bZJuu6UKyf/PNXsXPonMs8s/n0sZz6yhwnF4vHSYqfaaWywkj5gQAAnl1T5+1p8WQSYXwduXVU2ejEe2XucZjmer4SK0deLRFCCCHEIkswdDF1s2nabGRBkS/GQjifs+KJqtBstNCwV4vqZgT/GRf1T/poOOmjdWPuLI7kx8P0dXTiPBbHYNlOQ3mS4V4vgZ5WLINx+t9vxrAKSr+9nSesI6x5r5vAiBbz7irWpzOp+WZWmiNe6p9pJTCmpqzCRrNVTfLzS/SddmA9HcD5/lFspbnZHr1+FudzDrxY2F7XjBrQ/KUeFZC84mTnLg+REg3m6mbWr04SG+yje18l3uETDB40FX3RJXnFhfVFN+ExFZqNVTSUa+HzS3j2bKHg88+Ij6bn7PhvgtpYRe3e1Pbe0x7sFyOMZ/Ku1mLaYkFT9ue4T4fAWEXzZm06kfX8RfpfsdNNVO33k0CNcUctzQ9A7EMvvi47gd+P43/bhnZVscZMEuqwUt0ZJlmiwbyjGcvqBMO9XnztNYT/rRffQWNe2ZPEQ93U73YybLBg22tBBax/VDuVZnsV1q4IrC7DUt1M2epkKk/t9fj+3kLHe0eoKp2WmXmKEL3YTdMRB8FvWNhe3Yz580t4T/txVQeIvDVIx7apHj7vdso2x7bIlD/6j01s6QyypmI7tXvNqbKfc1FzMcKR/9WBZfXU1rHeeiwHAiRXl2HZka6rwT68h6x4Lzhnab/0HkeG8Ow7iGfoYWzVzTz0Oy/eASfWH2u58FKEmko3t7bapvJy2knNR3F638uekTXVbqq1Rix1zWhLEkTe78P1khnfnty+MP9+l+S3w3243nLi+aMBy7YGNiWH8Z4O0H3AQjDej79xhpHVuR432Xuc43kHyIkblOq3tZStThB5/zCWnuTsL7pNxPA2WmgdSKI2VtFgzZwXndScDuC8cGIqf5PnL/K2dVH/ZDfNJy/QslG1oDIXMp8+NrWtkao622QfcL7gI/BagBNW7bT01d808cQzGso+dOMLgXFHM5seSH+4PuvomCx3+tph1aK6OYz3tIfWc9107+2h155/vslp0QWcr8SKUIQQQgghFtWw0vl9naLT6ZS2ywv5/qjSt2edotNVKG3BW7kf3f5MOf6iTtE9dFi5NJ7545DSpkvtb92e48rwrdztT76Y+uxwYDzrg9H03+uUk38okIXxIeWNp3SK7qE65eT1vM9uXVLavq9TdM8fVz7L/O1ym6JL56HCOaSMK/ky+3teOR7JSy4yrHz2xQzVMT6U2p+uQjkcGM1L9rxy+KnUfutOZX32hz5l3/Z9yvHh3PobDxxW1ul0iu6/n1VyPsnk3zlUMAujvn3Ksy/n1a0yrpx/dZ2i0+mUff90q+D3MtsNHalWqp3nldHbWX++fU05/rxO0em2KJ3DWfs6VZeuy3VK3anPpqWmKIoy+qs6ZZ1Op6zbc1L57HbeZ/98WNmi0ym6pzqV4cxnmfK9eFIZnZaaogw5p9fhVD4qlMP/nPut8WBbah/bjyvXJv+4gHYqZMa2GJ3sz7qnDivnc/ruuHLpZ1sUnU6nPPvutam/Dr2hVBSpq1u/TpXj+ROF6zll6viqcF5SbmWlce3d5xWdrkKpeCq/rab6Rk6dptstPx1FUZTPTtQpOt065fCvp46eefW7yWNwnVL37nBu+rGTSp1Op+h0h5Xz0w/OKfM6buZ/3sn0qXV7jivXco75ceXau6m60enalMJHYaqM63Q6Zd2r53PPMbdHleHhrH51e1jpfCpdF/+Y17a3R5VLvqGpcsyrzFP9L/vcPq8+dntIaXsodQ4/n3feG/1oOPccUUDmWC14bcmctwtdO764pnS9mKqTxTxfiZUjr5YIIYQQYpEl7yxYYdiLayCJareDlvK8+RyrtNS+1ABj3XgH8n/jbuDo27XkLIyySsvT1ioAvEPhOWchMXAcdxSMBx3YHsz7UG2iptEEoaP48pMsbaHjR4V+rRshegHgEcq+mZec3oB2hhgiiYHjeEZAVd1K6xZN7ocaM9ufLPCltVV0vNdBbd4qMarHLdQC9A8RLb7LaTSVHfS/nle3qDBvqwXA99FMqakwNp7gxEEzmuxfz1eVYbaagBhD4QJTvre101Hgl1kI430zQBIjra9Mn0mg2dpCyzYg6sYbvPN1aUw/9+DYmlvvqvLt7CwFrgbIZH1B7bTwXOE85sC8NidXmHbsRAuEL4bTr9AkCLzrJlKkrtSP19BUDqF3fMx+dDTg+JEJdVYaZZu3YyBCJFpLw47stprqG4GPhtOvdKTbraQWhz03HQDtDxpoIEl3b2By9sqC+l3dUY7uNuSmX/o0tkoALzOeBhZ03Mz1vBPG+1YAMNJ6oJaynGNeRVmFBdMMWQOIX0+9HvOwQZ97jlmlwWCY6nMJfxeuKKlj6Ad5x9AqDabKrJlyd3yumGcfi19LvXLzXQP6vPOeZoMh9xwxT5nzdsFrR0kZDfYWtCTxHeubIWDoAs9XYtnJqyVCCCGEWGQq1KXAAgczYh8FiQHaz/24OwoE5ExE0AKhT0eA3Gni9xW4CVavWQNAch7PtMMhX+ofoVO4Rgts8Pk4ECNyPUHOE8wzm6amkecwYN6twnPcg+PHpbT/NxvG0rlNTs7kxba1+Ksnc7bqvjtNIdcd3kne97XiJTJvMRV+LWnktwRHgA3bMeUPMgGgxvSkGc4E8F4O43jceEd5VH2tUJ1p0OiBERhPvzO/qO00e64K1/03NOiB2O10RI6JYYb6U/8c+pWrYHyQWBIYiRDL68qFTDu+vq5iDRAu11Oa/1mpHhMQHBklAWgy7VYaw3/ExfQjO0GkFAhFGMHCjKF1Zup3Bfu4mjVrAZIkFxLjYJbjZk7nnex+q19AHgDNo2aMBAj+3I5L006DuWzagBBM9cWqZ8wLe7UP5n6umG8fW2vCbITAoAN7xxra/9pM2eoCX1qAyWPQ/HDhY3DDJqpKXLhDAULxWrSaQhsVN9P5Siw/GcgQQgghxCLToP0OMALDkRhsLPSrenGZ1URiA924B4pvN79U5yNOLP0TZOi0u2CQxflTYfpRL62/r8bZ68Da60jFCPjrvTTvMlNW9GljKi+qry/sJjr5aZihWITI5QhxYvxmQamkTSSJhYcYuR4hGInD5/NMLRkncjXCyPVhhmIJEr+bz7yQtBvR1EPwN1TcX2QTjbYMCJD8NPUQveCHuTm783ZaEpMroITwdS5OTy5IBdMee7+Wt7hxpt1GAnR3BoqnVSgew532uwVY1OMG5tRvZ/VgLR1vhWk64MX9kgU3qfg99fUN2DZmnsqn+uKaNfPr+Qsq87z7mJbaN48QbrTj7azH0glqvQXbS3to2GG8gxkZczkGSyl9FLgQJRYHZhvIWIzzlVgyMpAhhBBCiEWmwfC4AQbCBD8MkfiBdkEPkg09UVrLFz1z82DKDZ53p0oMNLwbonYkRN+p43h7/anAlH9noPkfelOB9xbLRILwaReH2rsJ3VyE9BJhvK8fwtkTmj1oZSE3grgP2XEPxOe2coRYXOVOAj22JRz8m4e6E0Rfme0lirQ77XfztdjHzRLQbnPSb2klEujjRO8J+s55aD3nwbmtA9+bVbMGbZ1msco8nz5WasHZH6Y1GqDvXS8nzvjxHPDjaV+sIL13SM5XdwWJkSGEEEKIRVe2xYYR4Mxx+ub5I1bpd8wAXPoksuj5mhsN39qgAoKEo4t/G6sqNWKzd9D7YZjBd2opGwvjbvcWeWdbxf2ZUaDbc91DktDf7aTyQDfR9Q043/UzeCVMNBolGu2lYb4ZToZwWStp7Ymyfo+TE+cGCV2NptI7OYfUbviof6oGV1CD5WAH/R+ECIVT3x98zTzf3MDa1CsL/DHJrSKbxGOpvqN6cM0yzMaAhbXTMlj7LdaXAINhlqArz8+D6zEDXI4wpyP7TvvdvC3ycZOvRJ16yE8y+1K8s1mlpmxrLY63/YRC/Ti2qkicOcjRYBLQoE2/ujI6OtvwzyKU+Q76mFpvpvanR/D/7xD9h82obvo5eDS4wMGDqXInvyiWwggjlwH0xV8rWezzlVgyMpAhhBBCiMX3oI1X9pYBIRw/7yY2y3vp8Whs8uZV87AZIxD2BYks5H32RWB41IYK8A4s9KZ6bjRbt6ce7kIj/GvBLdToH05FC/BfKRylcDy/jpJB+jojUNpCz7FWbI+XoVm98NkeycE+3FHQ2ns4cdCGSa9BPUNw0nyRc10ExsDS1kPHnioMD6pR38nkk9KHMJUCV/sIflpogwTBDwKACtuj6UgLpfpUPc8w+HFnFtBOy8KAyaoCvAQGV3gkQ2PEbCTVbnMY3LzTfjdvi3zcTKNPD+QMBgrPfLjNws41agNPV5iAJLEbqYGL9cZUoFHf+4GZZ7IsSpkXoY+tUmNIBztNfhpb8OybTLm9gaHCdXn1Er4xwGjGWGQgY9HPV2LJyECGEEIIIZaACuPftNNsUMEFB5a/chG8UWCziTjBDitbKiw09abnJDy4nT2VKgg5aP5FkETeA2ByJIj7UPcdD3Lc9zWAINFMUNKJqUCAKpONZj0ke5po+uX0uZAQf5gAACAASURBVBKJq16cHbM8JOTmmnCvB1847xuf/Cb1Hvq29RSL/5eZ3RL7+zfw5gVQjQ84cBwrts8EyezZARMJwr1eCkYnWKVKxTP45NpksL5pwVH/I5n7cJAI4z01Q6yDPMn8BG8E6T5VIJjrrAzY9plREcL5c++0QbL4gAvXGUDfjM2UfgLRPMTDpcDVE5y6kszb3sHBrgVkI8/C2ynPXNpizlSYdjZTRpLuvU148wd+JhKEe524LizHixtattdVoSKEo9FJMH+XyRjBTgfd+YMcd9jv5m8ex818qExYdqsAP+6/D00rU/dPHQUCoOYZCeDpCRLP7vMTCYY/CgJaHv5O6ulcvXU3DaXAGReH+/POX4kw3fvt+HL66J2UeZ59bCJGoKt72vUgMRwmCGgffmjm0BWq1DEduZ4+OrLO2+qtu1Pn7eMOXIN5HWwsgqfDRQwVVXXbZ30FZvHOV2KpSIwMIYQQQiyNEiMtJ31oDuzEccZNzWYPGoOZp58sQw0kPjnP2Yth4mOg2thMw5bMraUaS1sPzdFq3F01lPcbsWzbhLYkQeT9PvzRBKy2oKm3UfbgQn8q02DcYoSBEJ4Xy7mk1/CnkTDU9+NvNMAqA83HOhh+zo7/FTPGYxa2P1OGeizGpTN+QjeSqAwNmOvNmOby7kI8QNdPnPjGXLRttLC9XAufX8J7OkSixEBLnaX4KxAP2nhl7wmsnQFanynHa9nOpgeSqbrAhvOgidb2rBtslQlztYruHg/VT0awWdejvhnh/ECAPz3uYKfVi7M3bx8GE7YSN90XWqmo6KZUFSd63UTH/+rA8qiZ2pJuuruq2fJ7G7Z16nTb/YknDu/E1uvEO0PRyzbbMOIgcKAC66CNTQ9A7F8CBIb+nIZXGjBccc+hAnNpdhyh5+MqrF2tmB87imWbhbLVSWIfevGFUv2j41jz1Aoyq1KDH+79ATy7yvnNDttUHf7RRMseM66uO3xUnW87FTNTWyxkdQdDM57Xh6na76f1SSNHK7Zj+baa5OeX6POHiI+pMOwx01BslZhFpN7WTs/HEao7PdRs7sNo2c6mB1QkPvHTdy5CAjWWtfXY9FpUd9jv5m0hx838doDpb9ox99oJdFkp/yB1TlF9fok+f5j1r7RSO+Cgu+j3k4T738D5ehhnR1m6zycY7vUSuJFEva0F24bMroy0dLbwm79y4dtnJvBuFbbNWlQ3h/GeDhDHQIM1QVXpIpV5Hn1MFfbxRruLcLuLsvR2id958Q7ESa620GKdcb2a9Gy5bgIHKrCcKOU/xaNEH+1g8E0LapWRlmNOhp9pxVNdTl/6XDtZ7jEVhr09tG8r3tOX4nwllogihBBCCLHEbkXOK10vVyvPblqn6HQ6RafTKes2PatUv/yGcvLyaOEv3R5Vhk61KY3PPqas0+kUnW6d8tizjcrhE5eU0dvZGw4pbTqdotO1KUOF0rncltqnM+/T258pZ199XnnsIZ2i031Pqfhhp3LpD/kZv6acf2efUv3U99L5/p5SsXuf8oZvWLmVnYdi+8hP663GqTp46DHl+Ze7pu+zoHHlmq9Naczk45EKpfGtdD0MvaGs0+mUulNZ9fjFNeXkZNlS9db5z58p44qijJ6qK1hX4x91Taa/btPzyuFTU2Uc//ikctiWboeHHlOe/WGncv76uKIoo8rJF2cpt6Ioo8HOnLxXv3pcGRpVFOX2kNL2UG7eU/nLK0+xdH99XDn8wwrle+k+9b2nqpV975xXrt0qtn1uPhqdfcrwrcJ1OHM+0uXW1Sknc9pvnu1URPG2KLbftD+cVOp0OkX34kklfy+ZY7DiEd1UO7z8htI3XKSyJs1wfM2wv5k+G718Umn74bPp/pk6FzS+enzasTCvfjfLMTjkTO2r7fIMRZ3XcbPA887oJaXr5ax92A4rJ4dvKYoyqvTtmSG9zNcvH1cO787u841KW/75aHLjIeX4q1Ntvm7Ts0qj86QylF3P8ypzpv8Vrsc597E/5OYr51ic1bgy/E5j+rvZ9ZedkWGlz7VPeT7rXPvsD9uKX2vyq20e5yuxcv5MURRlsQdH4r31lB8oMKpdosHwsIknrHto2GYouO7x3SOOt66c1gvQcDJK68aVzs8iuuJEv8sDW5wMHrPNujKRENOFcOqteDDj/PAotrUrnZ97XyLsw/2WG++5CAlUaAxmtr+0l+Yv/bl24X0l1ttE1QE/iT29RA8aly6LQgghhBDiS2VpY2SUmqnd20xz+r/axzXEh3y491VS/pyL0NiS7l18lcR91Ov1OK+sdEbEcgp1GNDXeSffIf5qShJ+20p5pR3PxVs8XN1M814b6/8YwLOvkvK/chO+5861qTJbDviXZzk+IYQQQgjxpbK0MTL0Fprt2b/ot+CYiOFttNA64Kb6x+tT7zMtaSbEV0I8RhQoW+l8iGWUYPTTlV5LbuUlLzixvh4iqW/gRG/r1Lv6f9tC8Bc7qely0dTxMP5XTNwTQbcn4gR+VkP98QiqEhWMSR8QQgghhPiqWf5VS1Zpsb3WjgVI9p+dHrFYiIVIJJgeU17c225x66s9FQOI4X2rmyRGHG+35gYcXKXG9CM3DiPEjr0xPYr43WgihndfRWoQY6sD35u1K50jIYQQQgixAlZm+dXV2vSSNxFGv/IPImIxxEciK50Fsez+lejgSudhhYV9HA0BW2w8XWjdxlVlPP0DMxDi6JnwMmdusSUJ/qKK1jMJyqxH8L9dS9n9K50nIYQQQgixElZmIGPSGlRfn/7X+EUP9hcsGPV69HoD5ZVNuAdiTJtAPBEn2GXHutmAXq9Hv6Ec635P4XXqE2F87U1UZm1b2egmkD81fSJOqNdJU2U5Br0evd6IpdGJ75P5TV9OhH04Gysp36BHr9djrKjB0RPKXfc5u7y7MvszUL7LjudisRGeBL7/lsqXc7BYnuL4XjKg11vpzv4V9kYIb3YdbLTQ1O4jMpf35294qdfr0eudhArtsbc+lWb79E+Xri4gfqaVygrjZHBZz67UPgrmJRHG15HbXyobnXivzH00LREN4Nlfg2Vjah+GzVbsXcGCZclxxYler6f+dBzGIngPWafqoz1rLfG5ttEVJ3q9gdZziWnHgWGzFUdvZPrxAsQHs4+tAv/lxZuYT9vNWG9hL47J/RqxNLoLH6fM5fgP4XmukvINVjwAF1opnyxDPd4bEGo3TNVPvkxfrvBQaPgr9V0z7qs5Bcg9f2y0UHOom1CRrjPXeksdNxY8n0ztI9O3jBVNuAdn7puxj4LEAIP54aJBeTVGMwYg5v9NwfJOmkgQGcir+112PNPyEMKp12NIx6fIOWY3lGM95C16Tpm27X4Pwfj4jGWcosL0tz04X+vlVJsF7Zc6gKkQQgghhFhKSxsjo5irl/ADlD7MQzl330lC7VVYuyKo1hqx1DVPrhnvesmMb08vvoPG1Hvek7E2kqiNVTRYtahuRvCfcVJzOoDzwglspelkR7zUP9NKYIy8bV3UP9lN88kLtGxUwYiPpufs+G+mtqvdm1nj3YP9YoTx949OpTmDWG89lgMBkqvLsOxoTq1rPtiH95AV7wUn/rdtkzfhU9saqaqzTZbX+YKPwGsBTli1eamrseyqRXWmG88vAzSXF4gx8ulZjg8kYdtutj+Y3s/pJqr2+0mgxrijluYHSK213mUn8PvxnDwtpqWtC1B/08QTz2go+9CNLwTGHc1seiD94fq/mNpwsg+o0Gy0pPvAMN7THlrPddO9t4deu3GGGAJJQh1WqjvDJEs0mHc0Y0mv3e1rryH8b1l9cwaj18/ifM6BFwvb65pRA5q/1KNiIW2U5LfDfbjecuL5owHLtgY2JVPrZHcfsBCM9+NvnFqLO7d+U8dWZu3xDJXm/skyzKftiksS/ccmthwbQm/ZTu1eE5H3+/Cfc1FzcQhnzjE11+O/lLL/8gS2/7MG3/EAsVIztc+tTx8HGr5VAobHbai6uvFeHMJRYc5pl/hFPwGAaB/BaANl2TMZJkKc7UlCiYVNmaqb7DtqyipsNFvT66KfdmA9Hcgrw0LqLUL0YjdNRxwEv2Fhe3Uz5s8v4T3tx1UdIPLWIB1F1jv/1+tBAB55cPqxMUmzhjIgfHWE+ASUFWqzsRCuXdW4w0lUa83Y9lpQ3xzGe9qHszpM/KSP1o25vTv58TB9HZ04j8UxWLbTUJ5M9aeeViyDcfrfb8Ywua/c48e4oyG1Lvugh/on5/F+YYkBm3XumwshhBBCiHvUUqzpmll3u/Ca0ueVw0+l1v2t+1Xup6O/qlPW6XRKhfPStLWQPztRp+h065TDvx5P/eFym7JOp1PWvXpeGc/e8PaoMjycle7tYaUzs79//Cw30dujyiXfkDK58vAf+pR92/cpx/PWIh4PHE6tX/3fz05tW2Qd5fGhN5QKnU5Zt+ek8lleGW79uk3ZotMpz59I5yO9FrHuocPK+S9ytx39aDi15nght4eVzu/rFJ2uUen74/SPh9/akltXiqKM+vYpz758PG995nHl/Kup9ZX3/VPWB5l1r7PbL7MWeJG1rSfbPGut7GWpi7QZ1wYfH1LeeEqn6HQVSlswb53pL64pXS+m+kdOHUxPRBk6Uq1UO8/n5uX2NeX48zpFp9uidA7P8PVMnep0SoVzKLfPpi2ojXTrlLp389YOj2Xa6rByPrOjW2eVfTqdonuqTRnKrt/bt9LpVyhdWfmfV9sVlFlbXaess3UqQ3llGnJWpD5zXJqsi3kd/4oy89r14+eVwzqdonuoTRnKSeuW0rdXp+ge+Z7yvUJlGO5Utuh0yrpMP870nYfqlJPX8/Zx65LS9n2donv+uJJJZb71Nnnc6CqUw/+cW4rxYGp73fbjyrX88qW+PeNa7lMybVGnnPxDkU3Gh5TO3dVKW14elMhx5XmdTtF9v1OZ6h5Zbbsnr7/e/mwyT4cDU201fjldlqcOK+fzdjEaOKxUzJa/YjLHgbPQWUkIIYQQQtyrlvbVkqgfd4cLV4cLV4czNWV5cz3dUTWmg70c2ZE9HSOM980AyZJaHHYT6rxfDbU/aKCBJN29gdR05uupqfMPG/S5v4Kv0mAwTKWb8HfhigLb2un4Qd6vlqs0mCqNUzMa1lbR8V4HtYbcXz9Vj1uoBegfIjpjgRME3nUTwUjrK9N/rVY/XkNTOYTe8REGiF9LTcH+rgF9Se62mg0GNMV+7V5lwFJvAPwcP5MX4nIiRN/fx6DEhuXRqZrRVHbQ/3otuUVTYd6WCpbn+2jmks3fMtXFXHIycBx3FFS7HbSU5/2yXVJGg70FLUl8x/pmCBiqwth4ghMHzbl5WVWG2WoCYgyF5/CKSmkLHT8qPHNjQW1Ud5Sjuw25x0vp09gqAbwMZcIifDKED9Du2I4xu35XqdPpRwh+nMn/PNtuRiYcbzRjzCuTsamFKiB53EsgAfM9/melMmGuBsb8XPo46+83A5w9A4a//QktGyA0EMx5lSZy5SwxVNgeT03HyPQd40EHtgfz9qE2UdNogtBRfGG4k3oz/dyDY2vuyyGq8u3sLAWuBphL17ojKiPN756gNS8P6M3YyoGRIX477VWgBo6+nddfV2l52loFgHey8yUInPAQQ0XtK62Y83ah2bId8+KVRAghhBBCfAUs7aslIwG6OwM5fzLUHaGjyULZ6vxtf0twBCiN4T/iIjgtsQSRUiAUYQQLhkfNGAkQ/Lkdl6adBnPZtIcfgOGQD4CqZ8wLX+Z11X1z225imKH+1D+HfuWi0LNHLAmMRIglwLDWhNkIgUEH9o41tP+1eXq9FFG2xYYRB6HTAWLVtWSGaJLBPrrHQGu3YZrLWotL1QOWsS5mk+kDNvPDhV/92LCJqhIX7lCAULwWbbFgA0Xc97V5LGr5zKas6fZzNFMbFeybatasBUiSzMRkWF2KAQj/8da0rRPx1PCNWpUux3zbbsYDS1U4/2oDpnLwDYaIjIBFPc/jf6Zdpvf7cHkV9Pg4eyVCsyG1MG8ieB4/Bhybq3jkCxe87uf8DRu2tQARgr8KA7WY04OAmb5D6BSu0QK7+XwciBG5noDvLLzeVF8r1I4aNHpgBMbnGZNk8dzHTO9L3VegL6vXrAEgmXljabI/2TCX3xMLwAohhBBCiBW2tAMZW5wMHrOhYeq98fCFIf7dbpm+7Y1o6uGlwOBHjsy76A/W0vFWmKYDXtwvWXCTen+9vr4B28bMk2icWPpH7DVr5jeMkfw0zFAsQuRyhDgxfjOXL8Vj6WB6IXydhUJi5tNS++YRwo12vJ31WDpBrbdge2kPDTuMM89CeHA7u7c5CJ05iu9qLc0bABL4T6aWYqyvLPKoN5EkFh5i5HqEYCQOn8+pZPO3nHUxc0Ym+4Dq68UeokopfRS4ECUWh6JREzOScSJXI4xcH2YoliDxu0WezbIUbfRNEzYjOI45cJR7aDVrUa2CxNVu7D/2Q0kVT2fW7px32y1E5gE5RmIMGJvn8T8H6sefpgofvl8Fiewuo4wEwXM+2ODApIeyLTvRvu4icDmBrVINN4YIXAWqzelBwKm+EzrtLhjkNsey1Fs2Dd/6NnABkl8kKTrikBglNQZTNqdBumQ8QvjjEa79boiR/0gwfKfde7JeVNwv4xhCCCGEEGIRLFuwT631CEc/tlBzzEP1jx9m8M0CQSoB6k4QfcU0tzS3Oem3tBIJ9HGi9wR95zy0nvPg3NaB782q+QevnEgQPu3iUHs3oZvz/G62cieBHhszhN+bUmrB2R+mNRqg710vJ8748Rzw42m30PHeEaqKPrhNBf10/1OI5g1GuHGWvjPkBPmclAjjff0Qzp7Q3KbmL5ZlqYtlciOI+5Ad90C84Iogd2wp22hVGbVvH2WkrgnPS2a6sz8rMdD8D+1Y8mfAzKftFss8jv9ZqU08sQ18ZwIM3ailbPUQwX7Q7n+EMoDvPMHOUheugSCJSgsMBQkAVeX5M3dMucGDi8m8erGM9fYX3zQBQX7zaQxSpZouPpoaSNhQOuOAYPyim4MH3DnBX4UQQgghhPgyWsblV1WY7B006CHZb8femxeN4MH1qfekL0dmXiIw3yo1ZVtrcbztJxTqx7FVReLMQY4Gk4AGbXpFgtHR2R4Nk4T+bieVB7qJrm/A+a6fwSthotEo0WgvDXPJy9pvsb4EGAwTneezgFpvpvanR/D/7xD9h82obvo5eDQ44wOzymSjuRSSPX0EkxAb8BIALBV5r9EkQ7islbT2RFm/x8mJc4OErkZTZTs5p5LN3zLXRXFTfSD1q3UhI4xcBtAX/8X6ho/6p2pwBTVYDnbQ/0GIUDhVh4OvLcIb/svQRslPh7h0XUvtax049jbTvLcZx5v9BK70p1btybiDtpu7WyT/CGCgdDULP/5npMa0xQwECA4lSA4G6EbLzi3p2UqrDDyxUwv9Zwkm0rM1qOLpxzNHj4ZvbVABQcJzqYhlqbdc2u+a0ALhwFDBV1kA4qEAYUBreaTYUAfx0/VsecFF8BsWWt/sJ3AlRPiTKNHoIM4td5jJkvsnz0cr94qMEEIIIYS4lyzjQAZQYqTltWbKSBI44MA7kvWZxojZCFztI7jQqcxqA09XmIAksRupgYv1xlTgOd/7swQJTAbp64xAaQs9x1qxPV6GZvV850EbMFlVgJfA4AKfZFapMVRYMAHJT2Mz5znzIDbWjXcggO+dEJTUUluRO9clOdiHOwpaew8nDtow6TWoS4qkWczab6UfgpLcmlPRlrkuZpDpA97AUOHBkKuX8I0BRjPGIgMZkXNdBMbA0tZDx54qDA+qUS/iNPlFaaMZRfD+zE34u/XUW6uotbfQYm+httKAdlo5FqHtZvNpkL6rQOnTPPJNFuf4L0DzuAUz4AsNERzohtKdPJH11pWh3IIKH8HLQ6k4DtuewJR1+BgetaECvANzGUhbhnqbtksLNXrggpezheptIsLZXwaAMmq2FossEuHsuwGSWGg/3kFDpQHtajWqxVqOWa3n4Q0A/qngszl5HF+kHQkhhBBCiK+K5R3IAFTGFtyHjUCA1jo34clf6LRsr6tCRQhHo5Ng/lNrMkaw00F35mZ9JICnJ0g8+xe+iQTDHwUBLQ9/J/VEqt66m4ZS4IyLw/15s0ASYbr32/GN5PyR5O3cNMO9qZkOcygdpp2pgZruvU14P837eCJBuNeJ60K6cBMxAl3dBPNWA0gMhwkC2ocfmjVcg6GyHiPg7+0mOALav5khyOd/JHMfxhJhvKfmVjLQs34bgJfuvHpMhLs5+JP8dJa5LtKBKiPX079LT0wFulRv3U2zHpLHHbgG8zrWWARPh4sYKqrqts/6OkAymfeAeiNI96npoSkX7I7aaCb3o/oGMNhKVUUTjsnVhFy4OrrxXYmQmDyW5tl2MwriPxfJLdNEDO/PnYQA40tV6eCn8zz+YSrQ6eUoI5m857fP2iewbAEud9J5GrQ7n8gNFGp8mtoS8L7dySXAvMWUM5tJZbKl+k5PE02/nL6mTeKqF2dHZpB0MettrsqofaW2cL1NJAj+ohlHCFTVrdR+e7a0koznVV/8Yjfey3eeR/NOIxDD/ZaXWM45O07gZw48d7oLIYQQQgjxlbJsMTKylVV34LxooXXAhf0Xm/AdTC1Hqd7WTs/HEao7PdRs7sNo2c6mB1QkPvHTdy5CAjWWtfXY9GuI9r+B8/Uwzo4yLNsslK1OMNzrJXAjiXpbC7YN6Z2pjLR0tvCbv3Lh22cm8G4Vts1aVDeH8Z4OEMdAgzVBVakJc7WK7h4P1U9GsFnXo74Z4fxAgD897mCn1Yuzdw6FMzTjeX2Yqv1+Wp80crRiO5Zvq0l+fok+f4j4mArDHjMNW0yowj7eaHcRbndRlt4u8Tsv3oE4ydUWWqyzr82QCfppPxMgiBFHgSCfqkfN1JZ0091VzZbf27CtU5P45DxnL/6JJw7vxNbrxDvrjtRY6popO+MmcMBC+TkbtnUqYoN9+MMaGupqCXZ25z6wLmNdpH457yZwoALLiVL+UzxK9NGOVCwWlZGWY06Gn2nFU11O30YL28uz+sCYCsPeHtq3FQ8IW7Y5tUpM4EAF1kEbmx6A2L8ECAz9OQ2vNGC44p61BmeyOG00Ew3bDzrwh50M/TFAd6c/9+NOQG/jyHEnlrXMq+1mDqNrgotVlJ8ws/2ZMtQ3I/jP+IncBPW2jpwlked+/GtTMSzSszgCIQ/V37+EXvMnRq5CQ7+f5snuosG01QiHQoTQ0rIlrx+tMmC2qvAcDxHGTO3jmmmfNx/rYPg5O/5XzBiPWVLlGItx6Yyf0I0kKkMD5npzaibHotXb3Km2tNK7/7dYX0/Vm3mHjfWqrPxtbKH3oHmGxUfKMP1XI1wN0PqsleCOTWiJMXQhwNDqBhx1BkKdd5ZHrfUVmt+14h5oxfJ9L5Ztm9AmU30Bq5PW8lacg3NJKUGox8P5zAoymUC4V47j6jif/uN6dtotyxvbRQghhBBCLC9lCYyeqlN0Op2ie/GkMlpso1if0viITtHptihtwfHc718+qbT98FnlsYd0ik6nU9ZtelZpfPW4cukPefu5fFw5vLtC+Z4utd33nmpU2nzDyq3bhTI1pBx/tVqpeCQrTedJZSg7zS+uKSdffT6933XKY882Kp3//JkyPlmmNmVoKkHl5IuptNouT9/drch5pevlqf3pHqlQql9+Q+kbvpW74R9y86V7pEJpdPYp+ZvNZDxwOPXd548rnxXb5uOTymHbY8o6nU7RPfSY8uwPO5Xz18enyuGcKplyua1o+90azk3n+Ze7Uu0y2qfU6fLSWda6GFeG32lMf3ed8pjtsHIy/4u3hpU+1z7l+U3rUuk/9Jjy7A/blJOXi/bSHKPBTqXxqe9NleHV48rQqKIot4eUtod0St2pGdLJ1GmB+pkswULaqEh6Q87cvjl+uU2p0FUobcHplTk+ek3pc1QoOp1OefbdazmfzbntpudAadPpFN1TXcq126PKpbcaJ9OY8ThV5n78K4qiKLGzU3X2SIXS+NYlZTQ/3chx5VmdTtF9v1MZLrDP8V8fTn1/huNHuXVNOf/OPqU60/667ykVu/cpbxQpx1zrLXOuLNx3MueYOuVkobLn73O4T2n7YeZ8mDp/zVTPOaa1UbVy+MRQqi4vtynrcvKQbtuc82GWYn3zi2tKnzO3H3T+OlXuIde6OZZz6rxb/L8i+RJCCCGEEPeMP1MURVnpwRQhxFKK4a0208oMq2lccaLf5UG7v59A4xxmAgkhxFdEqF2PtQvMrw1y1DqHNYy/pHlY7nIkQ26q97iImha4ktycxPHtq+TggIaGf+jNDVx9N7kRxP0TB55zERKoML3m54R1bvPKYr1NVB3wk9jTS/SgcYkzKoQQXx7LHiNDCLHc7uO+rwODfvyfFAhCORHD+043UDa1oocQQiynkAuDvh7vjdk3FXeHsN9F6CYkzhwnMDL79kXFfdTr9TivFPjsxnn6+uMkx8K4fQtd3WyFZVZFOxdDtbWW5r0NWL55/xy+mCT8thXLAf/iL9kuhBB3gRWJkSGEWE4aLC81Ywi6cT5jxGMw8/STZaghHYcjTHxMjeV1T1ZsCSGEWD6JP8TuzodQUZShqhVTr4vI47sxl95BQvEYUSi8fPTaJ7D9wEDQr6K5yjRDLKAvr9D/OEhgDMw/93P0B3OM7jMRJ/CzGuqPR1CVqGBMjh4hxFePDGQI8RWg2thC//98Au//6KL7g+BksE/VWgPmHQ5qm2oxrV3hTAohvrJuJeJwVz6GimJUhgZOXGm484QSCaavGZWhwfLzfsI/v/PdrIw41z5JAmYs5rkOYsTw7qui9UwC1VYHvl0jWF6StZ+EEF89MpAhxFfFWiO2g0ewHVzpjAghRK5/vR4EzCudDfElFB+JrHQWvkSSBH+RGsQosx7B02ZBG3KudKaEEGJFSIwMApNEzAAAIABJREFUIYQQQiyJRNiHs9GCUa9Hr9djrGjC2R8mMZH6PNRVSeVmA9YugACtm1Pb6fV66nvjuWlFA3j212DZmPrcsNmKvStIfCJ3n/HeevR6C55PgEQYX3vT5HeMFU24B3PTnXQjiGe/lfINevR6A+W77HgG44wXK9xEnFCvk6bKcgx6PXq9EUujE9+0WEQhnHo9+pd8xEkS6XVg3WxIlXOjk1D25vPNw2KUA4hf9GB/IdNOBsorm3APZL3uc9WNWa/HUO0tOjsiGXJh0esx/CQdq+KKM1XGOi/TavxGCG97E5WT9WChqd1HZCwrT2daqawwUn4gAIBn11Tf0LeHMlvhrUv9rVAMjUTYh2uyLvQYNlfS1O4lNC0WSzqdCg8R8vutEUujm2CRbjPNRJxgj4OmCmM6v0YsL9jxDEQm+z2kgq/q9eW0XoDZ+v4UFaa/7cH5Wi+n2ixLFEBVCCHuDjIjQwghhBCLLnnFyc5dHiIlGszVzaxfnSQ22Ef3vkq8wycYPGii9NvbecI6wpr3ugmMaDHvrmK9OvV9zTczr5okCXVYqe4MkyzRYN7RjGV1guFeL772GsL/1ovvoDHvxZQI0YvdNB1xEPyGhe3VzZg/v4T3tB9XdYDIW4N0bFNn5dWF9UU34TEVmo1VNJRr4fNLePZsKRxIccRH03N2/DdBbayidm9qe+9pD/aLEcbfP4otPy7EaISz7W4cvWDZ1kDzamDNE+hVC8xDwTqfbxpJQu1VWLsiqNYasdQ1oy1JEHm/D9dLZnx70nW7oYp6owvH4BF8YVuBeEpJhnweImhp+a8zx6qInW6iar+fBGqMO2ppfgBiH3rxddkJ/H4c/9s2tKtA/U0TTzyjoexDN74QGHc0s+mBdCLr/2LWuoj11mM5ECBZosFoacD2gIrE77x4u1rx93TTXGiVk2iUQE8T7kNB1lRsp3avOZW3c/8/e/cf29R9L/7/ecV0z5Sr64npumJarE52tgmnXM0U9IkLWkz5NGZoccpnwa0Uwm5D6EcQ7ueS3F2Bb7XiVbc41W2TaoupNgz7gJPPHSZ3LM69FLNlmHsB5woaf1UWT22dqa1TFeGrInzvIjwVne8ftoPt2IljO0C610OqxuLz433e5/3j5bff53362HEpypF/68e6cp6TzoRxPd2KZwo0Bivt++rQzMS4csaP63k/7q333uBSa3bQ/sFIep2qYmW/gBoj9tYFL18IIT77HvT7X4UQQgjxWXNTPfWcXtXrv6OejOZ+cjs6qX74+0LbdqinPi50rDvqxJE2tc11Qb35adafP31PPfkdvarXN6oDk1lHO92h6vV6Va9vUg/96mbukUKH1Ua9XtW3nFTfm/3jhHr4m+ntg7nbqzcvqIee0qt6vV7tOJ312ccj6v6W/erJydu5xw8eUlfr9ar+b86p9z6ZUA/rU8fQP3VYnci59grSUIVj3Px5h7par1ebXFfU25/m7vLhYIeq169WD/37HVVVVfW2f4+q1+vVxh9NqnN8MqLu0etV/XdOqh9m/nb1cOqanzulZqfmpn+/+u2/PanmZt0d9cL3V6t6vV7d/6+5eTrhSqX78NVCF50pO7mf35l4TW1K5/eV3MOpd945qnbo9ar+sf3quU/mHkf/1CH1Qk45vKNe+YdGVa/Xq98+8Z5a3E11ZPdqVa9frXb804e5H316U73w/dQxmo5M5uwzf9kvQSafXRNlHkAIIZYnebRECCGEEFU2zdRFgMep+0ruJxqDEV3NYo6lYNozyOBBC9rsqfQr6rC0moEYE5G5U/HNL3twbtbmHqmhhe21wPUgmV0SYyfxTIPS5sDRmLs9WgstTxZI0iob/b/op92oyfmzstFKO8DoBFNzdtLR85oDU4FrLysNFR8jgu/1IMmadpzdZjR5jynonu2kkyTe4SAJQNNkpx2I/dhHKO/pmfjYCAHAtM3CQktWapv7GX21ndysU7BsbQfA//bcnFucBMETbqIotL/Ygzn3FqF8rZO/7dbBjJ+jZ/MflDHjOu7EkrP4tYJ523Z0QORSZO5jMhkRH31jSTA5cOa/fWSFFkt3D1YgemRu/gkhhFg8GcgQQgghRJUZsexUAA/Ov/cSnl6ab26f/1zxKfjK5z5f4K9atIbUv+6k1yuYDPsBsG+uwus7VxQ6Z4aVJ9YU/qQaaVj0MaZ/Q2ga+GKMwJE++vrz/vthgGgtEI4yDaCYse5UYMZH4Gr2/Yxx7mdBwMrOrSW+eaOQaj3sfHeSiVEAO5b1hXPCuMGGAoQvhvMGJpTC6fiiFgPAp8VXGom9HSIGGG3mwoM5K81s2QzM+AhFSrgOIYQQ85I1MoQQQghRZQrmvxvG8bs2XMNOWoedqTUY/mofXc9YqNMsfISCknGi16NMvz/JRCxB4reV/nofJ5Y+hPJn5Q0hJD+IMBGLEr0aJU6Mtx5AGso6xo0pQgDTQbwDweLbza71oWD+X13oTvbhPRWgZ6MNDcB1P8fCoOxsn3/9iHx3k8QiE0y/HyUUjcNHi8+5guIxoun0fqFYVnypFjMQfCdGHNAW2WwxUm/egUdqvlBkCy06PTCWJPZxAkzlVgIhhBAgAxlCCCGEWAo1RjpPhGmfDjNy+iS+4QD+3l34f2gsvNDifG6EcL/YjXsszkMxK/9ugsiZPl7s9RK+9aATU6GOQaZeMJe2bWbRz7MjnHvBhn0VhP/VTayERT5nJSL4Xn0R11C45EVMhRBCiHzyaIkQQgghloxSa8Le3c/w5QjjP2mnbiaCu7f4azznuOFn11M76AtpsR7sZ/TXYcKRKaamphh/xVJp6vhC5ofxT0vdJ0n4h9tpPuBlqr4T14kA49ciTE1NMTU1TOd9SUMVjvFoPRaAq9H0DIZS6Gj5rhUI4huLQTLEyFASarezac6bTApIhulrbcYxNEX9bheD58cJX0/dy6lTi8+5grQ66lIn43axUa+Pp1OzUb6uq8psDIC/+EpqMOjmzO0iW8SJ/Q5AQfclmY0hhBCVkoEMIYQQQtwX2s0tqS/P4Wn+s8R9ouePEpwB6+Eh+nfbMD6qQVPxYhYZGgxrU9/AA9cKL1yQWUtjVjLEyEAUansYOu7AvrEO7cpKElRGGqpxDK0Jiwm4PkJoEU/oaDZuwQqEf+InOObDOwOm520YVyy4K8nxEdxToOseYvCgHbNBi2ZRC7+WYEU9a5sBfASvFh7JiFz2kwRMjaaqDWTo/jK1NkbEHyo8SHcrxLkxoMaOuZRBHyGEEPOSgQwhhBBCVFmSyLAHfyTv4YF330qtIbG1HkPWnz//OYAQU9PpP9xNksz74p1M5n0pvRHCezpUcUrrGu2YgNiPX8M3nftZfMyJ83ixPRMks2c/3E0QGfYxz2oTS5CGSo6ho6XDhkIY5x4XofznPJIxQgNOvPmDHCuttO9UYHoC77Cfshb5/O9k7iNCiQi+00VyTkkNEkXfTy/LWaBs5NJg+W4XdSTxvtQ357qS73p4rT8GNTZ2V7I4aT6jnZ7NCoRdOH+WN5RxN06wv48AULfXjrlqA3FCCPHHS9bIEEIIIUR1xYMc/YEL/0wfh9dZaWnQwUdX8J0Jk6gx0tNh5d7kei2mRhOMhfE818AVg5Y/TEdg1yiBPUbqNtgx4SR4oInWcTtPfBli/1+Q4MSf0/lCJ8Zr7srS+qidF/YN0joQxPGtBnzWFp74cpLomyMEsOM6aMbRmzVgopixtCl4hzy0PRnF3lqP5laUC2NB/rDRyfZWH67hJU5DlY6h2drL0DtR2gY87NgwgsnawhNfVki8G2DkfJQEGqyrdmE36LLWv7i36Gfw4uIW+VTWW2iv8eI92kbj7+zYV2tIvHuBc5f+wKZD27EPu/Dl7WNcb0fBS/BAE9bBWv40PsXU+n7GX88uQ3nnMfXgeWUS64G86/qtD99YnGSNka6f9i5ucdIFabG9PsTk0614XrBgOm6l5Vt1aGZiXDnjJ3wLNFv78Txf6XSMBOEhDxdupv9vZpHUayfp67+Q/mM927utC74KVwghljOZkSGEEEKI6tJa6b8c4Fi3Be10AM+AG09gGsM2B4O/HKXLlPuTtO7Zfo60mdASJ3J9Gtb34NyW/sJnaOeNoR6sBgif8eAeChJ/dAfHfz1M1/ZNPFHxowkKpm4/gdc7sX4pmT5HCGxHGH/TgX3d2rxFLBUsB/242kxoEkG8Ax58YdjyUgD/K3Za1pezbsdi01CtYyiYuke5eMpF50Yt0wEP7gE3vrf/FHObk8HLYY606ubut8bKrjWp/e2bS0lbWo0Fxz+7aF+nITHmxX3cx1tsofdf/LhaWzA1FriqjQ6GD1qpW5kgen2KeK0d5/PmooMYGbrWY4yP9tNlrb13XZNaLLtdDP9ydHGLzZZ8fSYcb44z+FI7ZkJ4B9y4jwf5r3objp8EuPi6DV0Jj+DML8l7Y27cA+n/zoRTfw777/1tYKLkR7eEEGK5+hNVVdUHnQghhBBCCCGEEEKIUsiMDCGEEEIIIYQQQiwbMpAhhBBCCCGEEEKIZUMGMoQQQgghhBBCCLFsyECGEEIIIYQQQgghlg0ZyBBCCCGEEEIIIcSyIQMZQgghhBBCCCGEWDZkIEMIIYQQQgghhBDLhgxkCCGEEEIIIYQQYtmQgQwhhBBCCCGEEEIsGzKQIYQQQgghhBBCiGVDBjKEEEIIIYQQQgixbMhAhhBCCCGEEEIIIZYNGcgQQgghhBBCCCHEsiEDGUIIIYQQQgghhFg2ZCBDCCGEEEIIIYQQy4YMZAghhBBCCCGEEGLZkIEMIYQQQgghhBBCLBsykCGEEEIIIYQQQohlYwkGMuL4OgwYDAZc1xbaNozLUOq2VXI3TmhgL9Z1qfMav+sjVtaBFnOdlYsP78JgMLBrOL70J1symfvtIvygkwJww8euOelJEn6jFZPBxN4z5ZWMyhVLQyb/duG78YCSBiTDblrXGTD9tZ/Y3QeXjopUvR14sPckW7jX8JC3FXH8+xswrmmm71ryQSemRA9H3Vt2CraxRVxzYbjf/cONEO49VkwGAwaDkR3D5bb59zMeePjanLJk7nfvQxENFCmrD0NbVSQNmfzr8PHgWvqHIV6qgqq3Aw9L3VwO/dYS17FbUYJDTvY+nbm/qXvc0LyD7n4foalE9c95P93w073BiLG5j/DMg07Mg/FHNiMjjn9PIzv6A8QUC+37uuhs+ipfeNDJ+iwJ92F8qBvNhUQ492qYBAkCQ8HyvtzG/eyqKKCtQhoqEsf/fPEAMxLoI3wLEmdPEpy+z0mrisW2A/Pnx2fTEl7zjQuMjMZJzkRw+0Msl6EM8Rlzw8+up3bQdz6Gsrmdrn2dWL8i0UBVLfd4oBptVaV58KDby3njmQcdq1TBYtuBiuO7ZWgpr3mpyvfdOKGBHZjWWdn1opfQjBZLRxdd+7roarOg/WQC/4CDHU0mTH/tJbpMBwHil0bw30iSjLgZufrHGU197kEn4L665uHgWBIaXQSO2tGteNAJ+uxJfBxb5l9MjLS8YMbXH8XSZkFXziHiMaaAugeZhorEib0D6At/arQ5MA/3Ed24E0vtfU1YdSy6HZg/Pz6blvCaV23C/qyRUEChy2ZGWYJTCLGQ8P89SHAGLC8HOPbs/W9l/xgs+3igCm1VxXnwoNvLeeOZBx2rVG7R7UDF8d0ytJTXvBTl+24M3x4rjrEkirGT/te7sBk0OZv0vASJiA/XASe+j2G5BiLajXbsxhDnlC5a1i/Ti6jQH9VARvz9KEnAsnWTDGIskduJOMu2RQBAwdgxSLijgkMkEhX+MlGFNFTi7m0S88y0UIydDF7rvH/pqbJFtwML5Mdn0pJesxbry6NEXl6q4wuxkDjvvZsELFgty/Hr1/Kw/OOBytuqyvPgAbeX88YzDzhWqVgZ7UDF8d0ytKTXXP3yHflJJ46xJDQ68A90UldTeDuN0Y7rFy04P1VQlut3wlVWXKMRXA86HQ/QH9mjJWKp/ef7oQedhAcuPh190EmoTDzGMr+C6vpjzI8/xmsWQlSVxAPLPw+WfTxTZX+M+bGsrvmWn4FXo4AJ5wvFBzFmrVBQlvNYq3h4BzLilzx0P9OAMbMwyzPdeC4VWNLobpzQ0W52NJlSi7isaaB5j5vgB3MXRWo4EAQgeKAhveBLZqGkBRbqWsyCZYX2a/IU/FIQ7jViMBhxnC+w2Exm37/2M+fTRAR/772FCk1Ne3GPF1nuKb1t8wZj6nrXWdnxopdw/ubXXPfSks7T1vQ+xg2tOIej806PDB9tpnmDkdajAEEcGwyzeVxs0cGce7ymgdYXfUWfU4tf8tD93XuLMTU078U9VuKUzbsJIqMu9mbKyDore3v9RIus8VN0scS8fM8cJ5I+Tvysg+Ym02w58zxzLw/urTWQXnzpeT9xkkSHnbP5bFjnIpxcIA05yfHhnM0TE9Y9bkI5z+EuslzHAzietmLa4CAIcLT1Xvqzy/58i4zdjRMact7La4MJ63e78YxFSeQvDFphmcu50ktenHvuLeZkatpB99Fg7j1esB3IP2iJ+ZElEfHj2pN3T4pWTT+uPc00rLmXZudQmHipC6jeCOH5Xmt6/3QbOR7nTrHt78YJD7vY25xpV01Y97jwv5uVy4u55hthfHlty95efwnPms5TLheoYwUtsOhdobqUWjzZiufdueectz0tZCZMX7MRg8GKK7NYWbllu8T6U1LfMW+/Y8F9HTLtkfFAgASLa5Pvm7z8M6xpoPV7nry2Lq2E/i5VHhpwXITCfdUSxQPXXBiz8jpX5pzpMllkX8tApMAlV7/NqbR+LDoeWGwdWSjmm8+i4oHiZSE331P54hqNzNbT0vKglHighIVk7yaIDDvv5ck6K3sHQrn3dYFym1lQPhOrlBbPLBCrJCL4+3PrbvMeF75rc7etWptcchu6UDuQl74S8yP38u9fPDCn7f6eh1C8aDRQUjywqGtegnhgoTpWSOzsSQIAW3fSYljo3PMo8Xrmj9WLLLZaap9WSjw0X70uJebLSudDHQfM46F8tCQ2vAvrgSDJlSZsHXZ0NQmib47g+q6f4CtBBlvTU8BmwriebsUzpaBdZ6Vznw7lVpTA2T52Pemn85QfxzoFas042mKMjAWJ3Eii29yObXX6ealHvrp0Ex9XmbGYIBgeITTVSV12pbob5txQqjD5Lk3gbLLkpCN+KUAQsDSa0cBsgJ58x8veXjehL1ppaevC8tEVfGcC9LUFif5onP6tWc+BTfvY9S0HwRkNdU12ulo1JD+6wsgZJ61ngrjePIY9Z42DJL+ZHKHvRy48nxixbu3kieQkvjNBvAeshOKjBPYYC15q7dda2NQ6zSO/8BKc1mHZaaM+nRTtV/JzOMG5/ma8x+MYrS10NiSZHPYRHHJgHY8z+mYXxtlpXknCvTZaj0ZRVpmwdnTNloe+5y34dw/jP2gqfg/vxvDvt9F9NgEr67C2tVO3MkH0zUNYh5Kl3/uZMK7WdFnb3E7X6nReDnXTPDzJ4GUHa79iZtO3tNRdduMPg2lbF098Ob1//V/kHu9mlHO9bpzDYN3aSddK4JFNGEpKUJKpf9pL4/EJDNYW2veZib45QuB8HzsuTRS4ryXS6DA3WtHW/TnuM2Ew2ejakJluWc9fzLszWfURNAYr7fvq0MzEuHLGj+t5P+6t/fhft+U9zlF+mcvsnykfqfvbRd3KJLHLPvy9u/D/2Er/L45gq2Xx7cCi8iN9TwZCPNLUQvs+SyoN5/vYcSnKkX/rx7ry3tb32rg6rNvSaR4fwfdiK76LLgJvzL92R/JaH63PuYnMKGjX2ehs0MFHV/DsbizwJQmY9rP36W4Ct0BjstG+L7W974yH7ktR7mTKTInXHDuzF9v3AiTQYNrWTteXSV3v0W6Cv7uzYPoLKqGOmavaWEeZuuRl7xFnae1pIXdj+Pa34Y7osP/Ik+pvZi2ybC+i/hg32lGOeuftO5iap9+psfJE1qmT70wy0j+Aq6Q2+T7KetZZY7LR2Zrp413sOBPEdXHwXltXYn9Xa3bQ/sEI5y5FiM8U6quWaFWHNRbsNR68wyEmXrJiyb5pNy4QuAgQZWQ8SufXcp9GD//KSxIFa4ORrGhgiduc8uvHouKBW+foe9q7yDqyQMxXTJXigeQ1F9uf8RCt0WJp66I+nZfe/c34JgcZP2heXB5UEg8kp/Dub8QzYcC6tZ2uhiiBswEC/TsIvr1wX1KMZjHxTCGz9TF9r1p1KLcm8Z3x4DjvxbtviOHu/NitwjZ5EW3owu1AJflxP+OBJOH+VtoGIiRrtJi2dfLElyE27mHXk0V+ASgxHij1mpciHiiljs29SwkiV1Nf580bTCzQexe1JPFNRql9WqXxUKkxX5aHNg5YiFp1N9VTz+lVvV6vHr660LYT6mF93rafTqiHH9Or+scOqRd+n3fktyfVm5/eO8/I7tWqXt+kHg7dzt3w0w/Vk8+ljnHlTtb+pztUvV6vdpy+ubg0f3xK7dDrVb3+sDqxyOt878S3C5/z7QG1Ub9a/cbjq+ekU1Vvq+f+Rq/q9R3qqY9z067XN6mHfpV7rDuhw2qjXq/qW06q783+cUJ97Sm9qn+sQz31fl6ibl9RD39Tr+q/c1L9MPO3q4fTx1+tdpyYVG9/mrV9LHP9h9QLd9R5ZPLkXrpz3bvfq3efVCezb9unH87m56HgvZPc/HmHulqvV5tcV3LTpKrqh4Mdql6/Wj3078UTlcm31btPqu/llKc76nsnUsfOva+qOuHSz7lnmeN858R7ao7b76mT7+eeP7N/4XJxLw/0Tx1WJ35faJvCacjJP/uAOpFT7O+oE66m1GfOK2oqReWUa/VeWXBNFNgp6/PnTqlZOZSuj6vVjn/6MHf7T2+qF77fqOr1erXpyOTc41RQ5jLlY/XuU+qHeeXj5q8OperFUwPqZNZnxduBIubNj3t5rH/qkHohp9zfUa/8Q+q6v51Vbu5MvKY2FUnz7X9P1eXvDOblYc5hJ1L1V9+kHgrmXcPNC+qhpwqUnY9H1P0t+9WTk7lt5Z3goVQd+Jtzas4nC5SBm/796rf/Nq8Oq3fUC99frer1enX/v94uuF9674LlcjF1LEfB8njPfPW55PZ0tu5ltW2f3lavuJpS5fd03v1adNleZP25c0E9pNer+scOqxM5Zei2OrJPr+of/4b6jULlaHJAbdTr1dWz93XxbfKiFGtjCpnNs6xtrx5O1e/vX1BzUvDpTXVyMuu+Lba/m7evWqp44I564fupMpG/zW3/HlWv/4b6jcfz06mqqjqpDnwz+14vfZuz+PpRyALxQNl1pPSYb06KFh0PFLqvmb99Rz0ZzT3+7eik+mHOcUuPiYrHA0XKVlb+fefIRG7+/X5CPfyUPjc+WqAuzt7zvDZ//nimSKySqY+F7tXv31OPPpdKW3Y/UXmZKyMGWfD+FL/ewvlx/+OBO1fTefPUIfVCfjgQPKQ25fdbqrroeGChMlD9eGAxdSxbuq0s6fvnPClaxPUUjtVnP50bN5TYp5UcDxWr14u6x0scByyxh+/Rkvh7qSksf2nEkPdsk3aNEW1mNCjio28sibLTSU9D3rjbCh3tz3fCjBff2IN9R3DdBjtGIHhpIueX0sjF08Sw84NDdpjxEbye9WFygtAoYLJgXpV7PPPLHpybtTl/Uxpa2F4LXA8SSf9Ykxg7iXsKTAed2B/NS5TGzI49Zggfw58/U7XjGMd2GtFkj7rVbsHeDOBjYu7M1jJ0cuyNdozZt22Fji2tNgB8syeJ4Hs9SLKmHWe3OTdNgO7ZTjpJ4h0OFv4Vmgi+HwUBE44D7XnPyinUNVkxl5ji6Whqat3jeb+UoanD+Gg5PxPr6HnNgWmh5/cKMuN8rQtTTrFXMO3twQYkT/oI3u9in66PmBw481f+XqHF0t2DFYge8RHK/8Gz7DKXLh+YcLwwd4Rcu7mHnq3AlBvfnJNWmxnXcSeWnPqqYN62HR0QuRRJ/46aIHjCTbRImjUbd7C3AcI/8VPsshNjJ/FMg9LmwNGY2xagtdDyZIGdVtno/0U/7cbctlLZaKUdYHSCqZKvFbTN/Yy+mleHUbBsbQfA//ZijpZS/Tq2sFLb07mShP9xOzuORqnbPcSR1iILxZVathdbfxQzljZgJsCVd7K2vRXk3Fkw/p8f0LMGwmOhnMdtotfOEUPBvjF/llOpbfL9lVmYd63RkPvr2wotRuO9+1Z2f3dfKZg3twNJAlezE5IgeD4Aa3r4wf8xQjiYO8V46i3OTYPSasn7NWzp25zy68ciLLKOlB/zVSsemGbqIsDj1H0l9xONwYiurD69gnigwUn/HlNu/tWY6Npvg3njo6WTqY8F71VNHZ3dPehI4j8+MmcRybLLXCUxSNXdr3ggQXDQQwyF9hccWPLDgcYWLIV2e+jjgXLrWLIqi5QvRXyTUWqfVnE8VNY9fjjjgIU8fI+WZB7HGHfS3f8IvX9loW7l3M1ib4eIAbqPArj7CyymlIiiA8IfTAPzTU1fYobH2VILkdEQE69kppNGuHA6Bm0WrI1JbHjx/iqMY50JgOR4EC9gtJnnvM5K+dznC5xEi9YATMOd9LNjk2F/6h/h0/TdLLDLR3eAGNH3E+SU2hWFjq/hkVUASZKlPr+/gM8XmJ6keeQRAJKZTmb6N4SmgdoYgSN9zL3LCaK1QDjKNNa5dzmz/5oWzJU8KwcYN7ajHPXiedFB7eG92E26Clc5tvLEmnL3VQrXXI0RcwP4x8NEp8F6H4t9pj4WKrMArDSzZTMExnyEIk7MpqzPyi1z2fc3/8tL+hjmJy1wNojvagTnRlOhjaqkyD35ohYDEPs0/azq3UkmRlP/nPh5X8E1HWJJYDpKLK9qZmTqtn1zFV5VVjDvK1BBj1L9OrawUtvTfLHhvbQdjaJsduH5u3kebSuxbC++/iisbbAKRuKfAAAgAElEQVTBkJ9z16J0GVPBTiJ0gQBGnBtsPP77Png1wIUbduyrAKKEfh4B2rEUeE1bSW3yfaZdb8FEkNDL3fRpe+m01M0Z0IYK+rv7TDGZseHFH3iL6B5j6nWGiRAXzoLxkBnbugR99BG4FMfemgpqo5d9RIB2y9q8crb0bU659WNRFllHyo75qhYPGLHsVPCc9OD8+1p6/9qOqbbSlriCeECBgjn4l2bM+AkVi4+W0GwfNafMpq15AltNH+5wkHC8HV3WF/Cy2+RKYpCqu0/xwOz+diwNVRjsf2jigXLrmIKmFlhgMCPca0ivXXOP5ZVxjrVqC++QUYVvzKX2aUsWDy1wjx/GOGAhD99ABjraXz9CZE83voFdWAdSz7rZn99N5zbT7IyMzErQsTEv7rH5jvagGdn0rI6+V70Exx1YGhWIXOD0NLRvNqNokmxpBv+bV4j8nQnjCoiEfIAR+4Zy39ocJ5YeagufcS9uQbKHyY2p1ODFdBDvQLD4dsXWg8js/0WFL1SYFGWjg+GDUdp6fTif8eGs0WKydrJvjx2L4cEFxrk+n37LW4zEfV6YJ1MfH6kpltNadHpgLEns4wR500nKU8L91erqgCDJD26SgLKfmaya2beBhPEPlFMz79Vt5c/KC1ySH0SYiEWJXo0SJ8ZbZR0l7W6SWGSC6fejhKJx+Kj8oy2POpZaFA4AbTvHXq3gWdks5dQfzcYt2PDj/3mI6M466kgQOu+HNU7MBqhr3I7u1T6CVxPYmzVwYyI186/NUuW1RpbQo+30/yjC3gM+3M9bcZNa/2LXrk7s6zJB5zLq7zTmVH8/6iM01U6dARKXzuHHiHNDHRj+wPbaPvouhki02tAQZyKYHnwq94tKxW3Ow6HimK9q8YCC+e+GcfyuDdewk9ZhZ2r9rr/aR9czFuoelqbqc+lwYDqxVKu+FFFKH1VL7Xrg4hSxOLDA98dSPJAYpFKV1s3Z/RW+UGbz8HDGA+XWsVrqTMA0TEZjsK5wa1BrdtClpOYpJX7rxztW5OWyVYxvZpXUp1U3HqrqPX4ILcFAhoZH0l8so+/HYV0pLZQZQ/YUrNrUe3EdU0FGTvgYPBvAcyCApzdr4b60zqEpHA3VTH/1GTemAkpfKIKz0ZSe3mvDbFJITTe1wuhpLrzThdEY4cqbSajdwuMVziIAc+5iaMtVxyBTL5T6EMhSUTDuHiS8M0Z49DQnT/sInHGx60wfxoKLVgkxjwYXwSH7/RtovZsgcqaPF3u9hG9V4XiJCL5XX8Q1FK7itOXlUMdSi8I9EvHgu+bFdaQF83yLDS8ljZlNW8F/NsjEjXbqVqYeSdR97/HUL/1f35T6UjwWItFshYkQQcDWUORX0qWw8pF0GY/y3g0wrVpge4AGQ85CurqtLkatDqLBEQaHBxk578Fx3oNrzuLBy6G/06T7+wDBcJx2g4aJcT/U9qT7eyObtuvo679A6GUbViYIXQSazayt9Kbd7zZniTwUMV+Nkc4TYdqnw4ycPolvOJBaXPqHRrp+OkzPfAuOCpFP4oG5yqpjGozrTTAaJnQ5TOJZXcEfr7SNnfQ0pv4dH56cO5CxJPHNPaX1aRXGQ9W+xw+xJVgjQ6H+L1NPZQXfnpx/JHjqN1wBqDXz2JfmfqwxWGh/6QiB/wgzesiCcivAwWMhkkDt11PnuPLuMni/sfEJrDWQfPMKkcz03uYtmNM1TLNxC1ZinL4YmZ2toXt2UwVTAbV8dY0ChIhMPaRzgUrxaH3q+b6r0YKvEVxQjSbVMSQp/krKxVJ0mFp76D81TuTyMdoNSSIDL+P7oFonqMRtkp8AGKkt8DjWUvqLr6QGmm7O3C6yRZzY7wAUdF+q0i8hqwypZ5o/SVL0rLH07xWPPvLgZ2MArPoq9TXAeITyqqbCFzIX8mmp+yQJ/3A7zQe8TNV34joRYPxahKmpKaamhulcbBKSYfpam3EMTVG/28Xg+XHC16dSxzu16KPN9VDXMQPW/92D66dDdBogerSNg2crD3XKqz8azI0WIEhoIpF+JFHH9sZ0z7Ei9aWY0XOEEunZGtjYsvE+1gSlHmMjQJDIO/MX+GjkCgA682NzA/oVGuo2t+N8I0A4PIpzs0Li7EGOhZIst/5Os96ChfS6WckQwaHc/t7YuB0dfs5dSqRna4CtyVx++1Vxm/NwqDjmW4J4QKk1Ye/uZ/hyhPGftFM3E8Hd65uz7sMD8fskNwHW1PLn9/XEWnTpH+GSvy9W4KaZvgpgyHmspBIPJAapVKV1s+YLs+1C6Y95La94YLF1TLd1J1aAs2685SzpsNTxTca8fVqWsuKhKt/jh9ySLPap3dySKkhDXkaKPquUJPSzY0SAumc3zf9KlxUajOmFmJIfxEgA2rUWTEDEHyJa8XOaWr76tXSqija8FVhhYkubAtMhfjMWwnc9LzBZacbSCLHAWwTfDhFDx/Y5i7EtjnG9HQXwjYXu87TCKtKasJiA6yOEyllbx5AeCBkPFh6R/LTCF+2tyiysGGa6GoueVeqDECPXSc3m+QosebnOovvL1HOpEX+ocAdzK8S5MaDGjrlaD+vWPoa5llT5KNioJwj9Oggo2Nc/wHVychgxtyqAj+B4OfdEg2Ft6loC1wr30nMCmmSIkYEo1PYwdNyBfWMd2pXl/2KYHB/BPQW67iEGD9oxG7RoylrgrgSl1LFaQ6qezzOgVXU1JhzHXVhqkvgPdOOrcIGxcuuPdqMVC+APTxAa80LtdjZlfW5ssKLgJ3R1IvUs9dZNswPo94eWLdusAHhPjBAr1lfPhDh9LALUsf3JBeqqxsiWJjOQJHYjNYhU3f5uidvNVZuwNgKjE0xcyht8gtkfPvzjE0yE/YCVTRXdtErbnIdDxTHfEscD2s3phRXD0/xnBcepltj4CBFA9z/TM7RWfTX1vyS5vcTFoN6UXhwwOFE4T69fwT8DmCyYqjSQ8UBikIpVWDc1BtauAQgUXhT9boEhu2UcD5RUx1ba6DlkAqL07XcRXuRj1ou9ntq61ABr8QG0EhTo0woq9TtHle/xw25p3lqy0objFQsKQRwdToI38j6/myByci+7jsfA0Envd7Nalbsxgke9uat2A4nJCCFAt/ax1ON0j7awu1mBsJOufwyRyOvYktMh3C96S+7wDPWpYMs3lBdsJSJ4X3QyzwoNJTH9z3YUQvjeGCEyJzDRsmmrBa6PMDAcghorT1TY0CpmO10GSA7tZe/P5jbries+XP3VX836858DCDGVCezvVrJAqI6WDhsKYZx7XITyE5uMERpw4i02yKGYse5UgADuH4dzO9REBO9LzgILiBaWvO7DMxrJLWd3o7x1DcBKffZjQEqqwYi+n25pKsqDQkIEzkdzr+duDN/LLsKA6Xnb7MBgWeV6hZKasvbue7OLTy24yI/RTs9mBcIunPnl7W6cYH8fAaBur72Kz+cbse+3oBDG9bJvzpek+FgffWcBQxf2Sk5aTn4UpWDe3kUdSbz79s4dVb+bIDLsou9i8ZpZ12jHBMR+/NqcL9DxMSfO48X2TJDMnsVxN0Fk2Fd+Gfjv5Jw65Ttdfku5qDqWTfsYa2uB64OcvpabyPiYk4NHC+9WsVo7R37aSd1MEEfH4gOmHOXWn8yX4qsDDJwB3fa8mXymLbTXgO+NAa4AlsYKftkvk2arA9dmBS466PyHIPH8tjARwbt/F55pqNvdS2f2BUwH8QyFcve5m2Dy7RCgY+3XU9+Cqt3fLW08kO7vucLAG77U4NPXsz7O/PBxZoCBq0CjBXNFM+wqb3PKVdV4oNKYr2rxQJLIsAd/JC+/3n0r9ez51nqym6rqxkQFXA1w7t28xvkDH87eMGBiV3OmQhmo3wrgwzuaW0cSES8Hf1CkVJcRz2g270zVx5NO+sbz8mkmiqe/jxgKto6W6j1Ocb9ikKrGd5XWzTos201ADPeP8mKgu3GC/+DEU/Tci4gHSrnmqsYDi6tj+era+unfqoEpD23POPDlHyfjVoQLl4p8gSjxerRfX5saQBs8nRsD3I0T/MHBuflfYp9WdjyUYxH3eBlbssU+da1HGL61i7ZeL7s2+NCus9LSoEO5FSVwNkD0FijGTo4dz33lVDLi57XePiK9fdQ1tWD9mobEb334xuIkV1rpac00yhqsh4fommrDfXQHDaMmrFufQFeTIPrmCIGpBKy0ot1lp66EV9VomnbTZQjgHnNg/WYAe2s9ykdXGAlE0HZ00h5y460kUF1jwV7jwRsOw9Z+LHmBSWolWyfhMCi7t2CqdAG5FUa6jvcz+XQ3gRcsmI5baflWHZqZGFfOBgjfSKIYO7HsslTxFzotpkYTjIXxPNfAFYOWP0xHYNcogT3ljcxotvYy9E6UtgEPOzaMYLK28MSXFRLvBhg5HyWBBuuqXdgNugLPiymY/3cvluFugkdbafh1Kg8y97X+BQftY068C6YiTvCYE9dokr7edDkjxpUzfsK3FIzdu7Fm3c/Ur4NeggeasA7W8qfxKabW9zP+urVKXyLMcMlGw6AldU+z6pRmaz/9Wa8eK6tcG83Ya9x4LzpoavJSq8SZet9M/7/151xnLi2214eYfLoVT355O+MnnE6b5/nq/hSi3XaEoXdstB51YPkfx7ButVK3Mknssg9/ONUG9B/vmn/G10LKyo/5jteF59VJbN8L4HjSxLF0O5f86AojgTDxGQXjbgudxb50PmrnhX2DtA4EcXyrAZ+1hSe+nEy1e9hxHTTj6M0KyRUzljYF75CHtiej2Fvr0dyKcmEsyB82Otne6sM1vIhrXm+hvcaL92gbjb+zY1+tIfHuBc5d+gObDm3HPuzCt+hMWVwdy7EiNaDl/l4QzzMNvLXNfi8/PjHTs9tC39Gl6bqVdQ48r0SxHvDQtt9A4I1yF/8st/5oMW82wYthwujoacz7fIURS6uC52SYCBbaN1bp58/FWKHD/vowiT1tuE7uomFYW6AdVzB2HON4zhtgkkRGX8P1agRXf126bieYHPYRvJFEs7UHe+ZND1Xu75Y6Hsju73Xdc2ekGjfaUY56CV8HyyubKl8LsdI2pyzVjgcqjfmqFA/Egxz9gQv/TB+H03EtH13BdyZMosZIT0d2P1/9mGiO9RD8TgODG9PxcnZs9Go/7bNv9NJg7eii7qyb4AErDeft2FcrxMZHCES0dHa0ExrwzplBUVY8o5joOe5i8lsOPG0NjMzG/5P4zgRT5W3fEL1bqzmsen9ikKrHdxXWTV3rC3SdaE23Vb5UnUimYkJaXTgaHLjGs3YoIx6Y95qXIh5YVB0rYIUO2+vn0X69m739PhzNPlwGM5bGtalXt87EmLgYJDSVHuBYacacfiWMstjrWWOnZ7Ob7jEPrd98C9u2e/l/09xDZ2MfnouZjUvt0yqIh6C8mG8ZW5oZGUBmoZLxi4M42yxopwN4Bty4h0JQb6Pr9VHGfzH3vcfKmi5GLw/jbKuHq17cA268E1/Asruf0V8fwZa9WFiNiZ5fXGT4lU4sX5wmcNyNe8DHhGKm/aVBxv/jCPZS3rcLqYZ3eBRXmwlNIoh3wMNITEfnGxcZ7W5nbaVrTSprsWxL/dPaZJlbCR+10GICULBX+FjJrFobR34d4NhBG/WE8A64cR8P8l911tn8r/Y0Y92z/RxpM6ElTuT6NKzvwbmtkutRMHWPcvGUi86NWqYDHtwDbnxv/ynmNieDl8McaS00iJG2ysaxXw/i2GZC+TiQvq+P0XNqnGPPbmHt5lLSoMX62jiBn/TcK2fHA0wbbDhOXGR0X+6iO6nVhlMNVPT6FPFaO87nqxggGsw43rjIERuEhty4hwLc/KKVztdHuZiz+B3llWvFjOP/ObAaNCSmIkx9Uov90O6Fy0qNCceb4wy+1I45u7zV23D8JDA3bVWhYDoYYPyEk/b16fwY8BBM1GM7eIzAr3MXBy7vFGXmxzx0245w8fwxHNvutXOe4H9RZ+2if3Sc0YPzlRcFU7efwOudWL+UJHzGk2pXbUcYf9OBfd3c1zRaDvpzyoAvDFteCuB/xU7L+gJvmp/vmmssOP7ZRfs6DYkxL+7jPt5iC73/4sfV2oKpsZwcWVwdm7P3tmNcPNGD1cC9/HjyB4z++ghd1volXdxS13qEod11JMccdP5juPzp6WXWH11DS2oWRt5jJSkKazenHrvAZMFcymKbS6HGSOfxcYInnLRntePeq1C/LV3mX7DMvpUsRcG4Z5TxU07a6zN128vEn1lm27qc8KGa/d1SxwOPmmlZA+Q/VpI5/Xor9hoAE5b11Rl8qqzNKfOc1Y4HKo35qhEPaK30Xw5wrPteXOsJTGPY5mDwl6N0mXLPX/2YKFed2cGxXx/Bli7z3vM3eaSpk/7RixzZljvfQTH1cHo0u+0eIabr5NgvR+nZsZaC4UC58UytnWOXR+nfZ6U2E/+fmUS7sRPXqYuMLsXizfchBlmK+K6iuqmY6PlFgP7dVnTJMP7jbrzjYHt9nMBBO4/PWRRz8fHAvNe8FPHAIutYQSu0mPcNEr48jGufjXolmm4vUrFFVKnF2ubAdSpI5D8G6TSmj7no69Fie+Mig91W6riX/5ZDo1x8vYsta3K+HZTYp1UWD5UV8y1jf6KqqvqgEyGEEEIIIYQQQghRiiWckSGEEEIIIYQQQghRXTKQIYQQQgghhBBCiGVDBjKEEEIIIYQQQgixbMhAhhBCCCGEEEIIIZYNGcgQQgghhBBCCCHEsiEDGUIIIYQQQgghhFg2ZCBDCCGEEEIIIYQQy4YMZAghhBBCCCGEEGLZkIEMIYQQQgghhBBCLBsykCGEEEIIIYQQQohlQwYyhBBCCCGEEEIIsWzIQIYQQgghhBBCCCGWDRnIEEIIIYQQQgghxLIhAxlCCCGEEEIIIYRYNmQgQwghhBBCCCGEEMuGDGQIIYQQQgghhBBi2ZCBjKV2K0pwyMnep62YDAYMBgMGg5GG5h109/sITSUedAorc8NP9wYjxuY+wjMPOjFCCCHEErjmSvXfHT7iDzotQgghhJCBjIXF8T9vwNAbXtxud+OEBnZgWmdl14teQjNaLB1ddO3roqvNgvaTCfwDDnY0mTD9tZfoMh0EiF8awX8jSTLiZuRq8kEnRwghhBBCCCHEZ9znHnQCHn5xYu8A+kXscjeGb48Vx1gSxdhJ/+td2AyanE16XoJExIfrgBPfx4BSzTTfP9qNduzGEOeULlrWL9OLEEIIIYQQQgixbMhAxkLu3iYxvbhdIj/pxDGWhEYH/oFO6moKb6cx2nH9ogXnpwrKisqT+kCssuIajeB60OkQQgghhBBCCPFHQQYyFhKPEV3M9rf8DLwaBUw4Xyg+iDFrxTIexBBCCCGEEEIIIe6zpVsjIxHB399N6wZjaoGsNQ0073HhuzZ3maz48C4MBiN9YSAewr0nszCmkR3DsSInCOMyGDAeCJAA4pc8dD/TgDF9rtYXfUXXnYhf8uLcc2/xTVPTDrqPBolmr7sZD+B42oppg4MgwNHW9EKdBgwGF8VWzIidPUkAYOtOWgylZVVBN8L4evfSnMm/dVb29vrzrimOryOVJte1QsfwsatQehMR/L17sa4z5Bw7krfuaCLix5WTT3txjUZI3C3hHAB344SHXextTt8XgwnrHhf+d/PW0rjmwmAw4jifSK0tcvReuTFuaMU5HEVW3xBCiOUpEfHT971WGtYY0u16M3t7fYRv5G+Z7tPW9BEG4uNu9jaZ0jHEDnxFZkeGe1PH3TVcaBnOVKxgMOzCN3u+9HmaPETJ7+tMWPe4CS1iRc/ktT6a1xgwNLlmF71OxTVWPO8yp881Ne3FPV7kBCXFTpm+P338fNdcGLPio1yZfffiv4X0v0IIIZatpZmRMe1j17ccBGcUtOusdLbqUG5N4jvjwXHei3ffEMPdprxlIZLEw1527XQxabRi32dFAerX6+Y9VfKdSUb6B3Adj2O0ttDZkGRy2EdwyIF1PM7om10YZ2c8JAn32mg9GoWVdVjbuqhbmSR22Ye/dxf+H1vp/8URbLWARoe50Yq27s9xnwmDyUbXhkxa6vmLgqlJELma+jpv3mBCU3CbhcXO7MX2vQAJNJi2tdP1ZVJpPNpN8Hd3CLxhR1fuLI6ZMK7WVjxTCtrN7XSt1pD86AojQ900D08yeNmBWYHkNRfbn/EQrdFiaeuifmWS2PgI3v3N+CYHGT9onn9Zj2k/e5/uJnALNCYb7ft08NEVfGc8dF+KcufNY9hrs3dI8pvJEfp+5MLziRHr1k6eSE7iOxPEe8BKKD5KYI+xzIsWQgjxIMSGd2E9ECRZo8Vk7cT+ZYXEb334jjoIDHnp+ukwPevyepOZOG+d3EXbP05itNrp+pYC1GOuLXiK8k1NERzai/vFEI80tdC+z5Lqa8/3seNSlCP/1o915QLHmPax9zk3kS/ZOXLcgSlnFmaUqUte9h5xEvqilZa2LiwfXcF3JkBfW5Doj8bp36rJOVZpsZMW82YTXAwzMh6l82t1OUkK/8qbGnwYDjHxkhVLdvbeuEDgItBowTx7bdL/CiGEWIbUarszob72lF7V65vUw6HbuZ/9/j316HN6Va9fre7/13uf3Tzdoer1qb93nP6wxBNNqIf1elWv16urd59UJ7NP9emH6qnnUp8dCt65d56fd6ir9Xp19e5T6oef5h7t5q8OqY16vap/akCdzP7s6uFU2lwTJaRpUh34Zuq8h6+WeBkF3PTvV7/9t3nXpN5RL3x/tarX67Py7ubsdRY838en1A69XtXrD6uZ1Gfy+jsn3svd9vZ76uT7mbzKHPc76slo3mbRSfXD389/jtTfR9T9LfvVk7kXod4JHlJX6/Wq/m/OqbOfZPJYv1rtODGp3s7O/1jm+IfUC3dUIYQQy8SdidfUJr1e1T91WL2SFw7ceedoqm1/bL967pPMX+/1afrHOtRTsdLOM+FK7dNx+mahT9OxQod66uMC53nqkHrh4+zt76hX/qFR1ev16rez+8lMP/XcKXX2LLevqIefKpzWe3FNk3roV7npuhM6nIo3Wk6qs2dYbOwUPal+Oz89qqqqn6bikNWPf0NdrV+tHvr33I7z9r/uz80r6X+FEEIsU1V/tCQxdhL3FCg7nfQ05M1JqKmjs7sHHUn8x0eY89DI1l76W+efgTFXJ8feaMeYfaoVOra02gDwTUTSf4zgez1IEhOOF+bOaNBu7qFnKzDlxhcqdyJlctELgxaibe5n9NW8a0LBsrUdAP/bU2UfezoaBODxvF9w0NRhfDTzs800UxcBHqfuK3mbGYzoFlr3A2CVjf5f9NOeexEoG620A4xOMOcqOo5xbKcRTfa9qd2CvRnAx+ytFEII8ZBLEDzhJopC+4s9mPPCAeVrnfxttw5m/Bw9O/cRUuvh/rxZe0vBjOu4E8uqnJRh3rYdHRC5FKHoEyYzYVytO/BM1dH50yNF02p+2YNzszbnb0pDC9trgetBIukTLDp2MpixrwEuhpjIfn4kcoHT02A/9APsJPFdyu44k0yM+wETlvW5aZL+VwghxHJT9YGMybAfALtlbeFHD9Y8ga0GCAcJ50UIlkZzWY9jfL7AYxaaRx4BIJkZk5j+DaFpYE0L5kcLHUWD+UkLkMR3tdweW0FTQuCVeZ43+7/Cz/bmqcKDQMaN7SiA50UH3msxkncLboVlpwJ4cP69l/B0FZ+QXfH5RX6m4ZFVAMkiaRVCCPHQuTvJxCiAHUuRV3MbN9hQgPDFcN6AgQXL+nIfzlwMpXC/+kUtBoBP7xTe7W4M3/42PFMKllc8OPIfjck+w+cK9WtatOk1tO6k+7XFx051PG7VAX5C4Xt9dOTSaWK0Y2myYG6G5NA5wpm+MxkiOEThOEj6XyGEEMtMlQcy4sTSP7Mrf1asY6+ldj3AFLFFLKZVsRtThAC+qPCFIptodalZCskPbhZYIKsUtdSZUv+ajBZbpBRqzQ669nXRta+L9s3zzEC5myR2PURo1Etffx99P3urrFRlUzY6GD5oRjPlw/mMBeM3Gmj9nofgVPYVK5j/bhjHRg3RYSetjUaMG1rnLohaouQHEUKX/Hj7++jrP0nlVyGEEOKhNvvGL4UvFAsHvlSLGeCdWPGZDw+biw4avmbBMZZE23akjFmkhZQXOxkbUzNHvGOh9IKcES78LAZtFsyKBnOTDWYCXMn8NnM9hA8w/i8zdXNPIIQQQiwr8vrVqtJgXG+C0TChy2ESz+oKzjDRNnbS05j6d3x4Eu9Y3qBHIoLv1RdxDYXLHFCZj4Jx9yDhnTHCo6c5edpH4IyLXWf6MGYvwlpjpPNEmPbpMCOnT+IbDqQWRP2hsfDibPnuJoic6ePFXi/hW1W/CCGEEOL+q7XQ/vQj/Oa4j/CQC7fNPO+MjCX19U1sr+2j70yIyCELpvff4tw02BpSszoU8yas+Dl9KULXGiORqwGS6NiyToYxhBBCLH9VnpGhRZeeLpn8fbHHEaaZvgpgQKctsslSWGVI/fLzSZLbRTaJx9K/Hz36SNlvHNFt3YkV4KwbbzlPqCTD9LU24xiaon63i8Hz44SvTzE1NcXUqc4yU1WAosPU2kP/qXEil4/RbkgSGXgZ3wd5m9WasHf3M3w5wvhP2qmbieDu9c1d3yT3Igj/cDvNB7xM1XfiOhFg/FokdQ1Tw1TxKoQQQjyMtLr0r/5JbhcLBz6eTs2U/LqO+xkOVMRgpavbxdBPO6kjiue5gwQqHqwvM3ZaYeSJbympWRfvQPSyjwg2tmxMRzArLWzZCrGfXSCSma1Ru51N8gISIYQQnwFVXyOj3pReZDM4Ufjd49ev4J8BTBZM9zNyqX0s9eq26yOEPii0QYLQr4OAgn19Bb38Shs9h0xAlL79994pX6rk+AjuKdB1DzF40I7ZoEVTdHFNLV/9Wnq/osFPCVZZaHkSIMz0PCny7oQAACAASURBVPN7tZtbsACEp/nP+Y6XDDEyEIXaHoaOO7BvrEO78gH9YiWEEOL+W1HP2vRCkcGrhfunyGU/ScDUaKpoIKO2zgLAzZliP1NUn7LOgecVC8qMn+4DPmIVriFRbuxk+p/tKMQIvR0k9PMING/JWlhVg7nRAtPneGsstU6YbvsmZBxDCCHEZ0HVBzI0m3fSZYDkSSd943kPRsxE8fT3EUPB1tFCNZ4sLZ0R+34LCmFcL88NOuJjffSdBQxd2M1ZX7pXKKlHLd59b/YZ3uQCYwZ1bf2pd8NPeWh7xoEvUuQBkVsRLlwq8gaS/07mBjOJCL7TwTmbGeqtAPiGRnKvKRHB+6KT/D2S1314RiMksre9G+WtawBW6g0ASSLDHvz56X73rdT6FlvrMRROdZ4EyU+zz5MgMuybkyYhhBCfNRos3+2ijiTel/oI5XUnyXc9vNYfgxobu7dWFg1ov7429ZaRwdO5Px7cjRP8wUE8FR29OF3rEYZ215Ecc9D5j+HCAxAlKjt2Mm2hvQZCwwOMXAfr5txF07UbrViIMPKGjxAK1gYZxhBCCPHZUP01MhQTPcddTH7LgaetgZF1VloadCi3JvGdCRKfUTDuG6J36/1YkTyXdtsRht6x0XrUgeV/HMO61UrdyiSxyz784QSstNJ/vAtj9ltQjGbsNW68Fx00NXmpVeJMvW+m/9/6sa4scqIVOmyvn0f79W729vtwNPtwGcxYGtemXl06E2PiYpBQZoHNlWbM6deUKusttNd48R5to/F3duyrNSTevcC5S39g06Ht2Idd+LJOpWnaTZchgHvMgfWbAeyt9SgfXWEkEEHb0Ul7yI13NrCLEzzmxDWapK/XhHXrE+iIceWMn/AtBWP37tQ1xYMc/YEL/0wfh9P3j4+u4DsTJlFjpKfDOv+jN4oZS5uCd8hD25NR7K31aG5FuTAW5A8bnWxv9eEaXvz9E0IIsXwoph48r0xiPeBhx4YRTNYWnviyQuK3PnxjcZI1Rrp+2lu8Ly3VGjs9m910j3lo/eZb2LY9gS4ZJXA2wE1zD52NfXguVuWS8iiY/s6D63dWHEfb2FsX4Fi5i3+WGzutMGJpVfCcDBPGSv/GvM9XmbGYwBkOQ00nW0zlJU8IIYR42FR9RgYAtXaOXR6lf5+V2ukAngE37jOTaDd24jp1kdHMgpL3nYLpYIDxE07a10NoyI17wEMwUY/t4DECvz6CLf/1qYoZx/9zYDVoSExFmPqkFvuh3VlTN4tYocW8b5Dw5WFc+2zUK1ECx924B9y4jweIKrVY2xy4TgWJ/McgncZ0jtRYcPyzi/Z1GhJjXtzHfbzFFnr/xY+rtQVTY376TPQMj+JqM6FJBPEOeBiJ6eh84yKj3e2sNWdvrMX62jiBn/Rg+eJ0Kj3HA0wbbDhOXGR0X/q+aK30Xw5wrNuCNn3/PIFpDNscDP5ylC7TQndPwXLQn5MmXxi2vBTA/4qdlvWWBfYXQgjxWaBrPcb4aD9d1lqmAx7cA258k1osu10M/3J04YWjS6LF9sZFBrut1BHGf9yNdxwsh0a5+HoXW9YsYcSxQof99SE6DUmCBzpxXatgXkZZsZPCWos99c+tW7DMGRTSYdmWGr1QWi25P9QIIYQQy9ifqKqqPuhECCGEEEIIIYQQQpRiaWZkCCGEEEIIIYQQQiwBGcgQQgghhBBCCCHEsiEDGUIIIYQQQgghhFg2ZCBDCCGEEEIIIYQQy4YMZAghhBBCCCGEEGLZkIEMIYQQQgghhBBCLBsykCGEEEIIIYQQQohlQwYyhBBCCCGEEEIIsWzIQIYQQgghhBBCCCGWDRnIEEIIIYT4/9m7/9g2rjPh998XLpaFiipwURpeREQCUm1hOi6WroOKdrZmmjdi4reS4o3C5F5ZzkaSs2vRxY3UFDYb1GaDjamgjRRsRAcb0d6NKb1bM7qrirp1TG9V01vH1MKueJFULJJQRRIqbwyxN4a5bwWziDH3D1ISSZESKZL64TwfwEAizgzPnDlzzjOHM88IIYQQYt2QiQwhhBBCCCGEEEKsGzKRIYQQQgghhBBCiHVDJjKEEEIIIYQQQgixbshEhhBCCCGEEEIIIdYNmcgQQgghhBBCCCHEuiETGUIIIYQQQgghhFg3ZCJDCCGEEEIIIYQQ64ZMZAghhBBCCCGEEGLdKN9Exq0ogb4O9tUa0Ol06HR6aurasQ/4CcfK9q1FiOJ9pgb9tjq6r8YLWC9O8NVGDDoD7UORspVOzIriadGh0+lwXE358zUvHbv06Ou6Cc6sWuGEEELMCeLQ6dDpWvFcW+2y3N7iQSeNO3QYvu8lcquAFWXsXFlXHYmYuMVDdO6PEkcKIcRylGciYyaI4+Ea9nV5mcBI8yEr1hYzVZ/6cR9txbxrH54Py/LNy3ftAsMjUeIzIZzeAGlTGVEvrZkXznNCnPtZkBgxfAN+VnMICvboMwbHdSrYjb7AwDd6aRjvtTjxkJPhK4VMRAkhhBDrW8jXTfA6xM6exj+V/tliscGaGTsXjbPWkyjep3XouoIFrLN24kghhFhPyjCREcP3oyZckypML/gJnj+BvaOTzud6GPyPMUZetGDY08xDd5X+m4uy+X4sT+hRbTTQWW9ElfpZNMJkzhX1NDxnpLJCTX2TCU3ZC5pLjOkPb48L+NgnEQrdE/V9Fix6FZWGThruVS29ghBCCHGb0NfbMG5Uoa7bj6kq9ZPFY4M1M3YuGmetJ1Ei7xa6zlqJI4UQYn35Qsm3GPXjGYnDNju2JzK64w2V6BsdDDaW/FtLQI35hRFCL2T5KBZbZIZchb6ln2BL+UqWnxvciAK3wTX8jdgydmSzGcdICEdZSiSEEEKsXSp9G/1X27J8skRssFbGzkXjrHXk1g1iU0svlm6txJFCCLG+lP6OjA8n8AN8RcUdJd/46ohOhVe7CHn4I5Njq12G0vjjB4HVLoIQQghxG1gfscH6iLPyEI1wm+yJEEKseaWfyNhYhR7goo8LhcxKx0J4u9qp26VPJELaYWbfUTfBzIc6rzrQ6fTYzsfmEoo2JtfR72rEPhhe+FhCxnK6bTU0PusikJaDYWESyehZG3W1BmoO+wFwPa5LJi5Nf/4x2JX4W+tgsrDvODHpdOibPDl/YYgHuzHrdOh/kpKPIzNB6rYa6g468S/6yEgQ1yN11GxrxAVw0UbNbBmz5JmIhbx0P9tIzTZdss7qaO/yECwoH4Ub+0EzhuT3GGr30dGXJYlr1qRWKSXPqLdgXx11u/Q09gH4se2ar++5us3lmodWnQ6dzkG2J1Ojl1x0PDlb5kTiWedo5iMsyTawrZsgEB1z0j53LPbhmW3PebUnIYQQBcs3FiAxnjnSxqJ2HCMhYhnJLqOXXHQ8XoN+tv9/vAPXpaWzSeW7/bnvyHeMqXURXrB9A+aDTgLL3c8F422escGCsTOG9/uJ8jjGcsUeUbxP69HpGnGn5DvLrw4ytpRnnAUkxt4B+/y4rDNgfrID12g46zHJKhbC25M+ftcddOC5mlnxORKLz8qst6gP2yNmDLtsiR/z+hrn9yNHXJJqQRyZWea842MdrUNRmAnjOTof6xm6gnPHoZB2LYQQa1npHy25+1s8VAWhKT+2h+sIHnme9r0GNBWLrDPlofVhG/6ZSqprLVgbK4l/fJnhITuNQ34cb57EkvbMZ5zfTQzT/YoD16d6zHva2BmfwDPkx33YTCA6gu+gPrHorQieg2Zso3EqDfW0NWpQXQ/jO+tg35Afx8X+jG3Pq7zbyP0Pq6l+y4k3CIa9Vnbemfxw61dz78+2eloN3djHTuANWbDqMxeIM+51EUZD598k83HMBHE80ohrUoV6h5m2Q7Pl7Kb1u17aznix7ch2b2gV1f/jfiz/axPe034iVSaaH9lKJQBqvpZS75HBVsyH/cQr1BjMbVjuVBH7vQdPnw3fgBvrPw/SmfU75ssd7KqnsS8MG6sxN1mp3hgn8pYHb1cr3n8y0/OLE9TnqM+lVH29gfsbp9j0Czf+KQ2m/fVsTewI6ruX+8zMfJlVmw2YW6xoKmKE3xym+2kT3gODeI8Y0u+6nYny29OtNP10Ar3ZgvVhFbAVYxVFtSchhBCLKCAWiF918NjjLsIVakxNVrZujBMZG8b9TB2eiX7GjiTG1rlxb6OB+hbLXP/veNKL/0U//Y3ZMxLku/1ljTGTk/gH2nEeDbCptoHmQ6bEOHq+m32Xwpz4jx7MGwstR6b8Y4N0lZgfb0Z11o3r536sNebkOik+PMfp0Tjs2U/DXcusg9lvyzfOmouRoFJnpvlQNZUzES4PeXE87cW5pwfvy/VoNuTaL1LaVzLOatSguj6BZ8iF7bwb96EBBjuyl3NJlRqMu82oq7+McygIhnqsu2bb1lYWiRgXV3B8DNMfnMPxiB0PZhparFQC6r/WoaKY9iSEEGuQUgY3rxxXarVaRTv3b4vybcszSt+v3ldufJa58Ljy0oNaRXtPi3Lmg4zPblxWjn9Hq2gfPa18NPu3K8fnttny+kT69iJnlBatVtFqjykXbs4vv0WrVbb8+IJyM3Xbn00rExPTKX+YVs48lSjv8SvpxRh3ZP975uctb8xv74b3oKLVapXdr0wsXOHTYeWgNnW/ppXhA1sUrbZWOR64kb7sZx8pp5/SKtp7jimXby7c1JxPkvv+1BllOsvHN8dfShyTB48rlzO+4ua7fYl173lGOfdp7q+Y/reWRF0eOKN8lHEcp391TNmt1SraB3uVidnPZo9VjjJlq7f549CinPkkaymyH6fZ/dceV8azlLnWcXlB2/uov0XRarcox34zW7Hz29be06KciWT5+rzbkxBCfN6NK8e1i/XnKQqKBWb76keV0+GMRcMTykd/Sv7PZ+PK8XsS4+eFP6UvN/32hDKdGY/Mf5rf9pUixpgHjykX0urkpnL5H3YrWq1W+d7r7xdcjpzj7RKxQdax87MJpfc7WkWrPagMZ4kJJl7ZnbZfhdVBdovHWbMx0hal5V8/Sv/os2nlwo8T9VZ7Iku8NWu2fWWLs/70vtL3VCKufOaXs5/ljgkVRckZc8wdB8d4lpWUnMcpazy07PhYq9Q6xpWFNV5AexJCiHWgLK9fVe2w4Xurn84H1HO/WESvenE8bcbw7Xbc783faBgbPY1zEgxH7Fgy32RSaWTfQSMET+INZXzWcpKT+/VUps6+Vz2EpQ7Aw3hy+egHiUdNtut16bPMG9To9epS7G5WlbUWmoHIP3kIZNxXGR0dxgcY9iazU4c8dI/GUe2301mT8dvHBg3NT7fBjBvPaOazG/mK4X/dSRgVzUc7MWZ8herrbfygQwMzXvrO5noYJoTnZT9xDNiesyz41UP9QCede4BJJ57MHV41yTJXNGPvMKa3FUDzRBttxHEP+smsWfPxnqx3VqxWexJCiNtZYbHAFJMXAb5F9d0Zi+r083eARt8nPAN8U48u4w4E9TY96py/3ue5/WWPMUYcp+yYNqf+TYVx72NogNClUPLxkHzLUWIb9Jhb9YCP05kxwa0gw/8UgQoL5ntVFDPO5i0ZI2GwYV+QRF6NqaMTMxA+sTDemjXbvrLGWRXVtHV0oiGO99Twmkk6uuz4uKqTnh9mu7NkldqTEEKUSekfLZm12Yj1tTGsMxFCoz76XnfiDcbgug/7o0fYlLx1ciLoTSwffIPu6Szb+fgmECH8QQz0KYPPhi9mWbiSTZsB4sSTz/qp7zVhwE/ghQ661V20maoXDLRloTJi3q/CfdqD74oN432zQ0qEcz/3A2b270kMyJG3A0QAzcc+nD1ZEl3GwmiA4IdTwILnVJZ2a4LxEQALphyvV9PvqkfV4yR4MUi0ScOCS/Kp3xGYArY1YMz66txKjN81wVk/nish7PcZCi9nqc2WuSqC70Q3C2s2RrgKCIaZwpxSsyZM9y64mRZYxfYkhBC3scJiAT2m/Spcp13Yf1RF1/ctGKqyjG2bjZgM4B+z09Gzia6/NVG9MZ/S5Ln9ZY8xquzR11fU6IDIZzcLK0cZVO+2YMBOcMhPpKl57pWg8cAw7hnQdFgwqiiiDvI3GyPp643ZX0260chDD4Bv1EMgZMeYJfyYbV8W0/bsj05s20l9RTfOoJ9gtBnNGvhdYtnx8cM70WeNS1avPQkhRDmUbyJjVoUGfV0bPXVt/CTkpuNxO/4ZL70jVsz77yCSfHF4cMi5ZDKkZbmrmZ5XQrQf9uB82oyTxHOGra1tWHaUc6RSYfwbK5rT3bjP+Oi8rz7xnOk7Xk4GQbW/ee4Z2Nm3dERG3ThHc29x2e8Wn8uireKOXGPWX1ZhBPzvRojCwomMa5OJAGWRt9GoNdWAn/iH08Rg4XO1K222zFN+3L3+3MsVktNi1dqTEELcrqIFxgIqjD8cxPaHJhyDdhoH7YncDH97COvjJqrnBh8NzS+fIHSwA09vK+beRH4Fy9MHaNtrWOSOjDy3X44xZln7WQZ3NbB/j53g2ZN432nGug0ghu+MmzgGWuuSUxJlr4P5GGlTRc7oA40WGI0T+SQGhsyKmW9fqi/lCoKqqLoXuDhJJGsQtNIKPSfysYrtSQghyqD8ExkpKvXN2H7owf+TEKH/9V8wd0lsLGuSRM0eByNmG2H/MP2D/Qyfd2E778KRT3KoYswm/Tw7zLnn6rFshuAvnURSk3ymaBuYxFZTprJ8nrX0M/mcsWSbW7X2JIQQt7UCYoEKPW2vB2meCjL8xmk8g75E0ul/1Kcnrq4y4xgJYZv0M/y6h/6zPlyHfbi6lkhOne/2oeRjzLLLUVLzST+dvwxi3WaAa+cYPktKks8U5ayDz7USx8er1p6EEKL0ypIjYzF3VGwCQKUCUPO1bSogQGiyzHkVNlRS/UAz9ld9BIMj2B9QETt7hJNlzeegoeFJM+DHMxqBeIDhgThUPcb9KfdXVn3DBMDl98r09nG1hmoA4tzItbufTCV+VflGlsdKADbrMAJ8GudGjk1EI8n7Pu7atPp3YwDctRUTwJVw6d/rvirtSQghbkfLjwVUVQYsHT0MvhVi7LVmqmdCOLsWvvq8Umei+fkT+P4zyMgxE6rrPo6cDCz6atAlt1/OMaaQcpTrO40WrFUQHxgmEIfIqAc/YK41zY/xK1AHX707MUEyPZMz+iDyBwAVmr/MFn2o0egS/xX/U64jPsXUFQDdmnispNzx8Wq0JyGEKLXST2TcihK5lvvj6LXEvXKW7Ykref29FlSAZ3TpgKJkKvU8VGsE4kSuLTv9VH5fdd9DmIHga178ox7cM2B4uj7t+UX1dhMGIOQNEC7He7w3bGV7Mgmq/0r2Wg695SUOGHYbsk9kVN2TeP3oO8MEPsy2QIzAr/2ACsu9yVmaKl0iwFlk8qOs1AZMBhJlnizj96xgexJCiNtRKWIB9QMNiTEnOMUfcy20oRJ9rRkjEP8wUlACygXbX6kxZqlylMsGPfc/pkkmG/fjfS0IFc0016ZMFqxAHWi+mciNEfIGsl9oXw9wbhSosGDMkYRjq6EeAI9/PHv7eucy3hnAYMKgBlDzta8nPso9+VFeKxUfr1h7EkKIEivxREac4E8fw/RgHbbBELGMi/JY0MnRngjoOrEkk1+qjBasOogPtNP+84VDVOwdD46eIrJdT/lxDQSIppblVoyJtwOAhu3fyGPqPXH7COEPosn155OJLmmjmeb9Kpgaxz3oJTXJ55y7GjhQp4KgHetPAwvqLT4VwHnUvfgkx2zy0yuTTM0uF58d+ioxPWmlmjju57sJZFRm/D0XL/VEoKKeA5llm6PH8owJFUEcL3iIZJQlOtpN91lAZ8ViTN6aqL6H7VXAO/28cTWesbydI33Zv+mLXwAIMDmV/EMh9Z1GQ0NLPSqC2A86Fuw38QiBXjvuQoKvUrQnIYQQaQqLBeKEBl14Qxmd+nu/5bcAe7aiA7gVwd/nJpDx40psIkQA0Gy/J0cqhDy3X44xZlnlWMSiscHS9HWtGADfoJvAFGj+Lpnkc06J6mCxOEtvofMBFQQd2DPbxq0o/p5ufEB1e2bZ5lU+sD/Rvk7b6R7LKORMGFdPNxFU1Lc0zOUj0201A+AZGE6PeWIh3EftZM0IskGVeGz4vfeTb54pqLrTlD4+LkF7EkKINaTkOTK+XG2kesaD53Adwz0GzHt2oqmIExkbxnc1SnyjmZ5T1vk7EjbosZ7qYeKRDnzPmTCcMtPwcDWVMxEun/URvBZHpW/D1Gpa8NrQpcUJjbyE42chHD3VmPeYqd4YY2LQg/9anMo9nVi2Lb2VxKy4G//hWsz9VfxFdJLJe3sYe9mcxyMU80k//RfTk3zOq8R8fADrZBPOvn3UjMzWW4zwm8P4JmOw0Yy61UL1XTlG6eSvIv6gi6bvXEan/jNT70DbiA+rHlSGTlwvTmA+7GLfrmEM5gZ23qki9nsPntEo8Qo91n/uylK2lK/Ye4KBd+tp7LNh+vbJZH3GibzlSbyRJsuxtTxjwvmsH9fjNfx2r4Wdd8YT+/Spkc4DJrr7MkMBNYbdBhgN4nqqhss6NX+eCkHrCL6Dhec7r9zTxcC7YZp6M/b7PR/D58PEqMS8uRWLTpM9k3ma0rQnIYT4fAnQfaAOd478QQ3HRmgzFBALxP30/cSBd6ab4zvMNNRo4OPLeIaCxCr0dLYkxuZ4yMtLXd2Eurqprm3A/PXK+TFvo5nOxhxjSjS/7UOpx5jllyOnJWKDJSWTfnac9RPAgL1u4UqlqIPF4yw19S8PMPFII67MtjHkJXgdKvf04Hp6kR1SGeg85WDiYRuuphqGk/Wpuj6BZ8hPdEaF/tAAXXvma7Sy9gBWnQ/nqA3zd3xYGrei+vgyw74Q6pY2mgNO3DOZO2LEUuHEfdFGba2bKlWUyQ+M9CTf1FeQUsfHpWhPQgixlijl8On7yoXXnlGavvdtZYtWq2i1WuWvHmxSnnntgvL+jRzr3Eiu8+BfKVqtVtFq/0qp3f+M8pJ3QrnxWcpyV44nPneMZ93MuCPxfcevzP9t+spp5dj+WuWv5spyUDmeuV1lWjnz1MJ1E24qE68dVGq/pVW02i3Kty3HlDMT8zsy+50tb0zn2Ln3ldMNiXWP/eZmjmUURflsWhl/47hycK7etijf/t5B5Vj/ZWX6s9yrzYmcU45Zkut+q1Y5+MrC9W5MDCsv/eBR5dv3JMq8Zef3lIOOM8r4J3lsP2n6N6eVY3+fWp+LH9vp3/QqB2eP67dqlYOOYWXihqIo4y8pW7LV22cfKed+PFvGv1Jq/75XuTxXvhzH6ZMzSotWq2i1x5VsLWP6yhnl+N9/L32/f3w6Zbup225RzixSH/m1JyGE+LwbV44n+8nF/qX15fnGAjfeVy68clD53s4tieXu+bby6A/6Mvp0RVE+GVdO/7gpOX5njEGLyXf7SSUZY2bHsafOKHOjYr7lmI2NUtedtVhssMTYqSiKctN/LLHtR08rH+Wqr7zrIJfF4yxFURTls2nlcv+x+Xgi2Tb6fvV+/uPvjQlluPsZ5dGU+vze3x9XzlzJEb/dmFDOzMUjW5RvW55R+n4zrSjKtDJ8IHu93Xy7b66MW3Y+qhx7I6Xt5jhOi8aRJYqP57ZVQLsWQoi17L8piqKs9mSKEEIIIYQQQgghRD5W/K0lQgghhBBCCCGEEMslExlCCCGEEEIIIYRYN2QiQwghhBBCCCGEEOuGTGQIIYQQQgghhBBi3ZCJDCGEEEIIIYQQQqwbMpEhhBBCCCGEEEKIdUMmMoQQQgghhBBCCLFuyESGEEIIIYQQQggh1g2ZyBBCCCGEEEIIIcS6IRMZQgghhBBCCCGEWDdkIkMIIYQQQgghhBDrhkxkCCGEEEIIIYQQYt2QiQwhhBBCCCGEEEKsGzKRIYQQQgghhBBCiHVDJjKEEEIIIYQQQgixbshEhhBCCCGEEEIIIdYNmcgQQgghhBBCCCHEuiETGUIIIYQQQgghhFg3yjKRER1sRafTLfy3rYa6JzvoHgkRu1WOby5GFO8zNei31dF9Nb7ahcnuqiNRj13B1S5JhiieFh06XSuea6tdllV2K0Zo0E7jLn3iWO1wEFxmc5o9j1oHo6Ut40q75qVjlx59XTfBmeVuZJXOz2seWnU6dDoHyz/rgjh0C8+PeNBJ4w4dhu97iaxKfxgn+GojBp2B9qFIyt9nz2cdjqurUa6E1a8fUXLXQnj7OthXV4M+My4YDBJJO7VlXCmVNTuWrNmYZhVcC+A8aMag06HT6dk3GFl6naxun/OmJGNASeKPwgW7dMWfc1njj7VwrZKjDLPnc4uH1etpcsU14nZV3jsyqkw0H7JiTf5rvk9NdNyL85k6ah4pTacS7NGX5qS5doHhkSjxmRBOb4BVm8oIdqO/DQagz6c4wX98jLrDboJxPfUtVqxN2/mqKvcaJWu/a1j00jDea3HiISfDV5Z5Zq2V87OEQr5ugtchdvY0/qnlbCGK9+liLgJCnPtZkBgxfAN+VmPIX6z9F18/Ys24FSXQuw/Drjo6urxMxKsxtyTigjZzNX+e8OI83IhpRx2Oi7dzb1guxfYFYlVd89L64D66z0dQPdCM9VAb5rvvyL181EvrKk80r4RSjAEliT/WklLEQsVeZ6x2PLZo+1/9uEasrC+Udes6M9YOC+q5P3RivxXBc9CMbdRJ04+2Mvaymcplf0GM6Q9LdAptvh/LE3oCPhXWeiOLXHuWVeyTyG1xkfa5dG2Y3t4wVLXR/6YNY8VSK5Sw/a5h6vssWPQBzqmsNNy7zDNrjZyfpaSvt2Ec7CZ8335MVcvZQpTIu4B22SWg4Tkjnp4wpiYTmuVuZtkWb//F149YE25F8D5TT8fZGCq9BceLNiz69FHfditGaMhBx+FxVJXLjwg+v4rtC8RqCv7LEfwzYHrBx8kn8uiJoxEmgeqyl2x1lWIMKEn8sZaUIBYq3YRDuAAAIABJREFU+jpjteOxRdv/asc1YqWVdyIjmw0aLC924d/RgW/kHIHnzZiXHbfc4EYUSnMWqTG/MELohVJsa/luxEq2Q2KlTU3iB3j4oTwmMaC07XcN22zGMRLCUdRG1sb5WUoqfRv9V9uWv4FbN4gVdaeCCn1LP8GWYrZRjMXbf9H1I9aE8EAHHWdjoGtj4IwNQ7a+cUMl+kYHvro4qG73DrEMiu4LxOqJ8v57ccCE2ZTnZVcs9rn4pbkkY0BJ4o+1pPhYqPjrjFWOxxZt/6sd14iVtjrJPjdqkrNkYaaLuov0j0yOlaREa8YfPwisdhHEirn92q9YQdEI4dUuQ1Gk/d/2rnvp/kkQqKbz5RyTGKlkEmN51n1fIAoRnZKjLZZvvV9nSPsXqVb5rSWbUH1p4V+jl1x0PDmf9Kimrh3naOqtUEFcj9RRs60RF8BFGzVzSUUznvu6FSM8mrG9xztwjWXOoORIcHfVgU6nx3Y+lnjOt69jLpGjflcj9sHwwlu0MpbTbauh8VkXgUWeRwv21VG3S09jH4Af2675JKlZkwXlW5aUZffVGuaTqx104s/zsYboJRcdj88mZ0vW36XcM1CxkBfHXNIqA+aDTgLZFi/02NS6CAPxD/0pSbEMmA868H+4SNkXbUuLi4W8dD/bSM02XbKe62jv8hBMPZazCZkedyX+v68xJclttiSRBbTf+YLg7WrHvCOxnKG2HeeCekpftm4u4aiZfUfdBPOdNLwVJTBgp322vegMmJ/swDUaXpikN5ncqXUoCjNhPEfn68rQFUzU82IJM6MBXM/um9uvhf9m66OE5yfAtSCejDpq7/ISLjJvT9q5MnveR29mXzhXYqyl+o+oD9sjZgy7bIk7gLK2t2R9besmCETHnPPHc9s+PMlfb/NKSHYtgPNgXfK46ql53I4nFEtbZPHtZCY7zbP9L5Y4rJA2mvx+/WEfMbIco6Oeoo+7yC46OowPYI+VZn1x2yr3uJL39mfC6f1rln9pfVQh429GPz/bL2Wcbim7kE9fsPh3lG0sKXRfytF/Z4wPwQF72vY7BoLZE88XGTPl2z8l+s0abBchn7gvetZGXa2BmsN+AFyPp7S7HPlR8m7Xc8vWzY/htfuwDwSJ5ploM694KbEneY1Pi40B0bHUczzLv9l1csQfiQS4ZlzvUdA5EZv0p8Us+l2NdPQF8q6jrG7FCI045utgtj1nPVdyJ+NOP9aJ/XCkvFwhv+uM5Hj9tJcoccJZk9fnkRA8mfh+X+o+9WbU0xLJ1OdeHJFs2/m2/0XjkVgIb096fFV30IHnapbzbZltRKyslX+0BOCdy4ngpmo796hTP4gT7KqnsS+MarMBc4sVTUWM8JvDdD9twntgEO8RAyqqqP4f92P5X5vwnvYTqTLR/MjWZK4NNV+b/dVnJkj34004Q3FUm01YDpmpvD6BZ8iLoylE9IwX2458fgGK87uJYbpfceD6VI95Txs74xN4hvy4D5sJREfwHUxGaXM5QOJUGuppa9Sguh7Gd9bBviE/jov9WLI861f19Qbub5xi0y/c+Kc0mPbXszX5yI367owyXj9H9yPupcuSrAPHI424JlWod5hpOzRbnm5av+ulbYk6iAy2Yj7sJ77RQH2LZe54OJ704n/RT39j6q2QcSb/tZ3dvQE21TbQfMhE5C0P3vPd7LsU5sR/9GDeWMSxmZzEP2jjjcPn+PJeS8r2XbReCuN482RK3ebblnKb2/cKNQZzG5Y7VcR+78HTZ8M34Mb6z4N07lDBxntoaKknftFPYDIGhnqsu2brZStfXXi082u/s3vyrpv2LieBr5hpaLJi+vgyniEf3U1+wq+M0bMn5dmsKQ+tD9vwz1RSXWvB2lhJ/OPLDA/ZaRzyZ9RRFnPtBSp1ZpoPVVM5E+HykBfH016ce3rwvlyPZkP6atMfnMPxiB0PZhparFQC6r/WLX7zYkpZDXvbsM7W72h0Pnit2MQdSz6mU8D5CUSG2ql/1keMSgx7m7HeSaId9XXg/8NNfK9aFuzf0uIEexpp6g0l2sveNnbeCZExF63fzRW5Z5FP/6HWYNxtRl39ZZxDwcXb20yU355upemnE+jNFqwPq4CtGPN83jj2q27qBtz8+b4GLC07iYwN47vqxlYXYDLv/jNTYe1/gWW20fi7Ewz39OI4FUVvbqCtJs7EoAf/gA3zWJSRN63oCz7uIrcY45cSAadxl6GIXFgrMK4MtOM8mt/258bTB+b7V89QkPmzvBp1ZZbllxp/Z4I4Gme33Yx1S7LvHuigbnCC/rdsGDNPt8oC+gJWcCwpdF8KiGkK77/j/G7iHM6TdpxTRiyNbey8nti+92gjoUhGLFBkzFRI/1RltNH84TDnLoWIziwR9wGVdxu5/2E11W858QbBsNfKzjtnD/eCo53/eUNqrFeNea+V6o1xImPDeI424rnoWHJczDteSqur5Y1P6XFpIrabGPTgvzY/0aRS35HHwxNhJi+5aT9hz+OcSB/jTXutmDcmvtfbtY/Q/7d0TJlVSg4hNlZjbmqmemOM8JvHMA/E895e/KqDxx53Ea5QY2qysjV5/NzP1OGZ6GfsiLGw64zpMOe6nNgHwbynDetGYNP96PK6ZJrE/cxuXOM6zHuasdaE8Z314evZh//tpdtSLoW1/yzm+rTkud2oQXV9As+QC9t5N+5DAwx2ZB7DQtqIWBVKGUy/0aJotVpF+9QZZTrzw08uKMce1Cpa7Ral5d/SP53+txZli1ar1DouKzc+S1/to/4WRavdohz7zc2UbZ1RWnJ9j6Ioys1xpXd/k3L8Vxmfhk8rj2q1ivY7vcrE/LcrZ57SKlqtVjl+JWXZK8cT+6LdorS8PpFerkjy+7XHlAs355ffotUqW358QUkpqaJ8Nq1MTGQtZWoNJMvQopz5JMvHhZZFmVaGD2xRtNpa5XjgRvq2PvtIOf2UVtHec0y5fFPJ7rNx5fg9iWUu/CmjpG9PKNNz3z9fd9oHjykX0sp+U7n8D7sVrVarfO/191P+vLxjo33wmHIhY5VE29Aq2kPDyuxeFtyWMtwcf0mp1WoV7YPHlcsZVXfz3b5EXd/zjHLu05QPZo+PYzzndtMs0X7nziNtrXIso55uBo4ru7VaRdtwWpmr1ZvjyksPahXtPS3KmQ8yNnbjsnL8O1pF++hp5aOcBZptL1uUln/NWOqzaeXCjxPHsfbE/JGZb5NapdYxrmSt0dn91B5X5mvmhnLu/0rs2/Er6Wvd+NWxxLF7LeV7SnV+Kooy7X1G+d4PTisTacf1pnLhx1sUrVarPPPLlA+yln2hm1eSxyNL+5z2H0u0pczzerbsqce/kP5j0faWcs7c06KciWQv97gjsUzLG9PZ133wiDKc0ZY+eiNxbqW2pezbmfsW5Xi2/V+q/85WP8tpo3Pfr1W2HMg47p99NLevx/y5+wOxHBNK73eynLN5W+FxJY/tT5zYnWh7b2S0vXf7Etv/wTllvnkVNv7O9vePpu6PoijKjfeViQ+WaJtLjD0rPZbkvS/l7r/Ttv9+ep86ux/a3Urv23NbLy5mWlb/tETcl8Vsf5v9vCq8Xc/GO1sOnFE+yoiXbvwm0T4e7c8dORQeL+U3PmUdA26cU55Jftd4alz62Y1kG6hV+lKrN8cYXvA5odxUxk80KU2OCymxr6Ion72vnH402Y5SvnfxMXFhObYcOK28nxZn31Tefz051qaVPVssNPu3R5XT4fTt3whPKB+lbXep9jY/Xi6o40XLoKSdb4+eGE8/n/80rhxPXvvNxd5LxFdzxyijX1u8/eeo+9k+Ldu5/af3lb6nEmVL7T8KbyNiNZT30ZJJH86ebrp7uunucSRuA9vVinuyEuORQU7sTb0dI4TnZT/ximbsHUYqM2brNE+00UYc96CfvH/fVBmwvt6P7QF1+t91Jiw1wNQ4v8v39UMtJzm5X59erqqHsNQBeBgPJf4U/SBxK+R2fcav0RvU6PUZ5ViuPMtCyEP3aBzVfjudNRkzhhs0ND/dBjNuPKM5ajT6fuJWzW/q0WX8Sqrepke9YEbViOOUHdPm1L+pMO59DA0QuhSavz1wWcdGj63XjiljFc0Th2irAM4Oc+4aFN+WYvhfdxJGRfPRTowZVaf6ehs/6NDAjJe+s+VPuWV8wYU9o55UNQ08VgW84yeUrNTY6Gmck2A4YsdyV8ZGKo3sO2iE4Em8IbJLthcMNuyZmdM3qDF1dGIGwic8BDLvsK3qpOeHhfwaMcn4CFBVT0PGrzSVJjPNQPhKOP/X0uZ7TgDquh5GftZM+osTVJj2NAPgfXsy771IiOHvdxFBRfNztgXtU727AVOeWypH/2E+3rP4XTiLaHveQX1GW9I0/gBrFYu3pXIppo3SxslXM477Bg0PNdYD4Blf6Z253cVLlICy3ONKvtuP8rsrEcCMpTaj7X3dnNi+b4K53qPA8XcqnLh75Vtfz8jFX1mN/q7S5A5ZqbGk4H0pd//deIIT+6vT+9RKI23fNwERnL9M3pZebMxUVP9Uavm269l4x4DtuYW/lFfet4/2Ggi+5iX74S4uXip4fHpvHC+g2duQnnNnQ2WyDYQJvJv/Lf/5nhOgwnCwn/4jpvTYd0M1pkYjEGE8VOijBiE8r/gBA7bDzVSnxdkqqmvNGPPazhSTFwG+RfXd6Z9U6vRo8ko+n0lD50t55DXKpsZOz0FD+vlcYcD6TD0Ueh1XIrN9WtZzu6Kato5ONMTxnhpekEg0/zYiVkN5Hy2Z8uPu9af9Sd9ygp52M9UbM5f9HYEpoCqC70Q3C1PRxAhXAcEwU5gp7nHbLxaesHfDF7P8sZJNmwHixJPPfanvNWHAT+CFDrrVXbSZqhdcSBctz7JE3g4QATQf+3D2ZEnuEwujAYIfTkG2Gt1sxGQA/5idjp5NdP2taeFxS6PK3qK+okYHRD7LkSsgzWLHZhNZ38y3Qcf2B4ARP5NTwGdFtqVbE4mLbCyYcryuS7+rHlWPk+DFINEmDSWaospK9YVsx1uNWgdMwc3k8Z4IehP/EXyD7uksq3x8E4gQ/iBGRhQIzLcXfb0x+yurNhp56AHwjXoIhOwYDSmfPbyzwNvyv0zVNuCdGDduAanrxqKJgaRClf9pmuc5sajl9oap7aWmuAuO0vcfJkz3FnHbY9Y60bO9FjiVuy2VS1FtFPhilrqs3LQJgPjt/ybkFaaisgooejKj3ONKvtuvZFMVQJQbMUh7VubWfxGdAr4y32cVOv7q72tG1efGddRG1fF2LAYNqhLHDis1lhS8L+Xuvzdmf8xArd+OBj+R994nioGbRcZMxfZPpZVnu54bv2D837qz/ngQiQNTYSLZDndR8dIyxqeNVeiB0Kc3FnwUiyYuQSsLSBqc7zmxmC9+YZnj/ux1z7YGjLrlbSJBj2m/CtdpF/YfVdH1fQuGqmInP83s3LbMVVWQ9Yz+phEjXgIluY4rzGyfZjFtzz4UbNtJfUU3zqCfYLQZTUpQX4o2IsqnvBMZux2MnbKgZv6ZttDFcf6rw7xw2WuTiQvOLJMfaZb5y2I8Gib07hTv/36cqf8dY6LQH13zdVczPa+EaD/swfm0GSeJ50tbW9uw7Cjn5e5Cs5mJI6NunKO5l8v9wi8NzS+fIHSwA09vK+bexDOflqcP0LbXkOWOjOUp/tjMBjwQ/iAKFNmW5jLAq7gj11jwl1UYAf+7EaJQ1omM/ESJJOstOOTMnuRtCbPtZVPFHTmWUKPRAqNxIp/EwFDMBWw1xr8xwDsu7P9gxHXEhEYFXA/hPnwEHyrqa41FPFefh1txIqFxpj4IEwhH4ePfLm87+bSXfK2h/mMxsxMCsZmVvfpf2TYqiqNG8w1gCibCEdiR56slS6T0Y74K4wPNqAbc2J93c8+Lzeg3AvEI/q4Ouqeg+tn754LzQsdf1X02Bo+EaeryYH/cgz2Za+DQQQsm3Uq24+LHkhXZl1L037MX9RcnE/NtRcZM67J/mhu/gnh7l3G0VzpeutuIxQD2U3bsNS5spsQkWewdNx0/8kFFPQ9l3hZSavEo4XfCTH0wwXgkRuz3y+xcZq97vqIiV4vJjwrjDwex/aEJx6CdxkF7Ijfc3x7C+riJ6jXQzAD4QnI+eSqWd8L90pjv01RfytVIq6i6F7g4SWRtBPUiTyuW7FPTeIKT75rZd8pF04+2M/ayOftFSks/k8/ldzNVPqKXnBw57ExLAlRumj0ORsw2wv5h+gf7GT7vwnbehSNHErpyaxuYxFazzJWrEu/gtk36GX7dQ/9ZH67DPlxdZnp+cYL6ZU4sQZmOTWrdlrgtrQ/GnAll15rqplc5GWmh/VQrptOpn6jQHxqgq1wJlGIhPD87imMguOK3N+ZjrfUfQiyPGv19ehgNEXgrSOwJTXknJpPKOeardtvwPj/NY0ft1O2wp31WuacH19MLf2PMf/xVoT/QT3B/hODIG5x+w4NvyEHrUDf6rEnoyq2YsaSM+1KO/rsivTRFxUzrVY0D/4BlkR+21ogN1TS/epKplnZcT5twp35Wocf6z11pSUxL6loA59EOnKkJydeKCj1trwdpngoy/MZpPIM+vF2teP9Rnz3RqhC3iRV8/aoKY0cPbTqIj3TQMZjxFNJdWxPPkV8Jl+x96NGhVnY/2U3gK2ZsL4/gvxok9N4kk5NjOHaX6Ety2VBJ9QPN2F/1EQyOYH9ARezsEU6W/8HIOVXfSDyZf/m94mu0Umei+fkT+P4zyMgxE6rrPo6cDCy7My/tsYkS+QOAiq13q4tvS2oNiSd749zItYOfTCVm0r9R3sdK8qfma9tUQIDQ5PKOylfvTkz6TM8svGUzYb6eNX9ZgkuS+BTjY5No9jvoed6K9ZAV6/M9jFwMMlKuoD0epLuxDtvAJFsPOOg/P0bwnUkmJyeZPNO2vG1W3DF3gVayWwzXQP+RW5wbydccatQr+1PPirdRUZTq3RYMAGdPM1yuuyBTlH3MvzVNaCxA/IFOel60JfqsIw76zwcJvpI+ybjs8VelwdDYSc+ZMUJvnaRZFyfU+wKeHK8YL73ix5I5pd6XUvffs+O4sZoqio+Z1mX/tPlrbK0AxkIs63CvQrwU/3Ccyx9oaH6xB/uhROxgf3kE/9WR8l2wX/PS+uA+ugNqzEd6GPl1kGAo0fbGXsw3C1aGisrExFEc8nlALh+qKgOWjh4G3wox9loz1TMhnF2eBXkfVsWf4kwDbKviyyv6xWo0yUd34n/K1UinmLoCoEt7rESsfSs4kQFUGOh80Uo1cfyH7fPvigZQGzAZgHeGCZQk4Alz7nU/ccx0ne6hrU6PZmNlyZ85zUulnodqjUCcyLWV+w1Yvd2EAQh5A4RLeIGlTyYgin8YWeYvIiU+NtcDnBsFKiwY9RTfljZsZXsyyZj/SvZOL/SWlzhg2G1YIxMZoL/XggrwjC5vgknzzcRzvSFvIPugl1nPRQoPHsUZ2k5rq4X6pk46OzrpbKpHX/SznbnFx4ZxToKmY4D+IxaMOjWVy0qElaJSx/ZtAD6y5ou8VWSIskr9R07xcfxDAGa2fzNxrKqqE4Fc7gC+NFa6jYoi3WXhuUPVQBD7C24iS4xD0clIEb90ln/Mj186ScfZGM0tVuob2xJ91gELxiyPS5Rk/N1souG7AEGmVjChXLFjSVYl2JdS99+Z43ixx2x99k96jI0qwIN/bBlHe8XjpTCef3AS+mYrrY31NHckYofmOn3i8dQyCZ/vwz8D5uMD9ByoR39XJZXFfp8u+aPbmJ/g9Syff0ZR55/6gWSi8eAUfyxiO6USGRsmBGj++7cSk1+bv7b0JFiJbDUkk3r7x7PX6TuX8c4ABhOGtRLUi7ys7EQGoDJ04jxmAPzYWpyE5gYLDQ0t9agIYj/oIJAZr8cjBHrtuFMvTGcTRF2ZZGp2OwsytsW5mfGn6CU3nisl2Jlspvy4BgJEUwfBWzEm3g4AGrZ/Y/Ez5ItfAAgkklYC3Moz0VU2dzVwoE4FQTvWnwaIZWwnPhXAedSde8C+FcHf5yaQkeU9NhEiAGi231PkoFTosfFz8l8y9uNWBM/hI/iA6nZL8t30y2hLaSoxPZmYcHM/371g/fh7Ll7qiUBFPQf2FHEjZl7tN38qowWrDuID7bT/fGEYFXvHg6NnkWzRegudD6gg6MCeuf6tKP6e7ox6Ls4dFZuAALZHzLQfnX27UeKfeyRIONvAXir/O54+mMVCeN5YJJ/KoqoxPWYAIjhf8aRfrN2K4v8HO658N1VI/7EhmVjwvffnErSVOmGl/5f+BWUJ9Nhxz4Bqf/PcLbzqb2xPBPD9bxCcSV0+iv8nR7Lv/3La/wq3UVEsFYa/68KqV8FFO+b/s3vBeALArSiBnkZ215ppz7xbs2DlG/NVX0qcc64DNTQ+60jrs1yDfkJTKV9c4Pgbf8eDaySUMb6F+e1VADNbF0sGWOK+oNixpKh9yUeh/fdA74K7QGJjDjoyx/FiY6aV6p+SySwTOcEoLk5EhfGxZLxzqH3h3TK3YoQGHXRfzHW0VyhemnMHqq8AYzbqa9ux96TGDm68V8MLjlspxTNPrGsB3G9kSQybD5UR834V4MP5T8EFbdr9vD1LsvqspSI06MIbyqj8937LbwH2bCX1lCvpdUY2V3ycey+jnj70YO8KAgZa62Zn8XRs3QPgwT2Sfr7EQm6O/CTHOb2M9l/5wP5En3baTvdYRj3NhHH1dBNBRX1Lw9p/vEqkWbEcGamqm3pwXDJjG+2m46c78R5J3EZeuaeLgXfDNPW62LdrGIO5gZ13qoi952P4fJgYlZg3t2LRaRKDdvKXd3/QRdN3LqNT/5mpd6BtxIdVP5tM0I/te40E9u5EQ4Txi37GN7Zhb9ET7C31nsUJjbyE42chHD3VmPeYqd4YY2LQg/9anMo9nVgWzQKsxrDbAKNBXE/VcFmn5s9TIWgdwXdwOdP3lZiPD2CdbMLZt4+aEQPmPTvRVMQIvzmMbzIGG82oWy1UZ3klWjzk5aWubkJd3VTXNmD+eiWx33vwjEaJbzTT2bjcnxSWe2w08OtWakb0if0gwuUhL8HroHrAkfZ8csFtKYPK0InrxQnMhzPWn93/UjyLuWj7Xcb2Nuixnuph4pEOfM+ZMJwy0/BwNZUzES6f9RG8Fkelb8PUalrwirRkgah/eYCJRxpxZa6frOdcz4Evh7rOhv38BI7xafwDTnxpnzqBaiyv9uOoLd30uOpeE80Vbtx9Tez+gwXLlkpi713g3KU/c/+xx7AMOvAsY7uaxuewvt6Ic9SG+TueRPuMh/Gd9UGjA1uNDcfYUlspsP/QG7FUOHFftFFb66ZKFWXyAyM9/9FTomeE9VR97GD3d3rnz7e5dmRl4IfG+XNnm4XOB5x0jLpo/M5vqd87v//Txk7adnfjupix+WW1/5Vto6IEKgx0nvGiPvwY9rNO9u1yodabeOi71VRC8vwLEZ0B1Q4rbbuXG0auwJhvaONky2X2DU0xOeTKkghTheHIIAMH9KgKGn9j+E/acYzE6e4yZIxvKvQdBxY/p0vdFxQ1lkSL25dFLLv//sspTn7XwMnMOIZq2tLG8eJippXqnxJ3zLjxH67F3F/FX0Qnmby3J3fuuSU3aMX1swnqn/VhS6mn+MeXGfYFic6o0B8w0bY7ewLuFYmX5qhpOGLHF3Iw/qkfd2965EAvoLNw4rQD8+asG1iW6l0WDNjxH66lcczCzjsh8v/68Y9/mbbn2tBfdS5jqyqMf9eFabADf18jNb9OtBfVx5cZ9oXY+pyN5lF7eh6QbKJ++n7iwDvTzfEdZhpqNPDxZTxDQWIVejpbUttFqa8zsrgX/I/W0H9f8nxLjbt/1kPz3CudKzG3WKk+68R/2EzNeQuWLSoiY8P4QmraWpoJ9LoX3EGxrPavMtB5ysHEwzZcTTUMJ+tJdX0Cz5A/0cbLmZtNlM2K35EBwAYNlqOJTi3c10H33O1sKgwdI1w846DtPjVTPhfOXieet/8CY5Od/reCnGhMvfBMvFWjeYcaroUITYGxw47lG4lPq5tepb/DTDVBvKecuC9GqX7yFBf/pxXLX+8swzP4KvQHRxg7Y6d5KwQGnDh73Yx/yUTbyyNcfLl+yTsYNE/0cKLJgJoooXem4N5O7HuL6FwqDHT+4iKDL7Zh+soUvlNOnL0exlVGmp/vZ+w/T2DJ8Y561TYrI28NYm/aClfcOHuduMfvwHSgh5Ffn6C+iEFiecdGR2vfRU7+H5sIDTlxnvISUhmoP9LPxVcz339eaFtaSNN4krGRHqzmqvn1J9SYDjgY/PdSPIu5ePtdlqp6Tvzax8kj9WwlgLvXifOUn/+qNmN9eYSxX9hyTGIkVRiwvTlG//PNGFPX31qP7TUfF0uVbHImiKPOTL+2h7H/DBKaTD7nPDnJZGgM38vNVBPGc+JcyXLmAFBhwvZ/O2jeUUls1I3zlIff8hBd/48XR2MDhuU+R68y0PkLHz0HzGjiyTY9BvUvj+E7YuFbebWVAvsPlRHb/7Rh1lUSmwwx+WkVlmMHFj++hai4B8vPvHg77iFy1pU439AnzrdfdGa8X15N/asX08/pMTAdG+Hiy1Ye2pZt/5fZ/leqjYrSqaim+ZUgwfMnse3djvpTf+K49TrxvA3VZiuOM2OEznRiLGLesqxj/q0InoO7af2wGf9/Bgmm9lnvhfCf6cRUESfY5WEulU3e468a80tj+F7rnF/ulI8pXT221y8ycmiJnEHl6AuWPZYUuS+LWW7//V07b4zYMH56DlevE/doHE1tGz1verFl9s1FxEyz65e7f0q8FSYx0R1+Z5JolQX708W95Uuz9wQXz5/Etnc+3nP5/4tqs5WekTFGjiy+/fLHSwnxqw7qH+6n+uUxgldD8+fg5CShMR89+6th0kPv+ZJGDqBr5tWBTsw6CA5UFZIVAAAgAElEQVS5cA74id61j1O/HsT62P3sXO4jTpvrOfnrfmx7Dag+8eHudTEcuYfOM2OcfOIhtj+QxzbUZnre8nGyw4R6yoer14nLN4Vur43+fx/Bakiv+5JfZ2SoNto4+esT1Cfbv/v8NJtq2+gZuciJvekT1SpDJ2+MpJ7Tw0Q0bZz89xE6920nW7r+Zbf/Kgsn3xqh55CZqmQ9OYcmUN/XhuPMxfLlZhNl9d8URVFWuxBCLC6Kp6UG20UTjrdOYinhLLtYHZGf78P0HItkxQ/i0DXiqupk5KJ1Rd83LoQQC4w50DW5Fnmjxew4Vc+JYA9m+WFv9V11oHvcBQcGmTxiWO3SiKJF8DSZsLHIG1aSx1zz7Aj+Ut1hIIRYs1bnjgwhxOfaF1WJrPi+8+GsiZciP+/FDVQ/cb9MYgghVp8qkYfCdzYjb0xSbMzFyYugqnuodHdFCSFSfJEvfgkY8+HLzMEAibumXnMD1Ty2WyIHIT4PViVHhhDi801tPoT1VADnC2YMJ/WYHrif6o3A9TAXRv2ErsUl14EQYu345mN07XHTMdBKzdlqjCYT2+9UwUwiD0dgMpbIHXN8mXkKhBBLUGN+2oo+4MTxsAFX1lw7lZh/5lpenjEhxLojExlCiJWXfA75/iEXff1+ArPJPivU6O+zYH/RSvN98g4sIcQasUFD/csX0T/iwXl6mIDPRWAGoJLq+0xYv3+Atj16KiU/ixBlo9rRyci/34/nX/pw/zowl+xTtVmPaa+d5vZmjPL4sRCfG5IjQwghhBBCCCGEEOuG5MgQQgghhBBCCCHEuiETGUIIIYQQQgghhFg3ZCJDCCGEEEIIIYQQ64ZMZAghhBBCCCGEEGLdkIkMIYQQQgghhBBCrBsykSGEEEIIIYQQQoh1QyYyhBBCCCGEEEIIsW7IRIYQQgghhBBCCCHWDZnIEEIIIYQQQgghxLohExlCCCGEEEIIIYRYN2QiQwghhBBCCCGEEOuGTGQIIYQQQgghhBBi3ZCJDCGEEEIIIYQQQqwbMpEhhBBCCCGEEEKIdUMmMoQQQgghhBBCCLFulGUiI9ilQ6fToX/aS7SQFeNBumsT67YOFrSmECsoiEOnQ6dzEFztohTjqgOdToeuxVPYeVqQKN5natBvq6P7arxs31KM6GBrgX1OnOCrjRh0BtqHImUtWy6zZdZ1resWeBuI4mnRodO14rm22mURQgghhPj8KOsdGfHRblwFXLxEBl/AOVnGAq0lUS+tOh2Oq6tdEJFVsBu9XJzkZ7G2fO0CwyNR4jMhnN4Aa3Mqo1Ahzv0sSIwYvgE/qzOVsQKkj0qQehBCCCGEWHPK/GhJBFeXh/CtPBad8XPy8/TrYjTC52XOZj2KfRK5TS66V8BibXnz/Vie0KPaaKCz3ohqJctVNnoanjNSWaGmvsmEZrWLUy7SRyVIPQghhBBCrDlfKN+mVagq4sSDDpy+Bnr2VC66dOh1B+6Z8pVmzYnFbt9fcm8DN2JRuE0uu8tu0basxvzCCKEXVrA8ZadC39JPsGW1y1Fm0kclSD0IIYQQQqw5ZbwjI46lqQ0NcbwvOgku9vP2dR99J8KAibYDpvIVaQ2JToVXuwhiEX/8ILDaRVg3pC3fnuS4Jkg9CCGEEEKsPWV9tET1363Y6lQw5eKFwVy/acUJ/pMD7wxUP/sD9lXnWOxWjPCoi44nzRh0OnQ6PTWPd+Aam0/QF+o1odPpML8aylmm0KtmdDo99ovZZ1YSSfTMuN4DYiG8Xe2YdyQSkBpq23GO5UgIGAvh7emgcZc+kYRvWw11Bx14rqYvHz1ro67WQM1hPwCuxxPbXjxxXzKhXK2LMBD/0I/z4Gw9GDAfdOD/MGOVZCLH1qEozITxHG2kZltyP7qCaY9NxEJeHAfr5j+v3Yd9IEg0yyNBiWVnvztRJ46RELEsy0YvZRyvunaco5mPbCT3bVs3QSA65qS91pCsw314Jry063TodjgI5JoMu+aldZsOXaM77ZfT/L4/XbCvjrpdehr7APzYds0fn1zJIKOXXHQ8XoM+edwbj3oI57i7aDllAsp2PHO6FsTT1U7dbHveYaa9y5u2X/m15dlkiNlzDMRCXrqfnd8X/a462rs8BBfkJkk/B9LboQHzQSeBLIenkPaaXCGvc342oXF6m0gkgdUf9hEDokE39tR28aybYCxjQ7eiBPrS+43GZ10ECsnNcitKoHf+WOl3NWIfzLGPyf1LPa77jroJpuzGksf1modW3fyxWFg3enQ6PbbzmTvL/Lrf95L6aUHnRbLO9s31EzXUHXTi/zBz6YzjUcB5mlc9ZJFvu5xftsjzVAghhBDic6qMj5YAVGL+vg3DiJ1g10n8e+2YKjIWuTZMb18EKpqxPanni2ezbGYmSPfjTThDcVSbTVgOmam8PoFnyIujKUT0jBfbDhX6ulYMPXaCP79A6Gk9+g0Z24kH8JwIQ1UnlvsWe2wgzOQlN+0n7AS+YqahyYrp48t4hnx0N/kJvzKW/qjMlIfWh234Z1Sod5hpa9Sguj6BZ8iF7bwb96EBBjsMqIDKu43c/7Ca6receINg2Gtl553J7Wz96uLVOTmJf9DGG4fP8eW9FpoPmYi85cF73kXrpTCON09iqUpfZfqDczgesePBTEOLlUpA/de6uYcmIoOtmA/7iW+sxrzXSvXGOJGxYTxHG/FcdOB71YImWY/xqw4ee9xFuEKNqcnK1uSy7mfq8Ez0M3ZkNgdCnGBXPY19YVSbDZhbrGgqYoTfHKb7aRPeA4N4jxjSH9yYifLb0600/XQCvdmC9WEVsBXjVhOa/Sp8p114Rq0YszyiFBk9jX8GzE82JPMVLOP7k6q+3sD9jVNs+oUb/5QG0/56tia/Un135hoxzvXU4T4VRW9uoK0mzsSgB/+ADfNYlJE3rSltcPllKtfxzCUy1E79sz5iVGLY24z1ThLtrK8D/x9uzm2jqLacWtYKNQZzG5Y7VcR+78HTZ8M34Mb6z4N07siokclJ/APtOI8G2FTbkHIOdLPvUpgT/9GDeWOyxvNur8nl33XT3uXM75xfRPzdCc692of9xBTGvRbaamKJdjFkp/HtKQZ/YcNQAdyK4DloxjYap9JQn+w3wvjOOtg35MdxsX/B+bzA9XN0P+LGHTfR0NjGzo8vM+wL4j5cRyCc0abm+qlKqmstWBsriX98meEhO41D/rn+Y8njuvmrmAzgDw4TmGyjWpdSnltBzg0kJhQ8l8ax15rS6jh6yYcfMO02kqjNAs+LmSCORxpxTSb72kOzddZN63e9tCXHgszjMdzTiyOv83ReYe07zuS/trO7d+l2CaU5T4UQQgghPteUMhh3aBWtVqscv6IoinJTGXfsVrRarVJ7YuL/Z++NY9u6zgTf38LFMNCgKlyMDA8qIgGpNjBtL0rHQcXYG9Hxs5h6IymuZSYLWe5EkjNj092x1PTZnKAxW2xEFZNIwUR00IjyrCV5t6a1dUW9uqanqumtY2phR3yIKw4Sk0ViMhtD7Kth7tQwCxv3/UFSIilKIiVKspLvBxiQec895zvnfN+55557zvdlpbynXPzhOkWj0ShNZyYURVGUiTNNGf9PJBtTuvc1KO2/nsi8Pdin7NZoFM3T3Uoi5zvK0CGNotGsU4799t40ue64DygajUbZPXBzRtlT5Ws01cqxrPLu+dqVKo1G0dT1KTfSZHtzRyJ9u+9OZmZ/uqH0vJSQ5/AvM69lttFcTCinX0qk1+w4plzMaoabA0mZDw0pk6VcbU/WQ6NU28eU6a2hKPfG3lSqNRpl3f7Tys37mdfu/DZR16m2SsmwW+kLZqUNjis3/5Qm7c+blHUajVJtv6Lcyco3IWt6/6TVbUOTcjqcQ9APuhPtnl6/FPfHle6nNYpmwzHlyr35lJ+LlExNyunPcl0fU9qTbbtuf58yni7U/ZuT9TnmnSpjwTIVvT/T8nzptJKuUhPuw8pz38+qV5qtFqbLU/2bfj0lq2ZHu3Ilq1PvfdijNGk0imbDYeX8H6fno9lxTLmY0S/3lCv/JTHGPHfyRlb6PPS1UJtPq3PGOJWlFzfSylDu35mUsert5Dh4tV1Zp9Eo6354MbM/708o4+NZRp5FusxH3VnjWfi00rQhWfePUxVJjlMbmpTTH2dldueK0v60RtHs7lPSc5qtX2+cfC5H/ZWkra5TvvnEugybTBaknP/7TLsqdKwY2r8u91h7/6bS95Imq8zC7TQX+ep3fno5DzsVBEEQBEEQprHIUUsAVOj/1kptCQTfeDMznGXAif1UHLRtfH9X2SxZ6LGcHMC6PSuN1oi5EoiM8btbAKWYXmhERZz+0x4yNzaHGTrpAUzs2zl3nAHD605sWeWpKuvYUw5c9xJIbheOjfThCIFqn422yqwvtiUVtLS2JfyEnBgqgsM4HdZuG8asZlC/eIiWEuDcEOezt6SXt9H1g1xf+mN4TzoIosf66vSvf6Vb93KwEvzvukkc1IkQugTwBBWPZaXV6lBP7rQJ4HrLS7ykEVurgdKsfNUvttBCnP5BL9kbz03tXbm/QG800bwRONfHUPYRGv8Qjgio6k1sUi2s/MJpofedRnTp3b5KzbP1tQC4xlJHnIooU9H6c2bKaroYfiOrXqgw7mwEwP3BQmM4pGRV0fhaG4Yss1F9o4Xvt6rhrpuec9lWY8B+woZxbaZshl17UAOBywESppmvvqblnKfNz42Z4281UpFexqpSDM0HMQLhnw7hfwDRj4PEgU06bWZ/ripDp5tlPEynyYa9Jms8Kzfz/YNqwE/vuURvp8Yp/VEb5kez8ig1sPeAAfy9uOdSjiQVW8zoAO/lsQydDVw6QxgzPzpmhrsuvNfTLsbH8A0DeiOGtVCwXQRcdI7Ec4+1q9Q0vtwCd/txjWRbUb52uhDy1cvi2akgCIIgCMIXmUU+WpJktQnLD/S4f+TF9lMfdccMqIjheTfxMlN7uDHn1t65eWRaYAmVwYylvJ/Oc30MvVJLY2rSHnDT6wfVvsaMLb4zofrSIzl+LaNMC0TgXvIc87jfDYDZuCn3sYCNT1Fb0onD78UfbUSd5/tJbtZQmmt3+yotm7YDw15CESB9Mv3tp3K37YNxxoYTf479vJNc72jhOBAJEo6BrlSHcZ8KZ58T2z+U0/E9M/ryHDWO/A5fBCgP4zneyXSXmTGC5YA/SAQTusnfjRifnGnrfgXGPXq47mfocpjGR1MvbnF8v+wnjpq27ySPCcy7/PnxSK4t6WvWJKRLHdkvpkxF68/ZCpmBYo0Wk7KaMT6Z+zCNbkstqi4H/kt+og1qpsxGlVuOr5ahBcL376VyyE9f08jX5uemlK/kWChh7QY2lYM3EuRGFPRPGtHjxfd6K51lHbQYK6a9zM/Jqlwyg05vApyEPwwTQzc5TuE/Q+dEjhs+vQeECX6cp3Jon+DZcggM+xj7iQljchHx4pkwNBgxVcWppZ/+X/uxbtYDEB/10g/oag2JI2AF2sWXP/ARBtSfenB05XDGGwuiBvyfRCDLivKy0wWRp14uhZ0KgiAIgiB8AViahQyg4oVXaemtx9n3Jq69g5hvO7APx0Fvw2LKf7YWjwYJfBjhxr+OEfm3GOPZH4dX6ah9WU/na356hwM0HkpMaAO/OUM4/YW3KEQJJ8tX/eVMuZZT/iRwKUQ4CixoIWMmSlmTXLwIfhyFzXkUEg0nHfX5cXfP5GQ0HRWGHwxi/X0D9kEb9YO2xJn2vzmE5QUjFakuvBVKvJBEvPR3e2fObq6z/1mod+7D9Jofz7tuAi8mz7Tf9tDfFwd9M7UbF7f8BbEUMhXcn3nwIE44MEbk4yC+YBQ+fb84+U7KquIrM5nNX5djALwfhpmf2eSpr0tKalEkueC4uZGutwMcPOLC8bIJBwnfFc3NLZjzseHZSI3ssTvE08Yp/1kHxdEOHdteVNP5Rj/eUSvGKhUELnImAo3bDahK4zxbA+5fXSHwAz26VRDwuQAd5i1Jj84F2kUqklB4pB/HyMzJ595vt4wshp0KgiAIgiB8AVmyhQxUeixHaun/nhv7gAvVH5yEUdNy1ExFHl8ho5cdHD3iwHtr7s9n6p37qe04iPunLnz7bRjw4fppGPS2qRfezyuFftGttOM9Zc5v8l+io+Wkn8aIn6EzfbgGPbg7mnH/k266Y8amAUKvGgoUZhZWm2jcp8LT52DIb0G3GaIjQ3hId/KZRrHLLwZLIVMh/TkTsQCuN17DfspfhOM3y0gh+rqkqFAl7VS9086wyUrQO8TA4ABDF5xYLzix7+zC/VZtkR0+GvJzIJonuq17UL/RicsXwFalJ3jtPGFqMehVgArDdhMMn+HihxZ0ugBXfhWH8md5QpuVUZ52kXrtbzkVwlpZnDosG8WwU0EQBEEQhC8wS+AjY4pSkwWrHuJ9VqznQFVjxZLHy0T0bDNV3+3E91UT1reG8V7zE/goRCg0ir0qxw2rTez/WzXc7af/QozYhX76787wwrsgylAnJ+XxP820wBIhchVAu8BjJbMRJfx7ABXrH8uzkLVfZ30JMBogVODWalW5HnNrF4PvBRh9t5GKuwEcHa6ED5BH12MEuBrMGZpx/qgwfMeCmjj9v/QRJ8z5n3kBE89uTfu8vmjlL4ClkGkB/ZlB3E9nfQ3WUyHW77czcGEU//UQoVCI0OmW4shapibxTT7OnZlk/SyS+Fr/uHrBm5hm1dclJTUWGKhIX0xYVUrF9kZs73jw+4exbVcRO3eU3hnjDc/N5HhUvoZSyvj6RhXgI7Ag5chC9xSmEoj/6goBgvh+HoCaZyd9npRufRYTYc5cCkzu1lC/uG3q0EeBdlH+uBGAKx89NJZdOMWyU0EQBEEQhC84S7qQwaoKzEdbkosJeqzfMzH3Du8g5096iWOio6+Llhod6tWlk180Z0JX04we8Jx14DjrgZJGGquLv598vT7pMM47Rs556fUruO8CeiP6xVrIuO3j/AhQYsaQt9MHHYZ6FeDCOzr/GXXZ9rrEy4g/wh8AyvQY9cD1IXwL9QmZjW4be8oh3ufCe2kGnyeLWf58WRKZitOf8dEhHCFQt55i4KgZg7aM0lz+HhbCqvVsqgFw4b2aW9bAe27igL5KX9TTWNP0dSnJZywo1fFstQGIE7413/0wcca8LgBMTyZ89+ieNKMCXCO+3OPUfFil59kGFUR8/G7Eh+s61FYbpsb01QaMVRD2vI/3Ax9h1OzZmjZAFWgXZZuM6IGA20cwb38lDxvFsVNBEARBEIQvOku7kAGoNrfhfMuK9d0uGrO3GM9KnHtZ877o5X5cV2dI/mgd+3YCl5w4L4H6b80YFmEneen2fVi0EO+z0Tma9eJxN4izq5MwKmqbsnaDqBLCBD9Ount7ECc+5+TcS+9/9RFLT/cgjOvIUTxAxcFC6qjCsMdCBXH6Dx3ElR0N5EGMwKCdzkupOsUJDDpxB7Lq+NH7vA+wcz2J7lRT11SLCj+2A3Z82e9i8TC+bhv983mhT/o/AQ+uk4kXI8s0nyfFKf+RLwH4Er4MIM/+mYlFbJNJCu3POfi3eOYLbyyA68wMfgwK1uVSjN9NyvrjzmntEf/IyZtdYSipZX8eEYZyk6++Lgb9dP8sa79HzIf9+1ljQcSL85SPaIY9xxj/wAeo2fR4Hks4vxnCm+UxMjbaia0vnrF4qzKYE+PUqYMczJYNiF13Ye/KipqTR7/q/69GVPhwvTNEABPbMkLQlLFtpxGuD9E96IMSE09lLLQWaBeP1rG/RgV+G5Z/zBoHgXjEh+O1/uIvcsxrrJ4xs+LaqSAIgiAIwheUpfORMYmKipqW5NbyfKjA8B09XPdifa4e366nUBNm7JKXsdUt2Jp0+Ltz3ZcMxXqunzh6mmsWGp9iBlR62k7YGf+2FWdDJUObTdRVqlHdHsd11kv0rgrdoVN07MzcDZL4QtqP90g1poFy/iIaIvRkF6NvzbZLRQ2/aaZyWIdpZ6Idrpx1478Nqu12nC8XWEedBecb49S+4sH6jJ7e6jpM3ygl/ukVhjz+hOz7jbRUGSiNeun5kR333U7ak3Xk0yu4zvqJlehoa5qSu3RnB6c+DNLQ7WTvliH0pjqe+pqK2Ecehi4EiVGKaW0zZq26YMerCaefrXgu+Wb0ebLw8svQV+lhxI/zpUquaMv4cyQAzcN4DsxPjxazTSYppD9nyEL1pJHGkn76exqo+r0Z87pSYh9d5PzlP7Pt2B7Mg3Zc2cXOQ5dV+jacPxnHdCSrPf7VhWskSrxEh+WfO/KKMJSTAvS1+KiJnDCiP2Gi7tsVlE6OBVCxPzUWxAkMv4n9jQD2rgpMO01UrI4xPujCeytO6c42zHn489E9Fsb+TCXdpjqe+hqER4fwXEu1n3VqYXOVDsuJLsafb8Xzappsd8NcOefBfyuOSteCsdk4eTQkr37daMRc4qTf74edXRiz+qvsSSN6bPj9oNr/LPrscKMF2UUppvZTWEINOHr2UjmsT4yDJTGCvxrCE4rBahNlzWYqHi3eqvX8xurZMly4nQqCIAiCIHzRWfIdGfOhouEdBlpNVODHfcJB/6UoFd89waX/ZsH8H56a8cVP9fimxDbynfuoe3SGRMWg3Ezve8N0HTJRHvHg7HbgODtO2dYW7KcvMdyqnyajaquVwaOJl5fg9RDRcjO2l+eauGpp7rlE739aQ+CsA8cJNwGVntqjA1x6xzwvx4DqXce5dKEX6671cLUfR7cDp/f/UGGy0DU8yvDRpExlJrre89DbaqQsWUenJ4J2l5WBfxnGok+voQp96zCXTttp2VpGxOPE0e3A9cFfYGiwMfCen+P183xhX23C3JD4U7/LOIPPk4WXr36xi+MNesqIErgegSfbsO1ayGLYIrZJutz59udMlBix/g87jZtLiY304zjh4n2epeP/cWOvr0OfwyfN/HQZ1PW9jA53YTGVT7XHeBnG/XYG/2V4Yc44C9LXYmPENjiMtXKC8yccOE55if+1iZa3PLiPpsYCFboDw4yettG4HnynHDi6+xn7SyMtbw1z6a3aPI7UqNhQ34X7f7SxITyEs9uJOwC6ZB2ntV95Lcd/46H3aC3r8dHf7cBxwsv/qTBheWuY0V9YSd9QkVe/qjZh3JX401RtnN7njxqp0ydkNW/NZT8F2kWJnrZfXGLwJy0YvxrBc8KBo9vFmMpA448HGP1fxzEXcREj73YokAXb6YohiqtJi1ab499mE3tf6cR1LVcQWmG5iQ42o9VqaR5cyf0zpX/2a4tYzC03rVt06Go68d9dxHLmTaodmnHdyvOWZa+TH7u2QJmFxeGaPTFmdzwkkbZuuWjWatFq7UWKwrYyifsd1G/Wov+em/CKPW5bBJTPMTcHdisazTrl2G/vLbcoC2RCOf2SRtFompTTny23LIIg5GZMaddoFI2mXRlbblEE4aEg9ezSKFX7jylvdr6Z/NeuHN5XrXxTk7hW/X+fV27eX25Zv3iMda5TNC+dViZyXJs406RoNBql6UyuqyuFKf1rv7qwnPJpK41GoxzzPozzzcLnkMtfp9TzdHHnvbP16xeKsTeVdTO19dX2hC7YH5KZzWenlaZizLVmq/MKYMyuSdrobqXv4wVmNjGkNBVhnFwOluFoyRIR99Hb4YfyNsyL4RxDEARBEIS80FZbaKtP32dkhVtebPua6R88SMtj8z+6J8yHGBOfiMPZ/Ji9rcq2mjHrfJxXWah78vMx3/w81mk6YgMpYp+Fi+cIfIWw0uusq7ViGOwkuHUfxvK5089KNEwICnD78PDwuV3ISIVc1R+tRTePIxeCIAiCICwia41Y21vwvuAkeHwI/8u6aX5UhMXiDneisODzjF8I5mirtSbswwHsSynSYvN5rNM0xAZS3Il98RpipddZpWth4FpLcTKLxZjuBn5lsCJ8ZBTMgwD9b3sWGPVAEARBEITFRLXRkPBldTfIjZXsjmHF8QdCo8stw0pB2urzifRrij987FtuEZacL2KdZyIaCS63CPPm87mQsUqH5UKI0PWu+Uc9eKgow3wiRCjUi3ntcssiCEJu9FhDIUIhK/rlFkUQVgqqr0z7JpZwNKmj0w9EfTgOmNBrtWi1OvYOZn43igXc2A/UULkx4dRRX70X2yl/ZljjVL6XnbS+UIkumVflC604L+dYPXkQxdfTyt5qfcLJ3cZKag448E7bhp50SPiymyhxgoM26rfoks5M7fjfd2DUatE1uGb82hX3d2LSatH9yDe1zTnv8oFYAHfHQUybp5yoHuxwkx15Ol1m5/M1VG6sxwlwyUrlpBPWGRwrZpWhrz6IY3SGVadk2prJdjCx97V+/HMuUiUdUm7sxA9ERx0cnKz/XlyRtKSFtM9MPIgRHHHS+t0p3ap8oRVnRr3ybKs5nA9GL/djm9ThhI629ngJTuujhD7pjniIkaWvGyupf81FMIfjzbz1OknCZlLy6DEdcODLTj5DnRK2acL5EXA3jLc7Uy/sIznCe2eUl0w3HJgWQns2YgEXtu9myTyDE9Do5ax+rTmIYyT9GMHc/erv0KHV6rBeyGFIqbapdpLr9S9xrxHH9YwKFGQX+Y5rGf1RiJ2mZO2poWaLjvoeAC/WLVMOmXM6+k3aXmqc022pxzYYzH1EY6F2+iBGYNg+NQ4kx7bpdjNFLOTF+creyTbQbamntSczzH3edc5rjMjNfOwkUYEA7q6p9k20mT23U+yUE9YmF1NXk+NoUjfnsvXoOSs11Xoqj3gBcL6Q5pA73blrVr9rN1ZS/4pzRhtcSj63R0sEQRAEQXjIuXUj+TJQyldK0i/Eifr7ad5nZ1xnwnzIhApY/+TULsvwYDOmI17iqysw7bJQsTpOeHQI12v1uC7Z8aRF85pKq6e2yTwZttf+XTfen3gZqE/me9eP/fl6nCEVZZtNtBxSo7odxHOuk+Zn3EdScfwAACAASURBVLScdmPNjgg0EeR8hwPbIJh2tmBZDazZhvaJv6JZ34lt9DjugBnLNBcgccbcToKoafuOIbGgU0j5d/3Y65NptzdiWZcM43uqlZrBcQbeSwvBPEk5Ff9xG+b/vQZ3n5dwuZHG59cno+SU8fWSzNTxD/s52OHA91UTdQ0WjJ9ewXXWQ2eDl+Dbo3Slh5aPuGj+thXv3VIqqs1Y6pPynLVRf9aL/Ve9mOc6y303yvt9zTT84zg6kxnLt1XAegyp++bTP9PK8NP5QgOOQBzVWiPmQ6ZkmGw39oYA0ck8Cmur6cTxd9RS3xOE1RWYGpI6+p4Ld0cz7p+a6PrFcWqz2iT+4ThDXd3YT0TRmepoqYwnQnOfsmIajTL8K8vkkem89TopT+i/H6Sq28ea6joaDxkTslzoZO/lIMf/Z74f/4KELruw/szK+dJazGl64XzZS/AnHnqT5cav2dnzgpNgSRnGBgvrkzbaf7gG1/gAo0cNc2zuT8p8YgytqY7GQ4ZEuO0Lney9PJalU1PtrVqrx9RkmWyPzpeNuPcPJiOHzd2vuq1mVD39uC6PYas2ZsgYvezBCxAawhdqoUKbdvGBn/On4lBi4qmUvRdoF4WMa1P90c/B47b87DSN8m/Usa0+wppf9OONqDHuq2V9MmnZY1k9c/s8nc/34/yjDtPOFp6KJ0LL9x8x4Ytm+ThaqJ0+COM+XEvruVjSdhoTkcN+dQzTqXgOnYnj76qnoTtAvKQM4y4LpmRIe3fHXgL/3+Bk1Li86pz3GDEb+dsJkKYnyTarV6O6PY7rrBPrhX76D51iMEcUzJyEQnhPHcTx2uy2XvqYgW3fLqPiPQduP+h3WXjqa8k81v/VZF+4DpiwjsQp1dcm5QriOWdn71kv9ksDc4/ri8lyexsVBEEQBOHzyFTUiNzRL+4pY/bqhOf1Q0PKndRdkxET1ilNZ27mzPne2JtKtUajrNt/elrEkzu/bVeqNBpl90Dy3vtjSvsGjaLZcEy5+KcsCT8YVyYm759QhvavUzSaaqXddycz4f2bSt9LiTyuTAZxSEVW0CiaHe3KWFbeiqIod9wHElFb3h6ffvGPQ8oBjUbR7O5Tbs6j/FQ77T55I6vQG8r4x3NEmkh5/p8zEke1cuzXmSnu+RLtq6nrUyZLvjemvLlDo2g2NCmnsz3o37mitD+dXs9cTOmKZkOTcjqcO01h/TND1JJ7Y0r3vgalPateSrBP2a3RKJqnu5WM3pqjrWaKojDx8yZl3Qw6OvHrY4k23NGtjE9em9Kndfv7lPH0Kt6/OVmXySgiBej1ZNvuOKZczIjScE+58l+qFI1GozyXrkcz1SldL7xZrfFxX/KeA8rQH9PL3a30BTOT3gmOKzdz2MsUaW1h7lbGMrp7atxYZ7uipLo71d7V9ivKnaz2vjnQND2K4Wz9eu+ickyjUTQb2pWxjLzuKEOHNIrmiW8q30wfY1KMdytVGo2yLhXho0C7KGhcU+ZhpzmZI6pNKmqJZp3SdHI8s23DKT05plxMs7vC7DSHRMl6rdvfp9zI0JN7yo2TiX7O1M17ytjxBqXBfjFN7xVFuX9D6dutUTSaKqU7w6jnqHOhY8QM8udnJ8qUnuRqsz/dUHpeSrT/4V+mXUv1S4b+zsPWlakIKDmjllxtT4xjP7yoZHTZ/QllfHz54/18Po+WCIIgCILw0BKPBvF2NdDQE4QSI/YjtUz7Zrizg676XH6uYnhPOgiix/pq9tdJKN26l4OV4H/XTQAgeiOxJf/f69BmfUUv26ijLHV/wEXnSBzVPhttlVnSrFLT+HIL3O3HNZK9t1lN25tW9Dm+0JdWm2kEwj914cvaUR0dGcID6HcZUc+j/EgwsR34iW9k+ZovrUD3aHGc2Bled2LbXpbxm6qyjj3lwHUvgeQ25dhIH44Q6I/aMD+alUmpgb0HDODvxR2Yu0xTe1fuL3zz7p8sVHosJwewZtULrRFzJRAZ43cL3jIdwPWWl/gMOlq2vY22nUDIgStbMWih951GdOlVXKXm2fpaAFxjyUbMV68nMWA/YcOYcURZhWHXHtRA4HKAfN3U6F51YKvKar9HGzm0XwV4GBqJAhFClwCeoOKxzKSlWh3qOXe0JGS2vWlBn9HdKvQH26gF4n0uvDGYbO+SRmytBkqz6q5+sYUW4vQPeplDO5JFGDA2AHc9XPkw7ffbXs6fA91//hFtG8E/4stos+C184RRYd6a2J1QmF0UOK6lt1Kedrogmnrp3afLbNvyZzHXALhIqeXC7TSA620voMd6pJGKDD1RUVFtwjDtHhX6AwMMHDVm6v2qCoz1BiDMWCGNUKQxIj87mdKTnG1WUkFLaxtq4rhPDOXplLN4th79OHF0aJNOm7kbZFUZOl3ZDHctHXK0RBAEQRCERcV7pBLtkem/q3Rm7G/acr64GqsM0xc3AB6MMzac+HPs5505J2ThOBAJEo6Bbq0Box68ozZau9bQ8TdGKnJsoQ9/4CMMqD/14OjK4QguFkQN+D+JAOnnREw8tTGXoIDKgGmfiv4+F56rVgxbU1PBMOd/5gVM7Es6JS+0fN3WRlQ9/Thfs1LefhCzXo2qyFFfVF96JMevZZRpgQjcS549H/e7E3/4z9A5keOWT+8BYYIfx8h8Q8/GiPHJ3Nfn3z/58kjxghhEfocvAmysw5D9AgtAKYZnjHDOi+tqANvWTM9Kj+Tox9I1awCIp9Y98tTrKVS5Z/1fLUMLhO/fm6NSU6wp/UrO37X/3gS48QYTfWDcp8LZ58T2D+V0fM+MvrzQBp5B5lIdhkpwj/oJRsBUmmzv8jCe451M144YwXLAHySCKQ/tULGpshZOuTl/LYhFl1gsjPku4kGHbUstT/ypE97wcPGWOem/Lojv5wGgEWMyZG1BdvF4geNampnka6cLYlWuMkpZsxYgTjxZxoLtNN12tNMvF8ojXypmZJLCxoj87KRsUk/Mxk25s9/4FLUlnTj8XvzRRtRzrh8Uz9bLnjSix4vv9VY6yzpoMVZMWyhcTmQhQxAEQRCERUW9vZHadVMz71L1Jp7Qb0Kvne2ldgai4aRfDT/u7lzuFaeVTuNbxwkcaMXV3YypG0q1Jswv76dll37yC17Ki314pB/HyGy5FYIKw3csqPs66T/toW1rcufJdTe9flDta5z0S1Bo+aqtVgaPBmnocGF7wYWtpAy9qYVDB8wY59Ou8yZKOJT4y3/WkdPhZTFYjP6JR4MEPoxw41/HiPxbjPHQwmSc5FYo8TL9VRW5X2WgTF0BeIl/MkEMci/azUp+er2UpBZb+OgGUfQYfjCI9fcN2Adt1A/aEr4r/uYQlheMVCxIRVMvlGFid4G7yfaOeOnv9s58WwFn+Uu3Pkstbtw/9xHcV0EFMXwX3LDRhkELFVV7UL/RifdqDHNNKdwaw3sdaDAmfdMUaBcFj2sPJwu20zxsZ1biUYLXg0Q+HmcsHCP2rwsz6sUYIzLtpHxST1R/OdMqSTnlTwKXQoSjwFJuhHi0ka63Axw84sLxsgkHCV8vzc0tmDfLjgxBEARBED7naKsttNUXedJTacd7ypzfi2u5CftwAGvIy9BJFwPnPDiPeHB2THe42HIqhLWyiHJurE04/Tw3xPlXazGvBf8vHYTTnXymkX/5KnT7B/DvC+MfPkPfGRees3aaz3aiK8QxXNEwLInjt2L0T/Syg6NHHHhvFRDp5GGkAL1eUlI7BEp0tJz00xjxM3SmD9egJ+Ho9J90WP55kLY5HSYWSNMAoVenHzyYF6UGtu0E9zkvY7caqVg9hm8Y1K88QQXA49vYU95J54iPWI0Jxnx4gdrK7K/qedpF6qhCIePaQ0zRx9G5uOXD8VorjpFo7igqBbIkY0TOnTQPH+qddoZNVoLeIQYGBxi64MR6wYl9Zxfut2qnHYNaSsRHhiAIgiAIK4e1X2d9CTAaIFTgHLNUa6Txx8fx/C8/w8eMqG57ONqbCH1a/rgRgCsf5QqquBDU1H3XBHhxjYQh7mPoVBzK97AtbWf1vMtXqdHXt9F1epTAe700auMEul/H9UnxajA7ZXx9owrwESi0QwqgWP0TPdtM1Xc78X3VhPWtYbzX/AQ+ChEKjWKvKoakwFpt4hz/H+PcmUmOcKIeqkfXzGM3Riaz6fVSMlmndeqMj8aqcj3m1i4G3wsw+m4jFXcDODpmDks8N3eI/xFAR/lq4NH1GAGuBnOGRJ0fpRiqjIAX31iM+KiXftTsqUoa7Sod2/aoYfg8vlhytwa1PLs11ZsF2sUCxrWHiQXbaUlpYhEnDnkfgLjlpnnHXjp9ZZiOdjH8Gz/+QIhQKMToT4wFi7DYY0SmnZShTh6hif9ppo6PELkKoM3jWMkisaqUiu2N2N7x4PcPY9uuInbuKL3TfPwsLbKQIQiCIAjCCkKHoV4FuPCOznMStaoUXdJpXPyTMDGgbJMRPRBw+wgW40x5GqVbn8VEwlGfd8RF/13Qv1w7GUaTYpW/1kjdMwB+IsVw8JcnuifNqADXyOK9PBenf4KcP+kljomOvi5aanSoV5cW3bcI5RsSIWOvD+HLuaAUw/cbL6DC/OR8/HnMQA69Xjryq1PZ9rrEooM/wh/mW9QnPoauA+XP8sRjQJkeo55EexfreBBQttWEEXD7x/CN9E9bfNRVmlDhxnd1LOHfYuc2DGmrUoXZRRHGtYeABdupNrkoNerFfzvH9ftMa8vghR68d8HUfoqu/bXoHi2ldN6bfRZ7jJhuJ+v1SUe+3rHcenL9Cu67gN6IfvlPc0CpjmerDUCc8K2lHWWykYUMQRAEQRBWECoMeyxUEKf/0MHpOw8exAgM2um8lJxgPQjj7enHl+VlPjYewAeoN21IfD1+tI79NSrw27D8o49Y1iQ8HvHheK1/fpPz1SYa96kgMkb/oJt0J5+TFFh+/LoL53AgM92DIO9fAzCxfjZHeSnHfVdDRFL3x+f/8qQymLFoIX7qIAd/Nv07e+y6C3tXnhEjZqKo/RPnXnYUmcv9uK7mSDqvttJhPmxEhR/76y7CWTJFRzrpPAdoLZgN83zjylevFwHvu058WZ0Z/lkrRzPqFCcw6MQdyEr40fu8D7BzPXP7cvThuRDMfLl7EMb1uh0/6YuBauqaalHhx3bAPk024mF83Tb60xc58unXtdswVQFXu+k+C+o92zLdU+qfpbEEXO90c4XpDooLs4sCx7Ui8siXAHyEIqmyppx3FsxC7TTpIBk8OH7qz+z7WID+H9tyOHNN5p3df7d89J/JnXruOhcwRsxAfnYCpdv3JfSkz0bnaNYNd4M4uzoJo6K2qW5xjhypEnIEP06ufqe3RcSL85SPaMZzJsb4Bz5AzabHl3dlRXxkCIIgCIKwstBZcL4xTu0rHqzP6OmtrsP0jVLin15hyOMneleFbr+RlioDqoCbNzs6CXR0UpFMF/tXF66RKPHVJtrqU68mpZjaT2EJNeDo2UvlsB7TzqdQl8QI/moITygGq02UNZupKDi86ZTTT++lTCefUxRSfgxvrw37cJzOjmQ6wlw568Z/W4WudX+O/NNIfsH2+p00PH0FbdmfiVyHlmEPlvlsEFilw3Kii/HnW/G8akR/wkTdtysovRvmyjkP/ltxVLoWjM3GjC/WhVGM/qnA8B09XPdifa4e365Eu41d8jK2ugVbkw5/d9Yt82yrsl3HOfVhLfU9Vozf6sW000TF6jjh91y4/QlZu05YMnblFEI8b70uPmq8NG8ZQmeq46mvMVWnEiP2VJ2iXnp+ZMd9t5P2zSbqKtXw6RVcZ/3ESnS0NZnyOFJjgMu1VA4YE/p0O4jnnIfgbSjd2UXXi1OvdaU7Ozj1YZCGbid7twyhN9Xx1NdUxD7yMHQhSIxSTGubMWvVCR8WefVrGYbtenjNjx81bVVZbbpKh7FehbPPTwAjjVvLpl0vyC4KGNeK5863DH2VHkb8OF+q5Iq2jD9HAtA8jOfAfHRooXaqwvC3HRgHW/H21FP5m0SbqT69wpAnwPpXrTSO2OhPu6Niixk9NrxHqqkfNSd08v/14h37Mi2vtqC75iiozgWPETOQl50AqPS0nbAz/m0rzoZKhpL2oro9juusN9Hvh07RsXNxnDgndg714z1SjWmgnL+Ihgg92cXoW0Yiw29ifyOAvasiOYbFGB904b0Vp3RnG+aZInYtFYogCIIgCELRmVBOv6RRNBqN0nRmIv+7zjTlfc+d4EWl5/sNSvUTiXI0T1QrDd9/Uxkav5OZ8LMxpe+HmekO2IeU7GSKoijK/Qll7Ey7cuC5bynrNBpFo1mnfOu5A8qxgSvKxP30hGNKu0ajaDTtylheNbuh9NUl8jv223szJ8u3/Pt3lBu/7s5MZz6s9Pw2z7YOn1eOmZP3PlGtHHh7Kv/Z+yDVr03K6c+yLt25oVx897DSsOObiXbWfFOp3ndYedM9rty5nyOrfPLMJu/+mdK/9quZ9195+8CkLnxzR4NybGAsce/VdmVdLhlmaSvls9NK0yx6MPHbPuXY31Ur39RMlXf43YvKjWm6N4c+XW1PtKk97Wpeej1H26bkf+m0MpH9W5YsU3pxU5n4bbdyINXPG76l7P5+j3IlW13u3FAuvn1Aee6pdZnp5urjVFvs6FFuTOuvA0r7LPo0cfW00v53zynf2pBIv+6p55QDP+zLXeZs/Zoi2Kc8p9Eomqe7lfEcZd777bHE/bv7lJszVadAu8h3XJu3nWZz/6Zy/oe7k232TaX677qn2iuX3qUxZs9hY4pSgJ3OwMQVpef7KZnWKd8yH1NOj99RFGVCGdqfQzd9afr4RLXS8MM+ZWxCUZT7Y0r7hhxtNFud5zNGpMtSqJ2kuDOuDHUeVnan2ctzf9eunL6a44ZUv6Tb7XxsXVEURbmnjL+bqm96WydzvdqnHNuXPobNboNLyb9TFEVZyoUTf4eW+h4w/mSU3mJ7MF8xRHEfruHoSBkti+G1WRAEQRAEQRCKSHSwmcoj3i/4HF4QZkfsZOlYoT4yorhf1qLtWKFxlm9dZGg4SvxuAId74Y6x/F06tE0ultCvlyAIgiAIgiAIgiAsCyt2ISP84XLLsADWbsP8og7Vaj1ttdNjyBdGjIlPVq53Y0EQBEEQBEEQBEEohJXp7PPBHWKRuZM9vJRhen2YwOvFyOsOd6KwwNUQQRAEQRAEQRAEQVgRrMyFjGiY4HLL8NDwB0KjQNVyyyEIgiAIgiB8Ximr7yVUv9xSCMLDjdjJ0rF4R0tu+XC+Uk/lRi1arY7KF1pxjka5N1P6B1H8g3YO1lSi02rRavWYDthxf5R2bCLqwfq8Cf0WK16Annq0Wm3yXyKmdEH55SSKq0mLttpJEIh/4sVxwIQ+LQ9vdmzn1J2X+7FNptWir95La4+X4LSQz8kytFrs19J+vmZHq9VhvRCDB1F8Pa3Ub9Gh1WrRbanHNpgeS9uP8/kaKjfW4wS4ZKVysi2acaXFFY8F3Ngz5DqIPTv2vCAIgiAIgiAIgiCsABZlR0b8Wif1LzkI3FVRtrmWlmTsaOf+Kqa90wNE3Bx8vhXPbSjV19J4KBVr2knr5SD3ftWLuRwoVWOoMlFW8WUcZ/2gr8WyJRVDej1/VWh+sxEK4R20cubIeb68y0zjIWMi/u8FJ82Xg9gz8ojj76ilvicIqyswNVimYoV3NOP+qYmuXxyndq4yk3n9bnyIzrftOP+ow7SzhafiiTjC/UdM+KKpuM7lVPzHbZj/9xrcfV7C5UYan1+fjCtdxtdLUn1hZ88LToIlZRgbLKxfHSc8OkT/4Rpc4wOMHl2ojw5BEARBEARBEARBWEKKHtD13pjS/rRG0WiqlWPerLi3ExeVYztyxJT/bEg5XHdY6cuKj3zPm4zN/PfnlYwrc8Q0Lji/TCEn445rdhxTLmZV4eZAIjaw5tDQZB4TP29S1mk0yrr9p5WbWTF1J359TKnSaBTNjvT40zPENk/VS7NOaTqZFZ83nIrpfUy5mB5+fsaYwOnl7Fb6gplX7gTHlZt/mrERBEEQBEEQBEEQBOGhpOhHS2IjfTgjoGqwYq3Kip1bZqTumRw3ra2l6xddNOpKM35WbTXRCDA8RqgQIYqSnw5rtw1jVhXULx6ipQQ4N8T5WwABXG95iaPH+qoZ9arM9GXb22jbCYQcuHx5Rhdp6qV3n47S9LzKn8VcA+BiLJBfNhAhdAngCSoey7xSqtWhLsk3H0EQBEEQBEEQBEF4OCj6Qsa43w2AeXsRjiysemTB8sw/vzWUlub4eZWWTdsBvIQiQOR3+CLAxjoMj+bKpxTDM0YgjutqnisQOeUsZc1agDjxvH1b6DDuUwFObP/Qjz8iYVoFQRAEQRAEQRCElU2RfWRECSe3Oqj+cn7LGPFPAoyFgwSvBokS5v0FSlTs/KYWFCD4cRQI4QP4qoqvzHBHmboC8BL/ZIIYkGt9ZHFQYfjBINbfN2AftFE/aEO1Vo/pbw5hecFIxdIJIgiCIAiCIAiCIAhF4eEIv/ogRuBsJ6919OO//RDmNxOr5k6y7JToaDnppzHiZ+hMH65BT8IB6T/psPzzIG2bxdWnIAiCIAiCIAiCsHIo8tESFV9JfeW/n+89cfz/tIeaI/2E1rdgP+lh9FqAUChEKDRIS8EyFDu/bKKEfw+gYv1jZbBWiwHgj3HuzHRHOAiA6tE1S7gbIxNVuR5zaxeD7wUYfbeRirsBHB0uwsskjyAIgiAIgiAIgiDMhyIvZJSi3aQDwHMttz+Ie9n+HeI+hrqDUN7GqRNWzFsrKFu9gF0Cxc4vm9s+zo8AJWYMOqB8A4Zy4PoQvk9y3RDD9xsvoML8pK54ciyAsu11GAH8Ef6w3MIIgiAIgiAIgiAIQgEU3dlnRZUZPRD+6Zu4IpnXoiM2bCdmujNGPH0Xx4MYgUEX3lxJV6kSjkQ/ukE0+VN8mh/LAvLLiZfe/+ojlr7w8iCM68hRPEDFQTMGFYAO82EjKvzYX3cRzlqoiY500nkO0FowGxbhGEfKMejVEJFU2ZONEScw6MQdiGXe89H7CV8hO9ejLb5EgiAIgiAIgiAIgrBoFN9HxqNmXj00QH23F+u3K3GZ6njqa3GCvxrCgxn7UQPWDt9UepUBY4OK/lNOGp4JYq5fT+ntIBdHvPx5q4099S7sg1ll6AyYSxz0X7JSXd1PuSpK6GMDXf+zC9PqeeSXEzX8ppnKYR2mnU+hJsyVs278t0G13Y7z5andFWW7jnPqw1rqe6wYv9WLaaeJitVxwu+5cPtjsNpE1wkLusXwqVGmx6gHr99Jw9NX0Jb9mch1aBn2YCnz0vMjO+67nbRvNlFXqYZPr+A66ydWoqOtybRsR10EQRAEQRAEQRAEYT4UfUcGqNC3uvG81YLpr+P4zzpxnPJB7XFGf2XFvHlTVlhWFcajbuwNekpjXvq7nbj88OyPPbh/YqbuSWOOIgxY/5sVk7aUWChA6I/lmI/tx1A6z/xyoqW55xK9/2kNgbMOHCfcBFR6ao8OcOkdM+qMRQkV+qMeRk/aaHwSfKccOLqdeGPrqT3ai+c3x6ktn19rzo2axreO07i5DG4FCETA0GrD/DhQZqLrPQ+9rUbKIh6c3Q6cngjaXVYG/mUYi14cfQqCIAiCIAiCIAgri3+nKIqy3EI8XERxNVVivWTE/l4v5rXLLY8gCIIgCIIgCIIgCCkWYUeGIAiCIAiCIAiCIAjC4iALGYIgCIIgCIIgCIIgrBhkIUMQBEEQBEEQBEEQhBWD+MgQBEEQBEEQBEEQBGHFIDsyBEEQBEEQBEEQBEFYMchChiAIgiAIgiAIgiAIKwZZyBAEQRAEQRAEQRAEYcUgCxmCIAiCIAiCIAiCIKwYZCFDEARBEARBEARBEIQVgyxkCIIgCIIgCIIgCIKwYpCFDEEQBEEQBEEQBEEQVgyykCEIgiAIgiAIgiAIwopBFjIEQRAEQRAEQRAEQVgxyEKGIAiCIAiCIAiCIAgrBlnIEARBEARBEARBEARhxSALGYIgCIIgCIIgCIIgrBhkIUMQBEEQBEEQBEEQhBWDLGQIgiAIgiAIgiAIgrBikIWMLwRx/B017D0RIL7cojysxIO4j9Rgu7TwFopfs1PzXScBaeyHiyL2sSAIwsokiuvlGqwXosstyOecOMGzVmpe88q8SxAEYZFYlIUMf4cWrXbuf82DK/lBGsV9uBLdxho6rz3kj6mQi9d7AkQmHnI550nc76B+sxb999yEH8wzky/9mbA/QP9rTgL55hFwUrNRh+1yWrs+COLqcBL4OCqTlyKybH0sCMIC8GPPYy6g1TbjurXcsi6AW25at+jQ1XTiv7vcwsxO/JID20iAidhyS/J5R8Wfb40ROGXDeT3PW257sG7WUn8qvKiSLRWpd4HlnOsXQ4Ylr8eSjCdx/O/Uo9fqOXj286FvwheTLy1q7vpaLFvUM14ue0y1qMUvGH8nuvpxbO/1Yl6bde3WRYaGo8SJ4nD7sGw28nDWJo5vwI4fI/a/0T+kMi6MgKcT/23gXB/eV2ppfHQemazS0Xi4Fsf3Ouk+18jxmtI5bojjO9NJ4KsWfmKYatW4bwC7H4w/aUH/eWzsZWJ5+lgQhGKh32Xhqa/NdLWMr5cspTTzYJb5QPTyEO5bcbjlYOiqBX3Vwzr4h3G93U+8vIVDNWXLLcznHt2LbdQeP0jnu24a365lridO+FwPrtsmunbOPG+eRtRNc2UrFadDWDcvSFzhIaFo48msuhHg/Bt+YoDnlJfwrkYK0DpBeGhY3IWMzftoa9UvahGLSeyz8Mxf1dduw/yiDp9HhaXW8PAuENz20N8XR7WvhbrsxZjPCbpaK4bBToJb92Esn38+pab9WMrddJ4cIlwzx6Ae9+Hpi6P/cS26VakfY3hO9xMvaaRFJolFZVn6WBCEovHEi220reAXrdnmA2VbzZh147OWTAAAHUZJREFUPs6rLNQ9+dDOBuC6m14/6H+8Vxbal4LVJvb/rRp3Vx9Dcy7AB/Ge8aPaN4BpdQFlRMOEgIqFSSo8RBRtPJlVN3TUvWrA1RXE2GCUuZCwYhEfGbNwJzbbNrIyTK8PE7g2iGXzwzsjiI4M4UGFefumh3exZYGodC0MXAsw+lYt6lVzp5+RVTq2vagGfy/uwOxJYxdc9GNiX/qXk1vnGToHqnoTmz6vjb1MLEcfC4IgpJh1PrDWhH04gH/Qgv4h3lni/6WDMHrqtspry1Khe2YPavz0npvjgXPdQ+91NZbvFPhhLBZDDgZ8zijWeDKrbqjQNQ3gvz5K1y4ZD4SViyxkzMIfPvYttwgLJIrvghcwY3yYvxI9ROiq9qAmzPlrwVlShRk66YGaOoxpX06iPg9ewGz8/C4afR7Ir48FQRCmWPnzAT8XT8VhYx2G+RzNE+aHbht7yiHseZ+ZnzhxfD93EC7fw7aNhWUfjchzTMiN6IbwReDhWsi45cP5Sj2VG7VotToqX2jFORpNnE3NcrQzu/OdlIOxHA7EbvlxdRykZosu4WRss4mDHW6CaQ51/D011GzRUd8D4MW6JZeD0iiupsRv9mvTJYgF3HRO1kWLbksNBztc+Kc5NEvmU+0kmLzPfsCEXqtFq9VjOuDAl13FiJuDm7Xoahz4Z/MoGR9nbASoMWTsEIhfs2PSatFWd+a8P9hXj1arxdS9mJ+sE32kO+Ih9iCG/1Qr9ZuT/f6yk0CyP+IfpbXHxkrqX3FOb49r9kT/NLmYujSPdgV4fBMmIHA5wIzf36676fWraKw3pp15jTPu9wK1GLL37F6zo9XqsF6IQcxP/yv1k/Vp7klFkokTHLZzsFqf1Jd6Wnt8RHM5pcxDh6WPF9jHgiAsL3nPB2Z/FnPLRbNWi1Zrx591KRby4nxlL6bN2hnH3bzmA7OUARC93I9tcmzSoq/eS2uPl+A0h5tpYyYQveyk9YVKdKmx8TVXxjgPEL/WSc3GhCPkWcez0O+4eBfUpifStprH8XeYEs+CLv/0ozMPgvTXa9FqTTjydVg5H4r9jHwQxdfTyt5kWu3GSmoOOPB+MsOEKY9nKkB0sBmt1oTzIyAWwN1xcFJ39NUHcYzm6gEdm6qB614CM3VQ8giw/uVadKnfsvJPyRRI6kz0nJWaaj2VR7wAOF9Ic57bkaWFi1o/ZrTVezNUlwcxgiNOWr+bsok0+84gOZd/2U2UOMFBG/WTdbBnzm0KlaEY9SBpo+n1qDmIYyTtGNp1B0atFl2Da8bdEXF/JyatFt2PfIn7ZhtPHkTxD9o5WJMcF7R6TAfsuD+aaox8dWPW96hYAHdX61R7b6yk5oAd17XpaeetN4JQBB6ahYz4tU5qduzFfjYAulpaDrVQpw7j3F+F6Yi7KBEgwmcPot9Sj7XHh8rQiOVQC7WPTeDpaaX2sGsyGkL5N+rYVm9OnsVXY9xnwXIo8c+Yh4PS8GAzlTWtODwRyk0tWA5ZMK+P4u2xUr9jhignoRDeUwepqjmGFwONh1qo1UPwQid7n2nFc3sqaXR0CM9tiAc6OT/b5CIS5n1A/bg6w8mUanMbHfsrIOTg6ImsF9lQP0d/5Ae9DccBHYtNPDKG83AVDcdjbGiw0Li9lNiInfp/8BANOKj99lGGHiTb4/E4/rN29jbY8/fkXEC7ArCqAm0V4AsSyS1x8suJBbMhXRfChD8AyitQ5/ToFSd81cnBZxpwxDbQeKgRY2kMb0c9R89FCbxTi+kfhohXNmJpqkUX9+Pu2Mvef8ycXOarw9LHC+ljQRCWk8WfD8Txd9VQWd2M3ROkfKcFy6FGDASmjbsLmw8kFgoqv2uj/yoYGixYDrVgLB3H3dGM6ZmDuHMMQvEPxxnqqqHqgJOwuo6W5PPCf8qK6XlHRtSlwK8dBO5C7NwQF2eJ/BKPhAgA+kfTnQyp0P/nDlq0EOw+ijPrURE8dRSbH/THHFgK3ClQOMV5RnLXj/3blezt8BBcbaTlkAXLrk38+Wonzc/UYs+af+X7TJ0iSOhyPwefqeHYbxJ92rJLDyEPnQ1VtJ6bHg6m4nEj4CM4wwMnfK4PT/pR1bt+7PU1tPZ4ubOpEcshCy3GLzN2qpWaZ+z44lD6mIFt326kNumGTr9rSi8tm/5qyeo3m602n8pR2bt+Op+vxPSyHU+wnLpDFiwNBgi4sTfsndY/AEwEOd9Ri6nDx5rtiTm1pfVZtKp5ypCDwvNI2bYdT/DLGJssWA6Z2RT30fmykdqOpF5urKVZD/HR4zMcZ40z5nYSJI9jRRE3B79VSf0RJz6VgcZDFlp2aZm44KR190FcSf3KVzdmLsdF85YaWrs9RMpNSRtaT/SyE+sLVdTkWvSch10IQlFQFoExu0bRaDSKxj6W3w33xpT2pzWKRlOtHPNOZF6buKgc25HIr+nM1LVUGem/pUmgtGs0ikbTpJz+LC0r92Hlue/3KeN3MgpXLv5wnaLRaJTDv0y/MKGcfml6HtOva5T2q+lVeVOp1mgUzY525cqdzDvufdijNGk0imbDYeX8H6fno9lxTLmYUdY95cp/qVI0Go3y3MkbUz9/dl45+tw3lW/t71HG7+WSLcnV9kQb/TxHG/1pTGnfoVE0mt1KXzD52/0bSt/urN8WjVQfaZRq+xXlzv2pKzdO7lY0mmqlesc6penMzbR7pvoqo9+T9dS8dFqZ+nUe7ZqSzK5RNJrDyvk70y4pyh+HlAMajbJ74Gb2XYn67B9SprV2Sj5NtdLuS8s01d47qpXqDU3K6XDaPX+6qBzbsEAdlj6eXx8LglAkpsaA9OfkrBQ8H8j9LJ7ks9OJ566mXZmakdxTxo43KA32i8pE2rg0NT5WKd3jGQXPPh/IWYaiTPy8SVmn0Sjr9p9Wbt7PvGXi18eUKo1G0ezoVsYnr02117r9WeP8/ZuT9TzmnXrw3xvvURqe+Kay+4fnpz970ss706RoNOuUN3NMy+5dbU/MW3b3KTdSsgT7lN3Zvy0WRXtGTihD+9dNz0dRFOX+TaXvJY2i2XBMuZI2byrkmZpow6Ru/jqzte/52hP9WdenTHviJOuXOcdMyTWudD+tUdbZrigpsVLl7M5+dt25oYx/nDnpS82FZ7KvRa3fPObuyr0xpXtfg9Kelf+kvj3drUyZ3pQ9aHa0K2N/ylHB+chQhDxStp09t1EURbk5kLC1Y79N9NUd9wFFo9EoVW+PK9NIzik1u/uUyZnQDOOJ8tmQcrjusNKX2ZnKPe8xZZ1Go2j+/rySfmUu3cj5HnVvTHlzRw5bVBRF+dMNpecljaLRrCuOXQhCEVjcHRk99TPEjM/cLhUb6cMZAVWDFWtVVrSHMiN1zxRHnLKaLobfaESX8cVchXFnIwDuD0ILLCGG96SDICoaX2vDkPVlXvWNFr7fqoa7bnrOZW8yM2A/YcOYEVlEhWHXHtRkbYNfa8I+7Gf03RZ0syzfxiYmAKhQ54igUaKnrb2FCvzYXk+syqe+vhhf76JRW1DFF0ALth8YKE1z4FixpQ4dQYKhRloynBBN9ZX3g/E8v8oV0K4ZxLiTY0dA7PL5zC8nkxcmmADQqJkxXkmTDWtlmlKsqsBQq4NQkOCLLZjTP5SVGDG9COAl8OFUTQvSYenjefWxIAjFJ2N7s3bmbfBLMx9QoT8wwMBRI2XpzoNXVWCsNwBhxmY8B5AvAVxveYmjx/qqeZqT4rLtbbTtBEIOXL7ska6F3neyxvlVap6trwXANTb1aTfhCNnP4I9NMz97gGg0BBgo/+vp1yZ38Plt2M+EE0dKjtgSYdvfaqRiIQ6WC2Ghz8iAi86ROKp9NtoqsyZgq9Q0vtwCd/txjUx9HZ7PvNDwuhPb9szWVlXWsaecWY+QxO7meKIFLnImkvk1PhJMHAl44htZ8SZKK9A9WpgHrsWs37xsVaXHcnIAa1b+aI2YK4HIGL+btrNITdub1pyOL4sxXhSeR9K2SxqxtWbObQDUL7bQQpz+QS8xoLTaTCMQ/qmLbFNPOOQH/a48IoesraXrF100ZnYmqq0mGgGGx1jwW8xIH44QuW2opIKW1jbUxHGfGJp2VGa+diEIC2Fxw6/qa7FsyWWa60nf3DTudwNg3r5MYUyL1QoPxhkbhtmca+q21KLqcuC/5CfakP7Sq8otx1fL0ALh+wWd9AMgfnf2rVyJyYuX+h4btnejqN7wQ5Ud2565PRiHL3RyZnz2NGX/oYXGzXNFTodHsidJf6liDRCo1FKefa1ciwHwRSaIwawTtwSFt+tfPWaYIa+Uk8/jGU4+Abh7hzk3zq16ZNpPXylZAwQwaKfHFC3XGgAf4WgeNZ1Bh6WPC+1jQRAWA/0uC099LceF9ZlbnZd7PvDIl4pUauR3+CLM4lyzFMMzRjjnxXU1gG1rZqj6aWMmULpmDQDx/7+9+w9t+77zOP48NvYdHqeRgY6MWmRg9co5lz+UJZydZouy3E1ZuNjX4mgDRynXOAedfUctdsS+QKIGVjvcJpfDSrnGydHIHq3iI2f71kU9nHzNtZWPpNaxLCptpZEijYZqrFRsZt9xpveH7MQ/JP+QpcRqXg8IBCx99f3q8/3q+/6+P5/P+1PC3BrrkzRQLHs9O8XkagsDPwwQ+rVBMA7uHwYWJg8KyhEfGuDaR8u/auuTfjwrFRld5z0y/fMYacDxqyihvgLFWXNJHED8gwywwrTKZeJC4/NL9xPs2OuADPx+8XSNzfl72lL3pqrOL/JZv9uHcS7MwMluap//Pl6XA6PcyaQyHF95r9UvUnwjHnYVmdpUjn1Y8zbmru3aNNGzQZaeaTmStUA8SQYP9UYjniMG4YsRote7adw99ylprrxiQqHOsbUocN2U6u53Uaxo/bZdNNUECcVN4lkf8/tJ13xdiJRBZRMZO47g73St8KIs6dkUovGl+xS2zFikE1NkbieJJbPwq7fLs91serYqtcGXix3KV2tpBMx302RZzUNaJRm4/iFA288OM/CjINBI4NTSnqNCfj0VInRu+de4HT58O9a1eyz5Wfz8Mve6Mvn1h1NQKOyYK/L5rJuVH93XptANYNmAetXnsNq4kKJtLCIV8fXv+fGv+FvxAOIBK0vyZpLM7VtMpXPk3llvn+asO6n8A85XDL5c5CV2hxMwsT7IJ23LfV9ZkxoX/tNtRFsHCPYBDYFVJbzB4v3xEKGJ5V/V9o1VJDKWsZp75NzKMunxMKHx4tsqeFSVigsBshkK3nHminyeblqQVjF2dzPclaS1N0LguxECNXZcnjY6nvHirivxLCn78a3/WrWySRLvZnj/nSkyv81xa82XXjl+L0rYxty1nTEJ95vFX3c392bQ+GQ7jotBwq9G8e9uyl/rN0c5HwfjiA/P4s6xFVgfJJhKJ0leT5IlXw9v/VbzXdRSuxOYSJF+8A8xIhVOZGw0uQSRH52kZyi+cu/5Z4D9a7NB0u8sij4a/iY9rwDVFOb1NL4tKwcvrq4Uqa4y7ehGU7C7q1iRz1mbH8UJmNOfsMy3vX6lnMNq46VK6dIUkc+OOzFCJzsJjWfLUkx8o6t1uoGPsH5X/DUf3U7eGy7+c5PYhz4cK47IsOO9kMJblr0sj7ahFN0Nq3zx/YgLZ6yC59hckc++Jb3xBvXHBokfSRMfu8TFSxGil3s4ejlIfccQw52u1ccYGzDuzb4Rout4CPNOlV95Tw+SOrHKDpFtTRx1BQm8NsKVE014N0P8pyHSOPCvVORzzkyOxOUgJ3vDxBcXMRd5SG2AVUsMvjyXYP6/Cn6MFSfYcpDuoRRbj/Uw+Pok8ZspUqkUqVfbyvMZdsfssmYWnxT7ff4wk8/kPrZMLYVyqbHhAJIfFhnzOZMmcrIbEyf+ofP4aizM5wKMLlP5/LMvS/qXAE4enV9zYf7yaAVHMxjYaoHUbK2MSijlHFYbF1CkjUXkAbtP8cCdUY7+1WGCMTuerj7GrsaJJ/K/pZNn3OX5jLnpBL+x+KTIS7Lp2TGcW/6k4qMxjBobkCBTbJ56JkLghAl1fgZf8mFMmwROr7Ck6wZT+1i+7d56L7m6N9yPuJB77ez82ryobybB6Evx5XvjDQeuFj99r06SePM8vjqLRP8PiXywyg+u6PGVdq1mLx9lz1NBYl/x0P3CGOaNOIn3UqRSk/TsuT/7sO5tbNmKG+B6klWeaYCD5qc8gElkPA1WjJEhC2oPsXdVi8dZxP/lEAePh0ltbaPn5SiTNxL5tkwNU56z1Y5jdvZZvgO0kAyZ6wB1FCq/J3K/bYBEho267fmrOHqj4NpEBedV5XsX4KPpYiHCQtbkCKEUODqHGOzy0lhnx1agcNC6fG4r2w8CRDCvF/4RSLyZXzrOtcdV+URGrRMXEEukCvcGXA4QmABnRy9tDW78Z5owpk26TlZX8FJeGZIxoKFuQR2XfEGm5eYx1uJ0AZMJUhXqZCjlHFYbF1K4jUXkQSslHrDz6J/m/1c8+F4o+fo5zGnwPD9E37Em6rfYsJV7GF3tn9NYC9wcIVbwwTNH7KoJGHh3Vn4ZbNvXnDgo8pA/kyZyOoCJk/YzbTTu89N30MAa76LrcvXcKezb3biAxGiM5Crm49+XuBDI3I4BjdTNT5zHRwhlVrHk5pzNc0Un48WTUYtU9vhKuVaTXHnZxMJD78U+2g7W49hkW0f9j9KeH9a9DbsLt4v8tb2G6TC23fvxAPGXRjHHI4SnWaZzbBErxkh/Emr9DF3oxrvbiX1T+cf+bnXNFhQ2pwqPVLv5FqPTgMuNS4kM2QA2QCIDnHu8uID0v/747jrIc7LjAQIXlr7H/tj2/IoEg5eIz195YCaL+VwXA8U+7LeLhvjlEkQuFZ7j9sXPA8RIze3TjIW17I+iDfdT7TixCJ8OEls0js96b4Af96Whpolj6ynscydKoKWBhmdHC6wBPn936ti+DZi4tbSScSZC4DkTq66d3u/nhynaDvwTvfvywcvzD+uaz6lfcG0ajB2PzptHO1uQ6cD+pUU+75q7GZolzPNco9Wew2rjwgq2sYhsBKXEA3VbPQBEhkYW3hNzCcInAxSbxW4tnmJ2J0b4UoEikZQSD9TjfdaNQZye2VWjFh5LkOBrQF2R6YqrZCUGOPp4Ay398eWnyNTle5ETU6klUwzSlwMExi2cHb20uwzAhqerF3eNhXnyeaLVMox9SzPHDhoQD9D+zzFyi75zKxMjdDK8NMmxhrhw7ZL8YsKCmu08eneajkXsp2GsIr3x1s0IA2OJhfs/k+TtGwAets6v2Wrkz53k7dnsRqHzskLHV8q1mmfx+8Wrd7wRJnL9fu7DerbhoPnpJgziBJ7pWRLrY6WJ9QcIL44FN3nwHTEgM0V4eJTSinzmsOaPHJnJkRiOFP6NW825sYht3xHa68C6GCA4uejAppMM9AVJY9D0dLPiJ9kQKlsj48ZFgn3Xiv757ooHW7yc6Bikpd+k+zsNRDzN7HrEIvmzEaI04zsAydcWvXmbF/++EJ3jA7R8822antiFw0oSfS3KR41+2vYEGZhXfMrY6cZXEyZ8rpU9v/Ti/TMbufeuceWNP7D31CG8wz1EFu4drj0uGI8z8LcNvFVn5w+ZBBwdI/pM8d4Tw+Vn4MwtPMcHOPz4CC5PM7seMci9EyEynsWqqaf933rXXNhnvuwbEcLxLMQ7GTzcRHfRAmpOvu5xwI8ucS3RTv3cbs/1vkw7aT/TjutuDGWn6WSAkfFuRo+fYn9j37r2sxpl4yYJDHzze8juFvn0LDv817ljPw6CXJpI0F5f/h62NZ3DauOiCraxiFTU268ECf53sb/a2XvUh8tGSfGA7dvHaK+LEhrvxvPNKN6WrRi/eouRaAL70234YiHC8zo8nI97cRHAPP5tWia97HoE0v9rYk79MW0n2qi/EVqyf6XEA/YnzjL0bhMt57px/8V5PAc8ODdZpN+MMBrPwSYPfRfaV9cjW0RitAfzDtDXz0jLebzFpssZ22k8COGxK8ROe/DM3cwKJLwB2NxE4MQI7hOjdD63n8kXlr//bQw2PM8P0Z5qJXTuMA1jLjwHduGoyeXPn1T+O7cf9eLcYpQQF5bgzhTmTTCONN4r6Dm/yOeSts9ing/QM2YR7J3df9K8dXmU+McG9Z3HFtyz63d6MQhjHv82nsFavpBNkdrZl2+vSh/fsteql56uRrp75ycGnTQ+6YKbJt1/3ULsifyxTU2YTG1qI/B0PfH+Su9DebZhO9DL0LtJWvsXxfrvRRl5PUkOG57NR/HWOeaNuLlX9NOcWGORT6MRd6tBeGiA1m8l8bZsxfZxkmvjJn/YHeBQS4Se4YVvWfbcKPo5LvwXerj1nW4GWhsY2eGhucGB8fEtIpdNstMG9R1D9B7Y+L8G8nCo7IiM+Cih/lDRf+btuZSsgatzlOgLbXi+ahG/PEBoKAZNZ5n8WYDmQku2YafpxQkGOz04iTN6IUR4Etynxph4oZ392xb1cNS46f73Hnw7bOTGw4QuRHib/fT+5yg9Lc24CszNc3yvj7OtLuxkSdzMwE4/gSdWfvhxtJxncqyPdk8tmegAof4QkVt23Md6GP6vMfw71jcczN7QjGcTGPV+9hdZkmpO/e5DOEhz6eq9IXNLe1/mqfXSfboRY3qUzudGyT5UyyXNjryo8eK5u3zuCkU+53tsL4dqIf3KNRKV+N7WcA6rjYsp1MYiUmnxy8VjgVC/yft3Ew0lxAOGC//wGD2tLmw5k3D/ACNpB20vTjDW6WP74np8dT5eHPLjqWN2+ybZLYe5cHWY9kN72VVg+H1p8YCBqyvK5MsBfDshNhQi1D+AmdtKU9d5olfP0rRiMc3l1f9lO/U1YDvQzN5la/7YaNznAUYZmZjtaS2a8M5zHOom0GBgjXVyaqxKppjUuPD/xwTDZ9pwfyVD9EKIUH+EKaMR3+lBJv/nLN4tswdaQly4VunxCCYG3n33lrOcK/JZuDfejufHk0Rf8t/b/wtRMnVNdL88wVjHwkKf+RVOPDg35UjeTJGt9RL4u8b8g2rFj2+5a7Ub746lS3g6W19cGLdPZHE+dYGJn7Tj/cauEgqlr30fyrMNA1fnGBOv9tC2234v1v/5F2hsDTD4ZpyzLY6l79vm4ei2/PvnnxOrOU531+iC37hIHPafjjJ6xkvzzqW1fZY9N5ZT6+X8m2P0dXiozUQZ6A8RunwL++42el6dYGwtxWZFKuyPPv30008f9E6sJN5bR8s5cJ+Z5HyLJmWtTZpwi5vAuz4GbwRYxwjWz76bIdx/E4TOMcyO2QD141G+v+MUvPA6Zw+ufO6lh1pwn0zgezlOYLe+7A2nUBuLSNVQPLAOVozAjsOEHwtgDvs0NLzSZhKEvnWQIH7Grs6OvJlJEPpWC1cODTHcoQdCEZH12BA1MqSSHHj/3ocxHWagWnpUHogc0fMh0njwt857wN3UxNlUfFVJDADHEx34aizCF0Ye4mKaG1WRNhYReRgYjRz+RxfEzzN4o8qXvqwCueg5Qhnw/MB3bwrJ5+ppn0gsGVkhIiJrp0TGQ8DY005gD8QmYnq4LiYXwxy3cP6gg6b11IyocdN+yg3XTWL6sjeWcrWxiEiVcn73BG21aSKThVdokHLJEZuIYtX56VA9ARGRitDUkodFLkfuSzZs6ygq9pmXy5I17NjX200ykyP3Oxs2xS4bT7naWEQeCMUD62d9nMPYpBtUxc3kyP7GwK4bjohIRVRFIkNEREREREREBDS1RERERERERESqiBIZIiIiIiIiIlI1lMgQERERERERkaqhRIaIiIiIiIiIVA0lMkRERERERESkaiiRISIiIiIiIiJVQ4kMEREREREREakaSmSIiIiIiIiISNVQIkNEREREREREqoYSGSIiIiIiIiJSNZTIEBEREREREZGqoUSGiIiIiIiIiFQNJTJEREREREREpGookSEiIiIiIiIiVUOJDBERERERERGpGkpkiIiIiIiIiEjVUCJDRERERERERKrG/wM52kJma1y1vQAAAABJRU5ErkJggg==)\n",
        "\n",
        "However, at the end of the day, the choice of using normalization or standardization will depend on your problem and the machine learning algorithm you are using. There is no hard and fast rule to tell you when to normalize or standardize your data. You can always start by fitting your model to raw, normalized, and standardized data and comparing the performance for the best results.\n",
        "It is a good practice to fit the scaler on the training data and then use it to transform the testing data. This would avoid any data leakage during the model testing process. Also, the scaling of target values is generally not required."
      ],
      "metadata": {
        "id": "E4IG1NbFmEQf"
      }
    },
    {
      "cell_type": "markdown",
      "source": [
        "https://www.analyticsvidhya.com/blog/2020/04/feature-scaling-machine-learning-normalization-standardization/#What_Is_Normalization?"
      ],
      "metadata": {
        "id": "0dB01AqAndGI"
      }
    },
    {
      "cell_type": "code",
      "metadata": {
        "colab": {
          "base_uri": "https://localhost:8080/",
          "height": 143
        },
        "id": "2nAVKxjPoWGy",
        "outputId": "72b59744-7f48-4f94-ab1f-5a2ff486cd92"
      },
      "source": [
        "pt = pd.crosstab(campus['status'], campus['specialisation'], normalize= 'index')\n",
        "pt"
      ],
      "execution_count": null,
      "outputs": [
        {
          "output_type": "execute_result",
          "data": {
            "text/plain": [
              "specialisation   Mkt&Fin    Mkt&HR\n",
              "status                            \n",
              "Not Placed      0.373134  0.626866\n",
              "Placed          0.641892  0.358108"
            ],
            "text/html": [
              "\n",
              "  <div id=\"df-b9c1c324-975f-4b9d-877f-3debf6a4455b\">\n",
              "    <div class=\"colab-df-container\">\n",
              "      <div>\n",
              "<style scoped>\n",
              "    .dataframe tbody tr th:only-of-type {\n",
              "        vertical-align: middle;\n",
              "    }\n",
              "\n",
              "    .dataframe tbody tr th {\n",
              "        vertical-align: top;\n",
              "    }\n",
              "\n",
              "    .dataframe thead th {\n",
              "        text-align: right;\n",
              "    }\n",
              "</style>\n",
              "<table border=\"1\" class=\"dataframe\">\n",
              "  <thead>\n",
              "    <tr style=\"text-align: right;\">\n",
              "      <th>specialisation</th>\n",
              "      <th>Mkt&amp;Fin</th>\n",
              "      <th>Mkt&amp;HR</th>\n",
              "    </tr>\n",
              "    <tr>\n",
              "      <th>status</th>\n",
              "      <th></th>\n",
              "      <th></th>\n",
              "    </tr>\n",
              "  </thead>\n",
              "  <tbody>\n",
              "    <tr>\n",
              "      <th>Not Placed</th>\n",
              "      <td>0.373134</td>\n",
              "      <td>0.626866</td>\n",
              "    </tr>\n",
              "    <tr>\n",
              "      <th>Placed</th>\n",
              "      <td>0.641892</td>\n",
              "      <td>0.358108</td>\n",
              "    </tr>\n",
              "  </tbody>\n",
              "</table>\n",
              "</div>\n",
              "      <button class=\"colab-df-convert\" onclick=\"convertToInteractive('df-b9c1c324-975f-4b9d-877f-3debf6a4455b')\"\n",
              "              title=\"Convert this dataframe to an interactive table.\"\n",
              "              style=\"display:none;\">\n",
              "        \n",
              "  <svg xmlns=\"http://www.w3.org/2000/svg\" height=\"24px\"viewBox=\"0 0 24 24\"\n",
              "       width=\"24px\">\n",
              "    <path d=\"M0 0h24v24H0V0z\" fill=\"none\"/>\n",
              "    <path d=\"M18.56 5.44l.94 2.06.94-2.06 2.06-.94-2.06-.94-.94-2.06-.94 2.06-2.06.94zm-11 1L8.5 8.5l.94-2.06 2.06-.94-2.06-.94L8.5 2.5l-.94 2.06-2.06.94zm10 10l.94 2.06.94-2.06 2.06-.94-2.06-.94-.94-2.06-.94 2.06-2.06.94z\"/><path d=\"M17.41 7.96l-1.37-1.37c-.4-.4-.92-.59-1.43-.59-.52 0-1.04.2-1.43.59L10.3 9.45l-7.72 7.72c-.78.78-.78 2.05 0 2.83L4 21.41c.39.39.9.59 1.41.59.51 0 1.02-.2 1.41-.59l7.78-7.78 2.81-2.81c.8-.78.8-2.07 0-2.86zM5.41 20L4 18.59l7.72-7.72 1.47 1.35L5.41 20z\"/>\n",
              "  </svg>\n",
              "      </button>\n",
              "      \n",
              "  <style>\n",
              "    .colab-df-container {\n",
              "      display:flex;\n",
              "      flex-wrap:wrap;\n",
              "      gap: 12px;\n",
              "    }\n",
              "\n",
              "    .colab-df-convert {\n",
              "      background-color: #E8F0FE;\n",
              "      border: none;\n",
              "      border-radius: 50%;\n",
              "      cursor: pointer;\n",
              "      display: none;\n",
              "      fill: #1967D2;\n",
              "      height: 32px;\n",
              "      padding: 0 0 0 0;\n",
              "      width: 32px;\n",
              "    }\n",
              "\n",
              "    .colab-df-convert:hover {\n",
              "      background-color: #E2EBFA;\n",
              "      box-shadow: 0px 1px 2px rgba(60, 64, 67, 0.3), 0px 1px 3px 1px rgba(60, 64, 67, 0.15);\n",
              "      fill: #174EA6;\n",
              "    }\n",
              "\n",
              "    [theme=dark] .colab-df-convert {\n",
              "      background-color: #3B4455;\n",
              "      fill: #D2E3FC;\n",
              "    }\n",
              "\n",
              "    [theme=dark] .colab-df-convert:hover {\n",
              "      background-color: #434B5C;\n",
              "      box-shadow: 0px 1px 3px 1px rgba(0, 0, 0, 0.15);\n",
              "      filter: drop-shadow(0px 1px 2px rgba(0, 0, 0, 0.3));\n",
              "      fill: #FFFFFF;\n",
              "    }\n",
              "  </style>\n",
              "\n",
              "      <script>\n",
              "        const buttonEl =\n",
              "          document.querySelector('#df-b9c1c324-975f-4b9d-877f-3debf6a4455b button.colab-df-convert');\n",
              "        buttonEl.style.display =\n",
              "          google.colab.kernel.accessAllowed ? 'block' : 'none';\n",
              "\n",
              "        async function convertToInteractive(key) {\n",
              "          const element = document.querySelector('#df-b9c1c324-975f-4b9d-877f-3debf6a4455b');\n",
              "          const dataTable =\n",
              "            await google.colab.kernel.invokeFunction('convertToInteractive',\n",
              "                                                     [key], {});\n",
              "          if (!dataTable) return;\n",
              "\n",
              "          const docLinkHtml = 'Like what you see? Visit the ' +\n",
              "            '<a target=\"_blank\" href=https://colab.research.google.com/notebooks/data_table.ipynb>data table notebook</a>'\n",
              "            + ' to learn more about interactive tables.';\n",
              "          element.innerHTML = '';\n",
              "          dataTable['output_type'] = 'display_data';\n",
              "          await google.colab.output.renderOutput(dataTable, element);\n",
              "          const docLink = document.createElement('div');\n",
              "          docLink.innerHTML = docLinkHtml;\n",
              "          element.appendChild(docLink);\n",
              "        }\n",
              "      </script>\n",
              "    </div>\n",
              "  </div>\n",
              "  "
            ]
          },
          "metadata": {},
          "execution_count": 9
        }
      ]
    },
    {
      "cell_type": "code",
      "source": [
        "pt = pd.crosstab(campus['status'], campus['specialisation'], normalize= 'columns')\n",
        "pt"
      ],
      "metadata": {
        "colab": {
          "base_uri": "https://localhost:8080/",
          "height": 143
        },
        "id": "-HYkh1dc5qbS",
        "outputId": "d0286e4b-7fea-4039-f4e5-a07e6b76e5fd"
      },
      "execution_count": null,
      "outputs": [
        {
          "output_type": "execute_result",
          "data": {
            "text/plain": [
              "specialisation   Mkt&Fin    Mkt&HR\n",
              "status                            \n",
              "Not Placed      0.208333  0.442105\n",
              "Placed          0.791667  0.557895"
            ],
            "text/html": [
              "\n",
              "  <div id=\"df-9a7eba3b-f834-44a5-81de-7c929a5ea73d\">\n",
              "    <div class=\"colab-df-container\">\n",
              "      <div>\n",
              "<style scoped>\n",
              "    .dataframe tbody tr th:only-of-type {\n",
              "        vertical-align: middle;\n",
              "    }\n",
              "\n",
              "    .dataframe tbody tr th {\n",
              "        vertical-align: top;\n",
              "    }\n",
              "\n",
              "    .dataframe thead th {\n",
              "        text-align: right;\n",
              "    }\n",
              "</style>\n",
              "<table border=\"1\" class=\"dataframe\">\n",
              "  <thead>\n",
              "    <tr style=\"text-align: right;\">\n",
              "      <th>specialisation</th>\n",
              "      <th>Mkt&amp;Fin</th>\n",
              "      <th>Mkt&amp;HR</th>\n",
              "    </tr>\n",
              "    <tr>\n",
              "      <th>status</th>\n",
              "      <th></th>\n",
              "      <th></th>\n",
              "    </tr>\n",
              "  </thead>\n",
              "  <tbody>\n",
              "    <tr>\n",
              "      <th>Not Placed</th>\n",
              "      <td>0.208333</td>\n",
              "      <td>0.442105</td>\n",
              "    </tr>\n",
              "    <tr>\n",
              "      <th>Placed</th>\n",
              "      <td>0.791667</td>\n",
              "      <td>0.557895</td>\n",
              "    </tr>\n",
              "  </tbody>\n",
              "</table>\n",
              "</div>\n",
              "      <button class=\"colab-df-convert\" onclick=\"convertToInteractive('df-9a7eba3b-f834-44a5-81de-7c929a5ea73d')\"\n",
              "              title=\"Convert this dataframe to an interactive table.\"\n",
              "              style=\"display:none;\">\n",
              "        \n",
              "  <svg xmlns=\"http://www.w3.org/2000/svg\" height=\"24px\"viewBox=\"0 0 24 24\"\n",
              "       width=\"24px\">\n",
              "    <path d=\"M0 0h24v24H0V0z\" fill=\"none\"/>\n",
              "    <path d=\"M18.56 5.44l.94 2.06.94-2.06 2.06-.94-2.06-.94-.94-2.06-.94 2.06-2.06.94zm-11 1L8.5 8.5l.94-2.06 2.06-.94-2.06-.94L8.5 2.5l-.94 2.06-2.06.94zm10 10l.94 2.06.94-2.06 2.06-.94-2.06-.94-.94-2.06-.94 2.06-2.06.94z\"/><path d=\"M17.41 7.96l-1.37-1.37c-.4-.4-.92-.59-1.43-.59-.52 0-1.04.2-1.43.59L10.3 9.45l-7.72 7.72c-.78.78-.78 2.05 0 2.83L4 21.41c.39.39.9.59 1.41.59.51 0 1.02-.2 1.41-.59l7.78-7.78 2.81-2.81c.8-.78.8-2.07 0-2.86zM5.41 20L4 18.59l7.72-7.72 1.47 1.35L5.41 20z\"/>\n",
              "  </svg>\n",
              "      </button>\n",
              "      \n",
              "  <style>\n",
              "    .colab-df-container {\n",
              "      display:flex;\n",
              "      flex-wrap:wrap;\n",
              "      gap: 12px;\n",
              "    }\n",
              "\n",
              "    .colab-df-convert {\n",
              "      background-color: #E8F0FE;\n",
              "      border: none;\n",
              "      border-radius: 50%;\n",
              "      cursor: pointer;\n",
              "      display: none;\n",
              "      fill: #1967D2;\n",
              "      height: 32px;\n",
              "      padding: 0 0 0 0;\n",
              "      width: 32px;\n",
              "    }\n",
              "\n",
              "    .colab-df-convert:hover {\n",
              "      background-color: #E2EBFA;\n",
              "      box-shadow: 0px 1px 2px rgba(60, 64, 67, 0.3), 0px 1px 3px 1px rgba(60, 64, 67, 0.15);\n",
              "      fill: #174EA6;\n",
              "    }\n",
              "\n",
              "    [theme=dark] .colab-df-convert {\n",
              "      background-color: #3B4455;\n",
              "      fill: #D2E3FC;\n",
              "    }\n",
              "\n",
              "    [theme=dark] .colab-df-convert:hover {\n",
              "      background-color: #434B5C;\n",
              "      box-shadow: 0px 1px 3px 1px rgba(0, 0, 0, 0.15);\n",
              "      filter: drop-shadow(0px 1px 2px rgba(0, 0, 0, 0.3));\n",
              "      fill: #FFFFFF;\n",
              "    }\n",
              "  </style>\n",
              "\n",
              "      <script>\n",
              "        const buttonEl =\n",
              "          document.querySelector('#df-9a7eba3b-f834-44a5-81de-7c929a5ea73d button.colab-df-convert');\n",
              "        buttonEl.style.display =\n",
              "          google.colab.kernel.accessAllowed ? 'block' : 'none';\n",
              "\n",
              "        async function convertToInteractive(key) {\n",
              "          const element = document.querySelector('#df-9a7eba3b-f834-44a5-81de-7c929a5ea73d');\n",
              "          const dataTable =\n",
              "            await google.colab.kernel.invokeFunction('convertToInteractive',\n",
              "                                                     [key], {});\n",
              "          if (!dataTable) return;\n",
              "\n",
              "          const docLinkHtml = 'Like what you see? Visit the ' +\n",
              "            '<a target=\"_blank\" href=https://colab.research.google.com/notebooks/data_table.ipynb>data table notebook</a>'\n",
              "            + ' to learn more about interactive tables.';\n",
              "          element.innerHTML = '';\n",
              "          dataTable['output_type'] = 'display_data';\n",
              "          await google.colab.output.renderOutput(dataTable, element);\n",
              "          const docLink = document.createElement('div');\n",
              "          docLink.innerHTML = docLinkHtml;\n",
              "          element.appendChild(docLink);\n",
              "        }\n",
              "      </script>\n",
              "    </div>\n",
              "  </div>\n",
              "  "
            ]
          },
          "metadata": {},
          "execution_count": 17
        }
      ]
    },
    {
      "cell_type": "code",
      "source": [
        "pt = pd.crosstab(campus['status'], campus['specialisation'], normalize= 'index').round(4)\n",
        "pt"
      ],
      "metadata": {
        "colab": {
          "base_uri": "https://localhost:8080/",
          "height": 143
        },
        "id": "Gl6pesNPyllW",
        "outputId": "4c7e2889-c0c8-4df5-f568-8b7aa117beac"
      },
      "execution_count": null,
      "outputs": [
        {
          "output_type": "execute_result",
          "data": {
            "text/plain": [
              "specialisation  Mkt&Fin  Mkt&HR\n",
              "status                         \n",
              "Not Placed       0.3731  0.6269\n",
              "Placed           0.6419  0.3581"
            ],
            "text/html": [
              "\n",
              "  <div id=\"df-be34fc23-64d4-4c74-8293-43da77e4d89c\">\n",
              "    <div class=\"colab-df-container\">\n",
              "      <div>\n",
              "<style scoped>\n",
              "    .dataframe tbody tr th:only-of-type {\n",
              "        vertical-align: middle;\n",
              "    }\n",
              "\n",
              "    .dataframe tbody tr th {\n",
              "        vertical-align: top;\n",
              "    }\n",
              "\n",
              "    .dataframe thead th {\n",
              "        text-align: right;\n",
              "    }\n",
              "</style>\n",
              "<table border=\"1\" class=\"dataframe\">\n",
              "  <thead>\n",
              "    <tr style=\"text-align: right;\">\n",
              "      <th>specialisation</th>\n",
              "      <th>Mkt&amp;Fin</th>\n",
              "      <th>Mkt&amp;HR</th>\n",
              "    </tr>\n",
              "    <tr>\n",
              "      <th>status</th>\n",
              "      <th></th>\n",
              "      <th></th>\n",
              "    </tr>\n",
              "  </thead>\n",
              "  <tbody>\n",
              "    <tr>\n",
              "      <th>Not Placed</th>\n",
              "      <td>0.3731</td>\n",
              "      <td>0.6269</td>\n",
              "    </tr>\n",
              "    <tr>\n",
              "      <th>Placed</th>\n",
              "      <td>0.6419</td>\n",
              "      <td>0.3581</td>\n",
              "    </tr>\n",
              "  </tbody>\n",
              "</table>\n",
              "</div>\n",
              "      <button class=\"colab-df-convert\" onclick=\"convertToInteractive('df-be34fc23-64d4-4c74-8293-43da77e4d89c')\"\n",
              "              title=\"Convert this dataframe to an interactive table.\"\n",
              "              style=\"display:none;\">\n",
              "        \n",
              "  <svg xmlns=\"http://www.w3.org/2000/svg\" height=\"24px\"viewBox=\"0 0 24 24\"\n",
              "       width=\"24px\">\n",
              "    <path d=\"M0 0h24v24H0V0z\" fill=\"none\"/>\n",
              "    <path d=\"M18.56 5.44l.94 2.06.94-2.06 2.06-.94-2.06-.94-.94-2.06-.94 2.06-2.06.94zm-11 1L8.5 8.5l.94-2.06 2.06-.94-2.06-.94L8.5 2.5l-.94 2.06-2.06.94zm10 10l.94 2.06.94-2.06 2.06-.94-2.06-.94-.94-2.06-.94 2.06-2.06.94z\"/><path d=\"M17.41 7.96l-1.37-1.37c-.4-.4-.92-.59-1.43-.59-.52 0-1.04.2-1.43.59L10.3 9.45l-7.72 7.72c-.78.78-.78 2.05 0 2.83L4 21.41c.39.39.9.59 1.41.59.51 0 1.02-.2 1.41-.59l7.78-7.78 2.81-2.81c.8-.78.8-2.07 0-2.86zM5.41 20L4 18.59l7.72-7.72 1.47 1.35L5.41 20z\"/>\n",
              "  </svg>\n",
              "      </button>\n",
              "      \n",
              "  <style>\n",
              "    .colab-df-container {\n",
              "      display:flex;\n",
              "      flex-wrap:wrap;\n",
              "      gap: 12px;\n",
              "    }\n",
              "\n",
              "    .colab-df-convert {\n",
              "      background-color: #E8F0FE;\n",
              "      border: none;\n",
              "      border-radius: 50%;\n",
              "      cursor: pointer;\n",
              "      display: none;\n",
              "      fill: #1967D2;\n",
              "      height: 32px;\n",
              "      padding: 0 0 0 0;\n",
              "      width: 32px;\n",
              "    }\n",
              "\n",
              "    .colab-df-convert:hover {\n",
              "      background-color: #E2EBFA;\n",
              "      box-shadow: 0px 1px 2px rgba(60, 64, 67, 0.3), 0px 1px 3px 1px rgba(60, 64, 67, 0.15);\n",
              "      fill: #174EA6;\n",
              "    }\n",
              "\n",
              "    [theme=dark] .colab-df-convert {\n",
              "      background-color: #3B4455;\n",
              "      fill: #D2E3FC;\n",
              "    }\n",
              "\n",
              "    [theme=dark] .colab-df-convert:hover {\n",
              "      background-color: #434B5C;\n",
              "      box-shadow: 0px 1px 3px 1px rgba(0, 0, 0, 0.15);\n",
              "      filter: drop-shadow(0px 1px 2px rgba(0, 0, 0, 0.3));\n",
              "      fill: #FFFFFF;\n",
              "    }\n",
              "  </style>\n",
              "\n",
              "      <script>\n",
              "        const buttonEl =\n",
              "          document.querySelector('#df-be34fc23-64d4-4c74-8293-43da77e4d89c button.colab-df-convert');\n",
              "        buttonEl.style.display =\n",
              "          google.colab.kernel.accessAllowed ? 'block' : 'none';\n",
              "\n",
              "        async function convertToInteractive(key) {\n",
              "          const element = document.querySelector('#df-be34fc23-64d4-4c74-8293-43da77e4d89c');\n",
              "          const dataTable =\n",
              "            await google.colab.kernel.invokeFunction('convertToInteractive',\n",
              "                                                     [key], {});\n",
              "          if (!dataTable) return;\n",
              "\n",
              "          const docLinkHtml = 'Like what you see? Visit the ' +\n",
              "            '<a target=\"_blank\" href=https://colab.research.google.com/notebooks/data_table.ipynb>data table notebook</a>'\n",
              "            + ' to learn more about interactive tables.';\n",
              "          element.innerHTML = '';\n",
              "          dataTable['output_type'] = 'display_data';\n",
              "          await google.colab.output.renderOutput(dataTable, element);\n",
              "          const docLink = document.createElement('div');\n",
              "          docLink.innerHTML = docLinkHtml;\n",
              "          element.appendChild(docLink);\n",
              "        }\n",
              "      </script>\n",
              "    </div>\n",
              "  </div>\n",
              "  "
            ]
          },
          "metadata": {},
          "execution_count": 10
        }
      ]
    },
    {
      "cell_type": "code",
      "source": [
        "pt = pd.crosstab(campus['status'], campus['specialisation'], normalize= 'index').round(4)*100\n",
        "pt"
      ],
      "metadata": {
        "colab": {
          "base_uri": "https://localhost:8080/",
          "height": 143
        },
        "id": "D5eMROZ0yqok",
        "outputId": "0fa05ef3-947a-4547-85b0-a9253fcd7f64"
      },
      "execution_count": null,
      "outputs": [
        {
          "output_type": "execute_result",
          "data": {
            "text/plain": [
              "specialisation  Mkt&Fin  Mkt&HR\n",
              "status                         \n",
              "Not Placed        37.31   62.69\n",
              "Placed            64.19   35.81"
            ],
            "text/html": [
              "\n",
              "  <div id=\"df-632c4061-85ba-4d83-b4dd-d0851dd76863\">\n",
              "    <div class=\"colab-df-container\">\n",
              "      <div>\n",
              "<style scoped>\n",
              "    .dataframe tbody tr th:only-of-type {\n",
              "        vertical-align: middle;\n",
              "    }\n",
              "\n",
              "    .dataframe tbody tr th {\n",
              "        vertical-align: top;\n",
              "    }\n",
              "\n",
              "    .dataframe thead th {\n",
              "        text-align: right;\n",
              "    }\n",
              "</style>\n",
              "<table border=\"1\" class=\"dataframe\">\n",
              "  <thead>\n",
              "    <tr style=\"text-align: right;\">\n",
              "      <th>specialisation</th>\n",
              "      <th>Mkt&amp;Fin</th>\n",
              "      <th>Mkt&amp;HR</th>\n",
              "    </tr>\n",
              "    <tr>\n",
              "      <th>status</th>\n",
              "      <th></th>\n",
              "      <th></th>\n",
              "    </tr>\n",
              "  </thead>\n",
              "  <tbody>\n",
              "    <tr>\n",
              "      <th>Not Placed</th>\n",
              "      <td>37.31</td>\n",
              "      <td>62.69</td>\n",
              "    </tr>\n",
              "    <tr>\n",
              "      <th>Placed</th>\n",
              "      <td>64.19</td>\n",
              "      <td>35.81</td>\n",
              "    </tr>\n",
              "  </tbody>\n",
              "</table>\n",
              "</div>\n",
              "      <button class=\"colab-df-convert\" onclick=\"convertToInteractive('df-632c4061-85ba-4d83-b4dd-d0851dd76863')\"\n",
              "              title=\"Convert this dataframe to an interactive table.\"\n",
              "              style=\"display:none;\">\n",
              "        \n",
              "  <svg xmlns=\"http://www.w3.org/2000/svg\" height=\"24px\"viewBox=\"0 0 24 24\"\n",
              "       width=\"24px\">\n",
              "    <path d=\"M0 0h24v24H0V0z\" fill=\"none\"/>\n",
              "    <path d=\"M18.56 5.44l.94 2.06.94-2.06 2.06-.94-2.06-.94-.94-2.06-.94 2.06-2.06.94zm-11 1L8.5 8.5l.94-2.06 2.06-.94-2.06-.94L8.5 2.5l-.94 2.06-2.06.94zm10 10l.94 2.06.94-2.06 2.06-.94-2.06-.94-.94-2.06-.94 2.06-2.06.94z\"/><path d=\"M17.41 7.96l-1.37-1.37c-.4-.4-.92-.59-1.43-.59-.52 0-1.04.2-1.43.59L10.3 9.45l-7.72 7.72c-.78.78-.78 2.05 0 2.83L4 21.41c.39.39.9.59 1.41.59.51 0 1.02-.2 1.41-.59l7.78-7.78 2.81-2.81c.8-.78.8-2.07 0-2.86zM5.41 20L4 18.59l7.72-7.72 1.47 1.35L5.41 20z\"/>\n",
              "  </svg>\n",
              "      </button>\n",
              "      \n",
              "  <style>\n",
              "    .colab-df-container {\n",
              "      display:flex;\n",
              "      flex-wrap:wrap;\n",
              "      gap: 12px;\n",
              "    }\n",
              "\n",
              "    .colab-df-convert {\n",
              "      background-color: #E8F0FE;\n",
              "      border: none;\n",
              "      border-radius: 50%;\n",
              "      cursor: pointer;\n",
              "      display: none;\n",
              "      fill: #1967D2;\n",
              "      height: 32px;\n",
              "      padding: 0 0 0 0;\n",
              "      width: 32px;\n",
              "    }\n",
              "\n",
              "    .colab-df-convert:hover {\n",
              "      background-color: #E2EBFA;\n",
              "      box-shadow: 0px 1px 2px rgba(60, 64, 67, 0.3), 0px 1px 3px 1px rgba(60, 64, 67, 0.15);\n",
              "      fill: #174EA6;\n",
              "    }\n",
              "\n",
              "    [theme=dark] .colab-df-convert {\n",
              "      background-color: #3B4455;\n",
              "      fill: #D2E3FC;\n",
              "    }\n",
              "\n",
              "    [theme=dark] .colab-df-convert:hover {\n",
              "      background-color: #434B5C;\n",
              "      box-shadow: 0px 1px 3px 1px rgba(0, 0, 0, 0.15);\n",
              "      filter: drop-shadow(0px 1px 2px rgba(0, 0, 0, 0.3));\n",
              "      fill: #FFFFFF;\n",
              "    }\n",
              "  </style>\n",
              "\n",
              "      <script>\n",
              "        const buttonEl =\n",
              "          document.querySelector('#df-632c4061-85ba-4d83-b4dd-d0851dd76863 button.colab-df-convert');\n",
              "        buttonEl.style.display =\n",
              "          google.colab.kernel.accessAllowed ? 'block' : 'none';\n",
              "\n",
              "        async function convertToInteractive(key) {\n",
              "          const element = document.querySelector('#df-632c4061-85ba-4d83-b4dd-d0851dd76863');\n",
              "          const dataTable =\n",
              "            await google.colab.kernel.invokeFunction('convertToInteractive',\n",
              "                                                     [key], {});\n",
              "          if (!dataTable) return;\n",
              "\n",
              "          const docLinkHtml = 'Like what you see? Visit the ' +\n",
              "            '<a target=\"_blank\" href=https://colab.research.google.com/notebooks/data_table.ipynb>data table notebook</a>'\n",
              "            + ' to learn more about interactive tables.';\n",
              "          element.innerHTML = '';\n",
              "          dataTable['output_type'] = 'display_data';\n",
              "          await google.colab.output.renderOutput(dataTable, element);\n",
              "          const docLink = document.createElement('div');\n",
              "          docLink.innerHTML = docLinkHtml;\n",
              "          element.appendChild(docLink);\n",
              "        }\n",
              "      </script>\n",
              "    </div>\n",
              "  </div>\n",
              "  "
            ]
          },
          "metadata": {},
          "execution_count": 16
        }
      ]
    },
    {
      "cell_type": "markdown",
      "metadata": {
        "id": "5hoKuBkrtnRH"
      },
      "source": [
        "**Observation:**The % of placement is much higher in Mkt&Fin (64%) as compared to Mkt&HR (36%)\n",
        "\n",
        "**Insight:** The BFSI sector is booming and the jobs related to that field are in more demand\n",
        "\n",
        "**Business Benefit:** The educational institute can plan to increase its intake of students for Mkt&Fin field\n",
        "\n",
        "\n",
        "> **Here, Pivot Table is a type of Statistical Analysis performed on the data which resulted in gettng some useful information from the otherwise unvaluable data.**\n",
        "\n",
        "> **_This is the importance of Statistical Analysis in Businesses._**\n",
        "\n"
      ]
    },
    {
      "cell_type": "markdown",
      "metadata": {
        "id": "DF8hhaAfhMwo"
      },
      "source": [
        "## **Part 2: Measures of Central Tendency**"
      ]
    },
    {
      "cell_type": "markdown",
      "metadata": {
        "id": "FfGXrPmNat5u"
      },
      "source": [
        "The online sector, referred to as “clicks,” has been slowly eating up market share in the past two decades.\n",
        "\n",
        "E-commerce platform allows people to buy products from books, toys, clothes, and shoes to food, furniture, and other household items.\n",
        "\n",
        "ABOUT THE DATA\n",
        "\n",
        "This is a data set of US superstore from 2014-2018\n",
        "\n",
        "Let us understand the attributes of this data set:\n",
        "\n",
        "1. 'Row ID' - This is nothing but Serial No.\n",
        "2. 'Order ID' - ID created when a product order is placed.\n",
        "3. 'Order Date' - Date on which a customer places his/her order.\n",
        "4. 'Ship Date' - Date on which the order is shipped.\n",
        "5. 'Ship Mode' - Mode of shipment of each order.\n",
        "6. 'Customer ID' - ID assigned to each customer who places an order.\n",
        "7. 'Customer Name' - Name of Customer.\n",
        "8. 'Segment' - Section from where the order is placed.\n",
        "9. 'Country' - Country details of this data set. We are looking only for US store data.\n",
        "10. 'City' - Cities of US are listed here.\n",
        "11. 'State' - States of US are listed here.\n",
        "12. 'Postal Code' - pin code\n",
        "13. 'Region' - grouped into region wise\n",
        "14. 'Product ID' - Product ID of each product\n",
        "15. 'Category' - Category to which each product belongs to.\n",
        "16. 'Sub-Category' - Sub-Category of each Category\n",
        "17. 'Product Name' - Name of products.\n",
        "18. 'Sales' - Selling Price of each product.\n",
        "19. 'Quantity' - number of quantity available for a particular product.\n",
        "20. 'Discount' - Discount available on each product.\n",
        "21. 'Profit' - Profit gained on each product.\n",
        "\n"
      ]
    },
    {
      "cell_type": "markdown",
      "metadata": {
        "id": "HSuO_KvtBjfO"
      },
      "source": [
        "###**Tasks to be Performed:**\n",
        "\n",
        "- What is the average sales of products between the year 2014 and 2018 and, also find the average amount of products purchased by customers?\n",
        "- What is the median profit gained between the years 2014 and 2018?\n",
        "- Find out the most sold product in the US\n",
        "\n",
        "\n"
      ]
    },
    {
      "cell_type": "markdown",
      "metadata": {
        "id": "44asn7NjitzA"
      },
      "source": [
        "###**Downloading the dataset from the Dropbox**"
      ]
    },
    {
      "cell_type": "code",
      "metadata": {
        "id": "hkbHRYqhitzA"
      },
      "source": [
        "#Downloading the Dataset from the Dropbox\n",
        "\n",
        "!wget https://www.dropbox.com/s/kpzd0uzqczklfly/US%20Superstore%20data.xls"
      ],
      "execution_count": null,
      "outputs": []
    },
    {
      "cell_type": "code",
      "metadata": {
        "id": "8k-18--mlTeq"
      },
      "source": [
        "df = pd.read_excel('US Superstore data.xls')\n",
        "df.head(10)"
      ],
      "execution_count": null,
      "outputs": []
    },
    {
      "cell_type": "markdown",
      "metadata": {
        "id": "8yB3-EpiPBxb"
      },
      "source": [
        "###**Measures of Central Tendency**"
      ]
    },
    {
      "cell_type": "markdown",
      "metadata": {
        "id": "9vLwEppGYlwB"
      },
      "source": [
        "####**Task 1:**\n",
        "What is the average sales of products between the year 2014 and 2018 and, also find the average amount of products purchased by customers?\n",
        "\n",
        "**Mean**"
      ]
    },
    {
      "cell_type": "code",
      "metadata": {
        "id": "5m9jLjWpdG39"
      },
      "source": [
        "df[['Quantity','Sales']].mean()"
      ],
      "execution_count": null,
      "outputs": []
    },
    {
      "cell_type": "code",
      "metadata": {
        "id": "SI7eXTV-e-5W"
      },
      "source": [
        "#Using method from Numpy\n",
        "np.mean(df.Quantity)"
      ],
      "execution_count": null,
      "outputs": []
    },
    {
      "cell_type": "markdown",
      "metadata": {
        "id": "uIOLOmnhcsEG"
      },
      "source": [
        "####**Task 2:**\n",
        "What is the median profit gained between the years 2014 and 2018?\n",
        "\n",
        "**Median**"
      ]
    },
    {
      "cell_type": "code",
      "metadata": {
        "id": "H8cTtLg-h4ah"
      },
      "source": [
        "df['Profit'].median()"
      ],
      "execution_count": null,
      "outputs": []
    },
    {
      "cell_type": "code",
      "metadata": {
        "id": "t49zxomufPyW"
      },
      "source": [
        "#Using method from Numpy\n",
        "np.median(df.Profit)"
      ],
      "execution_count": null,
      "outputs": []
    },
    {
      "cell_type": "markdown",
      "metadata": {
        "id": "NFyRKFUrh4zT"
      },
      "source": [
        "####**Task 3:**\n",
        "\n",
        "Find out the most sold product in the US\n",
        "\n",
        "**Mode**"
      ]
    },
    {
      "cell_type": "code",
      "metadata": {
        "id": "iOG_qejyX706"
      },
      "source": [
        "df['Product Name'].mode()"
      ],
      "execution_count": null,
      "outputs": []
    },
    {
      "cell_type": "markdown",
      "metadata": {
        "id": "jg2MGDlu3Uhc"
      },
      "source": [
        "###**Mean Vs. Median Vs. Mode**"
      ]
    },
    {
      "cell_type": "markdown",
      "metadata": {
        "id": "U9u_YWeAa38y"
      },
      "source": [
        "####**Dataset Description**\n",
        "\n",
        "The data set consists of Placement data of students in a Riverview Engineering College. It includes secondary and higher secondary school percentage and specialization. It also includes degree specialization, type and Work experience and salary offers to the placed students. \n",
        "\n",
        "Perform Descriptive Statistics on it to extract useful insights"
      ]
    },
    {
      "cell_type": "code",
      "metadata": {
        "id": "ddcI-Ndl3Tte"
      },
      "source": [
        "!wget https://www.dropbox.com/s/755hnawo000aeaw/Placement_Data_Full_Class.csv"
      ],
      "execution_count": null,
      "outputs": []
    },
    {
      "cell_type": "code",
      "metadata": {
        "id": "SKGhCr4Q3dT6"
      },
      "source": [
        "campus = pd.read_csv('Placement_Data_Full_Class.csv')\n",
        "campus.tail()"
      ],
      "execution_count": null,
      "outputs": []
    },
    {
      "cell_type": "code",
      "metadata": {
        "id": "3BSdtsoO3dZc"
      },
      "source": [
        "campus['salary'].mean()"
      ],
      "execution_count": null,
      "outputs": []
    },
    {
      "cell_type": "markdown",
      "metadata": {
        "id": "sqpw5kC3bjHE"
      },
      "source": [
        "___\n",
        "**Observations:**\n",
        "- The average salary offered to students in Riverview Engineering College is **5,04,743** (5 lacs approx.) \n",
        "___"
      ]
    },
    {
      "cell_type": "code",
      "metadata": {
        "id": "Uq5DhkV53dQh"
      },
      "source": [
        "campus['salary'].median()"
      ],
      "execution_count": null,
      "outputs": []
    },
    {
      "cell_type": "markdown",
      "metadata": {
        "id": "VGjLoKsgb5KU"
      },
      "source": [
        "___\n",
        "**Observations:**\n",
        "- The median salary is **2,65,000** (2 lac & 65 thousand), which is quite less than the average salary offered to students\n",
        "- From this, we can understand how calculating average can be misleading \n",
        "- We can assume that this is happening because there are outliers in the dataset, which means that **one or two students in the college have been offered a salary much greater than the average students**, which is quite common in every college.\n",
        "___"
      ]
    },
    {
      "cell_type": "markdown",
      "metadata": {
        "id": "_5WSX2TjdN90"
      },
      "source": [
        "Let us check the maximum salary offered to verify our assumption"
      ]
    },
    {
      "cell_type": "code",
      "metadata": {
        "id": "kn56p_ea3yI2"
      },
      "source": [
        "campus['salary'].max()"
      ],
      "execution_count": null,
      "outputs": []
    },
    {
      "cell_type": "markdown",
      "metadata": {
        "id": "e90FNEbNdZ_h"
      },
      "source": [
        "___\n",
        "**Observations:**\n",
        "- From above, you can see that the maximum salary offered to a student is **10,000,000** (1 Crore or 10 Million)\n",
        "- This is because the average salary is much more than the median salary offered\n",
        "___"
      ]
    },
    {
      "cell_type": "code",
      "metadata": {
        "id": "3taa5Kx43udu"
      },
      "source": [
        "campus['salary'].mode()"
      ],
      "execution_count": null,
      "outputs": []
    },
    {
      "cell_type": "markdown",
      "metadata": {
        "id": "o8_cNyBKd_xn"
      },
      "source": [
        "___\n",
        "**Observation:**\n",
        "- From above, we can see that the most of the students received a salary of about **3,00,000** (3 lac)\n",
        "___"
      ]
    },
    {
      "cell_type": "markdown",
      "metadata": {
        "id": "7zPKqnXxjdHy"
      },
      "source": [
        "##**Part 3: Data Types**\n",
        "\n"
      ]
    },
    {
      "cell_type": "markdown",
      "metadata": {
        "id": "egOv8WTtjdHz"
      },
      "source": [
        "###**Qualitative Data & Quantitative Data**"
      ]
    },
    {
      "cell_type": "code",
      "metadata": {
        "id": "RZX_PE0qjdH1"
      },
      "source": [
        "import seaborn as sns\n",
        "import matplotlib.pyplot as plt\n",
        "sns.set()\n",
        "\n",
        "sns.barplot(x = 'Region', y = 'Sales', data = df, ci = None)\n",
        "plt.xlabel('Region: A Qualitative Data')\n",
        "plt.ylabel('Sales: Quantitative Data')\n",
        "\n",
        "plt.show()"
      ],
      "execution_count": null,
      "outputs": []
    },
    {
      "cell_type": "markdown",
      "metadata": {
        "id": "M21yytmImdpE"
      },
      "source": [
        "**Observation:** \n",
        "\n",
        "\n",
        "*   Data represented in the form of Categories (X-axis) - Qualitative Data\n",
        "*   Data represented using continuous numrical values (Y-axis) - Quantitative Data\n",
        "\n",
        "\n"
      ]
    },
    {
      "cell_type": "markdown",
      "metadata": {
        "id": "FcpVYup2jdH4"
      },
      "source": [
        "###**Qualitative Data**\n",
        "- Nominal\n",
        "- Ordinal    \n"
      ]
    },
    {
      "cell_type": "markdown",
      "metadata": {
        "id": "5cP3R8CyjdH5"
      },
      "source": [
        "####**Nominal Data**"
      ]
    },
    {
      "cell_type": "code",
      "metadata": {
        "id": "BVOQLLRnjdH6"
      },
      "source": [
        "df_new = pd.DataFrame(df['Sub-Category'])\n",
        "df_new.head()"
      ],
      "execution_count": null,
      "outputs": []
    },
    {
      "cell_type": "markdown",
      "metadata": {
        "id": "UOOoMd_3m9-S"
      },
      "source": [
        "**Observation:** Distinct types of furniture such as *Chairs* or *Tables*, hence Nominal Data."
      ]
    },
    {
      "cell_type": "markdown",
      "metadata": {
        "id": "U9f5dHYXjdH7"
      },
      "source": [
        "####**Ordinal Data**"
      ]
    },
    {
      "cell_type": "code",
      "metadata": {
        "id": "KhivAGbIjdH8"
      },
      "source": [
        "df_new = pd.DataFrame(df[['Customer ID', 'Ship Mode']])\n",
        "df_new.head()"
      ],
      "execution_count": null,
      "outputs": []
    },
    {
      "cell_type": "markdown",
      "metadata": {
        "id": "o52Dl-4qnMpT"
      },
      "source": [
        "**Observation:** Distinct types of shipment methods which can be oredered on the basis of priority, hence Ordinal Data."
      ]
    },
    {
      "cell_type": "markdown",
      "metadata": {
        "id": "5krrJ7m7jdH-"
      },
      "source": [
        "###**Quantitative Data**\n",
        "- Discrete\n",
        "- Continuous   \n"
      ]
    },
    {
      "cell_type": "markdown",
      "metadata": {
        "id": "77zSLgRXjdH_"
      },
      "source": [
        "####**Discrete Data**"
      ]
    },
    {
      "cell_type": "code",
      "metadata": {
        "id": "TmBAR_6-jdH_"
      },
      "source": [
        "df_new = pd.DataFrame(df[['Customer Name','Quantity']])\n",
        "df_new.sample(5)"
      ],
      "execution_count": null,
      "outputs": []
    },
    {
      "cell_type": "markdown",
      "metadata": {
        "id": "bxDk_RRdni9b"
      },
      "source": [
        "**Observation:** Distinct numerical values of Quantity such as *2*, *5*, etc. in a finite range, hence Discrete Data."
      ]
    },
    {
      "cell_type": "markdown",
      "metadata": {
        "id": "atYlvVymjdIB"
      },
      "source": [
        "####**Continuous Data**"
      ]
    },
    {
      "cell_type": "code",
      "metadata": {
        "id": "MRwgXwPBjdIC"
      },
      "source": [
        "df_new = pd.DataFrame(df[['Customer Name','Sales']])\n",
        "df_new.sample(5)"
      ],
      "execution_count": null,
      "outputs": []
    },
    {
      "cell_type": "markdown",
      "metadata": {
        "id": "_2nOSzb4n-CA"
      },
      "source": [
        "**Observation:** Any real value for Sales, hence Continuous Data."
      ]
    },
    {
      "cell_type": "markdown",
      "metadata": {
        "id": "dkzeH1wVyTLE"
      },
      "source": [
        "##**Why Learn Statistics?**\n",
        "\n",
        "- Important for [Data Science Interviews](https://www.edureka.co/blog/interview-questions/data-science-interview-questions/#statistics)\n",
        "- It's a fundamental concept\n",
        "- Your basics must be clear before going on advanced topics"
      ]
    }
  ]
}